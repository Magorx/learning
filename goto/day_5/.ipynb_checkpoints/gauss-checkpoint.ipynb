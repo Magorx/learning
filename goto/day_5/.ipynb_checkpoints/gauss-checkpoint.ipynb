{
 "cells": [
  {
   "cell_type": "code",
   "execution_count": 1,
   "metadata": {},
   "outputs": [],
   "source": [
    "import torch\n",
    "import numpy as np\n",
    "import matplotlib.pyplot as plt"
   ]
  },
  {
   "cell_type": "code",
   "execution_count": 48,
   "metadata": {},
   "outputs": [],
   "source": [
    "dots_one = np.random.normal(100, size = (100, 2), scale=10)\n",
    "dots_two = np.random.normal(70, size = (100, 2), scale=10)\n",
    "\n",
    "dat_1 = np.concatenate((dots_one, np.ones((dots_one.shape[0], 1), dtype=np.float64)), axis=1)\n",
    "dat_0 = np.concatenate((dots_two, np.ones((dots_one.shape[0], 1), dtype=np.float64)), axis=1)\n",
    "dat = np.concatenate((dat_0, dat_1))"
   ]
  },
  {
   "cell_type": "code",
   "execution_count": 87,
   "metadata": {},
   "outputs": [
    {
     "ename": "TypeError",
     "evalue": "transpose() missing 2 required positional argument: \"dim0\", \"dim1\"",
     "output_type": "error",
     "traceback": [
      "\u001b[0;31m---------------------------------------------------------------------------\u001b[0m",
      "\u001b[0;31mTypeError\u001b[0m                                 Traceback (most recent call last)",
      "\u001b[0;32m<ipython-input-87-3d75b3741f74>\u001b[0m in \u001b[0;36m<module>\u001b[0;34m()\u001b[0m\n\u001b[1;32m      9\u001b[0m \u001b[0msx\u001b[0m\u001b[0;34m,\u001b[0m \u001b[0msy\u001b[0m \u001b[0;34m=\u001b[0m \u001b[0;36m100\u001b[0m\u001b[0;34m,\u001b[0m \u001b[0;36m80\u001b[0m\u001b[0;34m\u001b[0m\u001b[0m\n\u001b[1;32m     10\u001b[0m \u001b[0mdraw\u001b[0m\u001b[0;34m(\u001b[0m\u001b[0mdots_one\u001b[0m\u001b[0;34m,\u001b[0m \u001b[0mdots_two\u001b[0m\u001b[0;34m)\u001b[0m\u001b[0;34m\u001b[0m\u001b[0m\n\u001b[0;32m---> 11\u001b[0;31m \u001b[0md\u001b[0m \u001b[0;34m=\u001b[0m \u001b[0mw_mse\u001b[0m\u001b[0;34m.\u001b[0m\u001b[0mtranspose\u001b[0m\u001b[0;34m(\u001b[0m\u001b[0;34m)\u001b[0m\u001b[0;34m.\u001b[0m\u001b[0mdetach\u001b[0m\u001b[0;34m(\u001b[0m\u001b[0;34m)\u001b[0m\u001b[0;34m.\u001b[0m\u001b[0mnumpy\u001b[0m\u001b[0;34m(\u001b[0m\u001b[0;34m)\u001b[0m\u001b[0;34m*\u001b[0m\u001b[0;36m1e3\u001b[0m\u001b[0;34m\u001b[0m\u001b[0m\n\u001b[0m\u001b[1;32m     12\u001b[0m \u001b[0marrow\u001b[0m\u001b[0;34m(\u001b[0m\u001b[0msx\u001b[0m\u001b[0;34m,\u001b[0m \u001b[0msy\u001b[0m\u001b[0;34m,\u001b[0m \u001b[0msx\u001b[0m \u001b[0;34m+\u001b[0m \u001b[0md\u001b[0m\u001b[0;34m[\u001b[0m\u001b[0;36m0\u001b[0m\u001b[0;34m]\u001b[0m\u001b[0;34m[\u001b[0m\u001b[0;36m0\u001b[0m\u001b[0;34m]\u001b[0m\u001b[0;34m,\u001b[0m \u001b[0msy\u001b[0m \u001b[0;34m+\u001b[0m \u001b[0md\u001b[0m\u001b[0;34m[\u001b[0m\u001b[0;36m1\u001b[0m\u001b[0;34m]\u001b[0m\u001b[0;34m[\u001b[0m\u001b[0;36m0\u001b[0m\u001b[0;34m]\u001b[0m\u001b[0;34m,\u001b[0m \u001b[0mplt\u001b[0m\u001b[0;34m)\u001b[0m\u001b[0;34m\u001b[0m\u001b[0m\n",
      "\u001b[0;31mTypeError\u001b[0m: transpose() missing 2 required positional argument: \"dim0\", \"dim1\""
     ]
    },
    {
     "data": {
      "image/png": "[encoded data removed]",
      "text/plain": [
       "<Figure size 432x288 with 1 Axes>"
      ]
     },
     "metadata": {},
     "output_type": "display_data"
    }
   ],
   "source": [
    "def draw(arr1, arr2):\n",
    "    plt.scatter(arr1[:, 0], arr1[:, 1])\n",
    "    plt.scatter(arr2[:, 0], arr2[:, 1], color='green')\n",
    "\n",
    "def arrow(x1, y1, x2, y2, plt):\n",
    "    ax = plt.axes()\n",
    "    ax.arrow(x1, y1, x2, y2, head_width=0.05, head_length=0.1, fc='k', ec='k')\n",
    "\n",
    "sx, sy = 100, 80\n",
    "draw(dots_one, dots_two)\n",
    "d = w_mse.detach().numpy()*1e3\n",
    "arrow(sx, sy, sx + d[0][0], sy + d[1][0], plt)"
   ]
  },
  {
   "cell_type": "code",
   "execution_count": 51,
   "metadata": {},
   "outputs": [],
   "source": [
    "def sigmoida(x):\n",
    "    return 1 / (1 + torch.exp(x))"
   ]
  },
  {
   "cell_type": "code",
   "execution_count": 52,
   "metadata": {},
   "outputs": [],
   "source": [
    "dat_torch = torch.from_numpy(dat[:, 0:2]).double()\n",
    "target_torch = torch.from_numpy(dat[:, 2]).double().reshape((-1, 1))"
   ]
  },
  {
   "cell_type": "code",
   "execution_count": 69,
   "metadata": {},
   "outputs": [],
   "source": [
    "w_mse = torch.tensor([[1], [1]], dtype=torch.float64, requires_grad=True).double()\n",
    "w_logloss = torch.tensor([[1, 1]], dtype=torch.float64)\n",
    "\n",
    "z_mse = dat_torch.mm(w_mse) - target_torch\n",
    "goal_mse = z_mse.pow(2).sum()\n",
    "goal_mse.backward()\n",
    "gamma = 1e-6\n",
    "\n",
    "t = 100\n",
    "while t > 0:\n",
    "    t -= 1\n",
    "    z_mse = dat_torch.mm(w_mse) - target_torch\n",
    "    goal_mse = z_mse.pow(2).sum() / z_mse.shape[0]\n",
    "    goal_mse.backward()\n",
    "\n",
    "    with torch.no_grad():\n",
    "        w_mse -= gamma * w_mse.grad\n",
    "        w_mse.grad.zero_()"
   ]
  },
  {
   "cell_type": "code",
   "execution_count": 70,
   "metadata": {},
   "outputs": [
    {
     "data": {
      "text/plain": [
       "tensor([[-0.2315],\n",
       "        [-0.2410]], dtype=torch.float64)"
      ]
     },
     "execution_count": 70,
     "metadata": {},
     "output_type": "execute_result"
    }
   ],
   "source": [
    "w_mse"
   ]
  },
  {
   "cell_type": "code",
   "execution_count": 71,
   "metadata": {},
   "outputs": [
    {
     "data": {
      "text/plain": [
       "tensor(1880.5705, dtype=torch.float64)"
      ]
     },
     "execution_count": 71,
     "metadata": {},
     "output_type": "execute_result"
    }
   ],
   "source": []
  },
  {
   "cell_type": "code",
   "execution_count": null,
   "metadata": {},
   "outputs": [],
   "source": []
  }
 ],
 "metadata": {
  "kernelspec": {
   "display_name": "Python 3",
   "language": "python",
   "name": "python3"
  },
  "language_info": {
   "codemirror_mode": {
    "name": "ipython",
    "version": 3
   },
   "file_extension": ".py",
   "mimetype": "text/x-python",
   "name": "python",
   "nbconvert_exporter": "python",
   "pygments_lexer": "ipython3",
   "version": "3.6.2"
  }
 },
 "nbformat": 4,
 "nbformat_minor": 2
}
