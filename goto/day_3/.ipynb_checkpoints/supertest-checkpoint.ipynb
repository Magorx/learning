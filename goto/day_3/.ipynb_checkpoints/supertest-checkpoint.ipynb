{
 "cells": [
  {
   "cell_type": "code",
   "execution_count": 1,
   "metadata": {},
   "outputs": [],
   "source": [
    "import numpy as np\n",
    "import pandas as pd\n",
    "import sklearn as sk\n",
    "from sklearn import model_selection\n",
    "from sklearn.linear_model import LogisticRegression\n",
    "import matplotlib.pyplot as plt"
   ]
  },
  {
   "cell_type": "code",
   "execution_count": 2,
   "metadata": {},
   "outputs": [],
   "source": [
    "tweets = pd.read_csv(\"Tweets data.csv\", encoding = \"ISO-8859-1\")\n",
    "target = tweets['Sentiment']"
   ]
  },
  {
   "cell_type": "code",
   "execution_count": 3,
   "metadata": {},
   "outputs": [],
   "source": [
    "def hash_trick(s):\n",
    "    s.lower()\n",
    "\n",
    "    #n = 25\n",
    "    #arr = np.zeros(n)\n",
    "    #for i in range(len(s) - 2):\n",
    "    #    arr[hash(s[i:i+2]) % n] += 1\n",
    "    \n",
    "    n = 80\n",
    "    tarr = np.zeros(n)\n",
    "    for i in range(len(s) - 2):\n",
    "        tarr[hash(s[i:i+2]) % n] += 1\n",
    "        \n",
    "    return pd.Series(tarr)\n",
    "    "
   ]
  },
  {
   "cell_type": "code",
   "execution_count": 4,
   "metadata": {},
   "outputs": [],
   "source": [
    "data = tweets.SentimentText.apply(hash_trick)"
   ]
  },
  {
   "cell_type": "code",
   "execution_count": 13,
   "metadata": {},
   "outputs": [],
   "source": [
    "data['target'] = target\n",
    "data.drop('target', axis=1, inplace=True)\n",
    "from sklearn.metrics import roc_auc_score"
   ]
  },
  {
   "cell_type": "code",
   "execution_count": 6,
   "metadata": {},
   "outputs": [],
   "source": [
    "X_train, X_test, Y_train, Y_test = model_selection.train_test_split(data, target, test_size=0.25, random_state=42)"
   ]
  },
  {
   "cell_type": "code",
   "execution_count": 7,
   "metadata": {},
   "outputs": [
    {
     "name": "stdout",
     "output_type": "stream",
     "text": [
      "[1 1 1 ... 1 0 0]\n"
     ]
    },
    {
     "data": {
      "text/plain": [
       "0.6088887110968878"
      ]
     },
     "execution_count": 7,
     "metadata": {},
     "output_type": "execute_result"
    }
   ],
   "source": [
    "model = LogisticRegression()\n",
    "model.fit(X_train, Y_train)\n",
    "model.score(X_test, Y_test)"
   ]
  },
  {
   "cell_type": "code",
   "execution_count": 14,
   "metadata": {},
   "outputs": [],
   "source": [
    "def find_best():\n",
    "    for n in range(20, 100):\n",
    "        def hash_trick(s):\n",
    "            s.lower()\n",
    "\n",
    "            #n = 25\n",
    "            #arr = np.zeros(n)\n",
    "            #for i in range(len(s) - 2):\n",
    "            #    arr[hash(s[i:i+2]) % n] += 1\n",
    "            \n",
    "            tarr = np.zeros(n)\n",
    "            for i in range(len(s) - 2):\n",
    "                tarr[hash(s[i:i+2]) % n] += 1\n",
    "\n",
    "            return pd.Series(tarr)\n",
    "\n",
    "        data = tweets.SentimentText.apply(hash_trick)\n",
    "        X_train, X_test, Y_train, Y_test = model_selection.train_test_split(data, target, test_size=0.25, random_state=42)\n",
    "\n",
    "        model = LogisticRegression()\n",
    "        model.fit(X_train, Y_train)\n",
    "        print(n, ') ', roc_auc_score(Y_test, model.predict(X_test)), sep = '')"
   ]
  },
  {
   "cell_type": "code",
   "execution_count": null,
   "metadata": {},
   "outputs": [],
   "source": [
    "find_best()"
   ]
  },
  {
   "cell_type": "code",
   "execution_count": null,
   "metadata": {},
   "outputs": [],
   "source": []
  }
 ],
 "metadata": {
  "kernelspec": {
   "display_name": "Python 3",
   "language": "python",
   "name": "python3"
  },
  "language_info": {
   "codemirror_mode": {
    "name": "ipython",
    "version": 3
   },
   "file_extension": ".py",
   "mimetype": "text/x-python",
   "name": "python",
   "nbconvert_exporter": "python",
   "pygments_lexer": "ipython3",
   "version": "3.6.2"
  }
 },
 "nbformat": 4,
 "nbformat_minor": 2
}
