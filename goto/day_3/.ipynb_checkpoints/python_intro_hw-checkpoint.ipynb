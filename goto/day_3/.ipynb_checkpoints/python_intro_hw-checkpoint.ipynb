{
 "cells": [
  {
   "cell_type": "markdown",
   "metadata": {},
   "source": [
    "# Д/з по python"
   ]
  },
  {
   "cell_type": "markdown",
   "metadata": {},
   "source": [
    "## 1\n",
    "Даны два момента времени в пределах одних и тех же суток. Для каждого момента указан час, минута и секунда через перевод строки \\n. Известно, что второй момент времени наступил не раньше первого.\n",
    "Выведите сколько секунд прошло между двумя моментами времени."
   ]
  },
  {
   "cell_type": "code",
   "execution_count": 3,
   "metadata": {
    "collapsed": true
   },
   "outputs": [
    {
     "name": "stdout",
     "output_type": "stream",
     "text": [
      "3600\n"
     ]
    },
    {
     "data": {
      "text/plain": [
       "3600"
      ]
     },
     "execution_count": 3,
     "metadata": {},
     "output_type": "execute_result"
    }
   ],
   "source": [
    "h1, m1, s1 = map(int, input().split())\n",
    "h2, m2, s2 = map(int, input().split())\n",
    "print(s2 + m2 * 60 + h2 * 60 * 60 - (s1 + m1 * 60 + h1 * 60 * 60))"
   ]
  },
  {
   "cell_type": "markdown",
   "metadata": {},
   "source": [
    "## 2\n",
    "Напишите функцию, подсчитывающую количество способов разбить `n` фантиков на множества по `1`, `5`, `10` фантиков.\n",
    "\n",
    "---\n",
    "\n",
    "Write a function which counts ways to form groups of `1`, `5`, `10` items from the `n` items given."
   ]
  },
  {
   "cell_type": "code",
   "execution_count": null,
   "metadata": {
    "collapsed": true
   },
   "outputs": [],
   "source": []
  },
  {
   "cell_type": "markdown",
   "metadata": {},
   "source": [
    "## 3\n",
    "Совершенное число -- это натуральное число, равное сумме всех своих делителей, отличных от самого числа и `1`. В этой задаче предлагается познать совершенство."
   ]
  },
  {
   "cell_type": "code",
   "execution_count": 7,
   "metadata": {
    "collapsed": true
   },
   "outputs": [
    {
     "data": {
      "text/plain": [
       "True"
      ]
     },
     "execution_count": 7,
     "metadata": {},
     "output_type": "execute_result"
    }
   ],
   "source": [
    "def primfacs(n):\n",
    "   i = 2\n",
    "   primfac = []\n",
    "   while i * i <= n:\n",
    "       while n % i == 0:\n",
    "           primfac.append(i)\n",
    "           n = n / i\n",
    "       i = i + 1\n",
    "   if n > 1:\n",
    "       primfac.append(n)\n",
    "   return primfac\n",
    "\n",
    "def is_perfect(n):\n",
    "    arr = primfacs(n)\n",
    "    return sum(arr + [1]) == n\n",
    "\n",
    "is_perfect(6)"
   ]
  },
  {
   "cell_type": "markdown",
   "metadata": {},
   "source": [
    "## 4\n",
    "Напишите функцию, которая принимает на вход строку с паролем и возвращает вердикт \"strong\" или \"weak\".\n",
    "\n",
    "В хорошем (\"strong\") пароле обязательно присутствуют:\n",
    "- буквы в разных регистрах\n",
    "- цифры\n",
    "- не менее `4` уникальных символов\n",
    "- не встречается имя пользователя латинницей (anna, iVan, ...) в любом регистре\n",
    "\n",
    "---\n",
    "\n",
    "Write a function which checks if your password is strong or weak.\n",
    "\n",
    "Strong password requirements:\n",
    "- contains different letter cases\n",
    "- contains digits\n",
    "- contains more than `4` unique symbols\n",
    "- there's no your name (anna, iVan, ...) in any form"
   ]
  },
  {
   "cell_type": "code",
   "execution_count": 21,
   "metadata": {
    "collapsed": true
   },
   "outputs": [
    {
     "name": "stdout",
     "output_type": "stream",
     "text": [
      "Bad password!\n"
     ]
    }
   ],
   "source": [
    "def is_strong(login, password):\n",
    "    lowercase = False\n",
    "    uppercase = False\n",
    "    digits = False\n",
    "    unique = False\n",
    "    includes_login = False\n",
    "\n",
    "    for i in range(len(password)):\n",
    "        if password[i].islower():\n",
    "            lowercase = True\n",
    "        if password[i].isupper():\n",
    "            uppercase = True\n",
    "        if password[i].isdigit():\n",
    "            digits = True\n",
    "    password.lower()\n",
    "    login.lower()\n",
    "    includes_login = password.find(login) == -1\n",
    "    unique = len(set(password)) > 4\n",
    "    \n",
    "    return lowercase and uppercase and digits and unique and not includes_login\n",
    "\n",
    "login, password = input('Username and password: ').split()\n",
    "\n",
    "print('Nice password!' if is_strong(login, password) else 'Bad password!')"
   ]
  },
  {
   "cell_type": "markdown",
   "metadata": {},
   "source": [
    "# 5\n",
    "Напишите программу, шифрующую переданную ей строку в английском алфавите алгоритмом Цезаря с ключом `n`, сдвигая каждый символ на `n` позиций по алфавиту. (При ключе `4`: `A` переходит в `E`, `L` в `P`, `Z` в `D` и т.д.). Не забудьте правильно обработать строчные и прописные буквы. (про шифр Цезаря подробнее можете почитать на [википедии](https://ru.wikipedia.org/wiki/%D0%A8%D0%B8%D1%84%D1%80_%D0%A6%D0%B5%D0%B7%D0%B0%D1%80%D1%8F))\n",
    "Формат ввода\n",
    "\n",
    "В первой строке передаётся ключ шифра -- целое число, которое может быть и отрицательным. Во второй -- строка которую надо зашифровать\n",
    "\n",
    "Вывести строку с зашифрованным текстом.\n",
    "\n",
    "---\n",
    "\n",
    "Write a program which encodes the string `s` with Caesar cipher with the given shift `n` [wiki](https://en.wikipedia.org/wiki/Caesar_cipher). (if `n = 4`: `A` goes to `E`, `L` goes to `P` etc.)\n",
    "\n",
    "Input:\n",
    "\n",
    "shift `n` (integer)\n",
    "\n",
    "string `s` to cipher\n",
    "\n",
    "Output:\n",
    "\n",
    "encoded `s`"
   ]
  },
  {
   "cell_type": "code",
   "execution_count": 28,
   "metadata": {
    "collapsed": true
   },
   "outputs": [
    {
     "data": {
      "text/plain": [
       "'Cc'"
      ]
     },
     "execution_count": 28,
     "metadata": {},
     "output_type": "execute_result"
    }
   ],
   "source": [
    "def to_caezar(s, n):\n",
    "    new_str = []\n",
    "    for c in s:\n",
    "        new_str.append(chr((ord(c) - ord('a') + n) % 26 + ord('a')) if c.islower() else chr((ord(c) - ord('A') + n) % 26 + ord('A')))\n",
    "    return ''.join(new_str)\n",
    "\n",
    "to_caezar('Zz', 29)"
   ]
  },
  {
   "cell_type": "markdown",
   "metadata": {},
   "source": [
    "# 6\n",
    "Пёс Жора находится на клетчатом поле размера `w x h` и очень голоден. На каждой клетке поля находится еда, стена, а также клетка может быть пустой. Жора может двигаться по пустым клеткам по горизонтали и вертикали, но не может проходить сквозь стены. Требуется найти сколько кусочков еды может найти Жора.\n",
    "\n",
    "**Формат ввода:**\n",
    "\n",
    "Первая строка -- размеры поля. Далее идут `w` строк длины `h`, состоящие из символов \"#\", \"@\", \"*\", \".\"\n",
    "- \"@\": начальная позиция Жоры\n",
    "- \"#\": стена\n",
    "- \"*\": кусочек еды,\n",
    "- \".\": пустая клетка\n",
    "\n",
    "Гарантируется, что все поле изначально окружено стеной.\n",
    "\n",
    "Необходимо вывести количество доступных для Жоры кусочков еды.\n",
    "\n",
    "**Пример 1**\n",
    "\n",
    "*Ввод:*\n",
    "\n",
    "3 7 \n",
    "#######\n",
    "#@...*#\n",
    "#######\n",
    "\n",
    "*Вывод:* 1\n",
    "\n",
    "**Пример 2**\n",
    "\n",
    "*Ввод:*\n",
    "3 5\n",
    "#####\n",
    "###@#\n",
    "#####\n",
    "\n",
    "*Вывод:* 0\n",
    "\n",
    "---\n",
    "\n",
    "Zhora the dog wants to eat. It can move around the `w x h` field. Each cell contains food, wall or can be empty.\n",
    "Your task is to count amount of food to be found by the dog.\n",
    "\n",
    "Input:\n",
    "\n",
    "field size `w x h`\n",
    "\n",
    "here go `w` lines of length `h` which contain one of the symbols \"#\", \"@\", \"*\", \".\"\n",
    "- \"@\": the dog start position\n",
    "- \"#\": the wall\n",
    "- \"*\": the food\n",
    "- \".\": the empty cell\n",
    "\n",
    "Output:\n",
    "\n",
    "amount of food which Zhora can find\n",
    "\n",
    "\n",
    "**Example 1**\n",
    "\n",
    "*Input:*\n",
    "\n",
    "3 7 \n",
    "#######\n",
    "#@...*#\n",
    "#######\n",
    "\n",
    "*Output:* 1\n",
    "\n",
    "**Example 2**\n",
    "\n",
    "*Input:*\n",
    "3 5\n",
    "#####\n",
    "###@#\n",
    "#####\n",
    "\n",
    "*Output:* 0\n"
   ]
  },
  {
   "cell_type": "code",
   "execution_count": null,
   "metadata": {
    "collapsed": true
   },
   "outputs": [],
   "source": [
    "from deque import queue\n",
    "shifts = [[0, 1], [1, 0], [0, -1], [-1, 0]]\n",
    "w, h = map(int, input().split())\n",
    "visited = [[0 for i in range(w)] for j in range(h)]\n",
    "q = queue()\n",
    "arr = []\n",
    "for i in w:\n",
    "    arr.append(input().split())\n",
    "    if arr[-1].find('@') != -1:\n",
    "        start_x, start_y = w, arr.index('@')\n",
    "\n",
    "q.append([start_x, start_y])\n",
    "while q.size():\n",
    "    cur_x, cur_y = q.pop()\n",
    "    for shift in shifts:\n",
    "        new_x, new_y = cur_x + shift[0], cur_y + shift[1]\n",
    "        if new_x < 0 or new_x >= w or new_y < 0 or new_y >= h:\n",
    "            continue\n",
    "        if new_"
   ]
  }
 ],
 "metadata": {
  "anaconda-cloud": {},
  "kernelspec": {
   "display_name": "Python 3",
   "language": "python",
   "name": "python3"
  },
  "language_info": {
   "codemirror_mode": {
    "name": "ipython",
    "version": 3
   },
   "file_extension": ".py",
   "mimetype": "text/x-python",
   "name": "python",
   "nbconvert_exporter": "python",
   "pygments_lexer": "ipython3",
   "version": "3.6.2"
  }
 },
 "nbformat": 4,
 "nbformat_minor": 2
}
