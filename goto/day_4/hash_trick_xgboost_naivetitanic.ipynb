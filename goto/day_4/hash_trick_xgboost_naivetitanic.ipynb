{
 "cells": [
  {
   "cell_type": "code",
   "execution_count": 129,
   "metadata": {},
   "outputs": [],
   "source": [
    "import numpy as np\n",
    "import pandas as pd\n",
    "from sklearn import model_selection, linear_model, metrics, ensemble\n",
    "import xgboost as xgb"
   ]
  },
  {
   "cell_type": "code",
   "execution_count": 40,
   "metadata": {},
   "outputs": [],
   "source": [
    "tweets = pd.DataFrame.from_csv(\"Tweets data.csv\", encoding = \"ISO-8859-1\")"
   ]
  },
  {
   "cell_type": "code",
   "execution_count": 45,
   "metadata": {},
   "outputs": [],
   "source": [
    "def ht(a):\n",
    "    n = 25\n",
    "    res = np.zeros(n)\n",
    "    for ind in range(0, len(a) - 2):\n",
    "        res[hash(a[ind:ind+2]) % n] += 1\n",
    "    return pd.Series(res)"
   ]
  },
  {
   "cell_type": "code",
   "execution_count": 49,
   "metadata": {},
   "outputs": [],
   "source": [
    "feat = tweets.SentimentText.apply(ht)"
   ]
  },
  {
   "cell_type": "code",
   "execution_count": 57,
   "metadata": {},
   "outputs": [],
   "source": [
    "x_train, x_test, y_train, y_test = model_selection.train_test_split(feat, tweets.Sentiment, random_state=42)"
   ]
  },
  {
   "cell_type": "code",
   "execution_count": 58,
   "metadata": {},
   "outputs": [
    {
     "data": {
      "text/plain": [
       "((74991, 25), (24998, 25), (74991,), (24998,))"
      ]
     },
     "execution_count": 58,
     "metadata": {},
     "output_type": "execute_result"
    }
   ],
   "source": [
    "x_train.shape, x_test.shape, y_train.shape, y_test.shape"
   ]
  },
  {
   "cell_type": "code",
   "execution_count": 60,
   "metadata": {},
   "outputs": [],
   "source": [
    "clf = linear_model.LogisticRegression()"
   ]
  },
  {
   "cell_type": "code",
   "execution_count": 61,
   "metadata": {},
   "outputs": [
    {
     "data": {
      "text/plain": [
       "LogisticRegression(C=1.0, class_weight=None, dual=False, fit_intercept=True,\n",
       "          intercept_scaling=1, max_iter=100, multi_class='ovr', n_jobs=1,\n",
       "          penalty='l2', random_state=None, solver='liblinear', tol=0.0001,\n",
       "          verbose=0, warm_start=False)"
      ]
     },
     "execution_count": 61,
     "metadata": {},
     "output_type": "execute_result"
    }
   ],
   "source": [
    "clf.fit(x_train, y_train)"
   ]
  },
  {
   "cell_type": "code",
   "execution_count": 65,
   "metadata": {},
   "outputs": [
    {
     "data": {
      "text/plain": [
       "0.5479203840312984"
      ]
     },
     "execution_count": 65,
     "metadata": {},
     "output_type": "execute_result"
    }
   ],
   "source": [
    "metrics.roc_auc_score(y_train, clf.predict(x_train))"
   ]
  },
  {
   "cell_type": "code",
   "execution_count": 66,
   "metadata": {},
   "outputs": [
    {
     "data": {
      "text/plain": [
       "0.5473353855015297"
      ]
     },
     "execution_count": 66,
     "metadata": {},
     "output_type": "execute_result"
    }
   ],
   "source": [
    "metrics.roc_auc_score(y_test, clf.predict(x_test))"
   ]
  },
  {
   "cell_type": "code",
   "execution_count": 71,
   "metadata": {},
   "outputs": [
    {
     "name": "stderr",
     "output_type": "stream",
     "text": [
      "/home/tass/.local/lib64/python3.5/site-packages/ipykernel_launcher.py:1: FutureWarning: reshape is deprecated and will raise in a subsequent release. Please use .values.reshape(...) instead\n",
      "  \"\"\"Entry point for launching an IPython kernel.\n"
     ]
    },
    {
     "data": {
      "text/plain": [
       "array([[0.38989317, 0.61010683]])"
      ]
     },
     "execution_count": 71,
     "metadata": {},
     "output_type": "execute_result"
    }
   ],
   "source": [
    "clf.predict_proba(ht('hello').reshape(1, -1))"
   ]
  },
  {
   "cell_type": "code",
   "execution_count": 76,
   "metadata": {},
   "outputs": [],
   "source": [
    "clf = linear_model.LogisticRegression()"
   ]
  },
  {
   "cell_type": "code",
   "execution_count": 77,
   "metadata": {},
   "outputs": [
    {
     "data": {
      "text/plain": [
       "LogisticRegression(C=1.0, class_weight=None, dual=False, fit_intercept=True,\n",
       "          intercept_scaling=1, max_iter=100, multi_class='ovr', n_jobs=1,\n",
       "          penalty='l2', random_state=None, solver='liblinear', tol=0.0001,\n",
       "          verbose=0, warm_start=False)"
      ]
     },
     "execution_count": 77,
     "metadata": {},
     "output_type": "execute_result"
    }
   ],
   "source": [
    "clf.fit(np.array([[0, 0], [1, 1]]), np.array([0, 1]))"
   ]
  },
  {
   "cell_type": "code",
   "execution_count": 80,
   "metadata": {},
   "outputs": [
    {
     "data": {
      "text/plain": [
       "array([0])"
      ]
     },
     "execution_count": 80,
     "metadata": {},
     "output_type": "execute_result"
    }
   ],
   "source": [
    "clf.predict(np.array([[0, 0]]))"
   ]
  },
  {
   "cell_type": "code",
   "execution_count": 81,
   "metadata": {},
   "outputs": [
    {
     "data": {
      "text/plain": [
       "array([1])"
      ]
     },
     "execution_count": 81,
     "metadata": {},
     "output_type": "execute_result"
    }
   ],
   "source": [
    "clf.predict(np.array([[1, 1]]))"
   ]
  },
  {
   "cell_type": "code",
   "execution_count": 83,
   "metadata": {},
   "outputs": [],
   "source": [
    "pool = xgb.DMatrix(x_train, label=y_train)"
   ]
  },
  {
   "cell_type": "code",
   "execution_count": 86,
   "metadata": {},
   "outputs": [],
   "source": [
    "pool_test = xgb.DMatrix(x_test, label=y_test)"
   ]
  },
  {
   "cell_type": "code",
   "execution_count": 127,
   "metadata": {},
   "outputs": [],
   "source": [
    "param = {'eta': 0.1,\n",
    "         'objective': 'binary:logistic',\n",
    "         'eval_metric': ['auc', 'logloss'], \n",
    "         'subsample': 0.8,\n",
    "         'max_depth': 3\n",
    "        }"
   ]
  },
  {
   "cell_type": "code",
   "execution_count": 128,
   "metadata": {},
   "outputs": [
    {
     "name": "stdout",
     "output_type": "stream",
     "text": [
      "[0]\ttrain-auc:0.557462\ttrain-logloss:0.690511\ttest-auc:0.550335\ttest-logloss:0.690761\n",
      "Multiple eval metrics have been passed: 'test-logloss' will be used for early stopping.\n",
      "\n",
      "Will train until test-logloss hasn't improved in 10 rounds.\n",
      "[1]\ttrain-auc:0.564288\ttrain-logloss:0.688303\ttest-auc:0.557095\ttest-logloss:0.688766\n",
      "[2]\ttrain-auc:0.56848\ttrain-logloss:0.686391\ttest-auc:0.560253\ttest-logloss:0.687095\n",
      "[3]\ttrain-auc:0.57461\ttrain-logloss:0.684754\ttest-auc:0.564225\ttest-logloss:0.685667\n",
      "[4]\ttrain-auc:0.577194\ttrain-logloss:0.683399\ttest-auc:0.568267\ttest-logloss:0.684461\n",
      "[5]\ttrain-auc:0.577722\ttrain-logloss:0.682197\ttest-auc:0.569454\ttest-logloss:0.683354\n",
      "[6]\ttrain-auc:0.582494\ttrain-logloss:0.681096\ttest-auc:0.57274\ttest-logloss:0.682456\n",
      "[7]\ttrain-auc:0.582857\ttrain-logloss:0.680206\ttest-auc:0.573505\ttest-logloss:0.681667\n",
      "[8]\ttrain-auc:0.584344\ttrain-logloss:0.679409\ttest-auc:0.575099\ttest-logloss:0.680969\n",
      "[9]\ttrain-auc:0.58653\ttrain-logloss:0.678638\ttest-auc:0.577251\ttest-logloss:0.680321\n",
      "[10]\ttrain-auc:0.590105\ttrain-logloss:0.677895\ttest-auc:0.580362\ttest-logloss:0.679688\n",
      "[11]\ttrain-auc:0.5911\ttrain-logloss:0.677295\ttest-auc:0.581176\ttest-logloss:0.679192\n",
      "[12]\ttrain-auc:0.592313\ttrain-logloss:0.676742\ttest-auc:0.581567\ttest-logloss:0.678811\n",
      "[13]\ttrain-auc:0.593834\ttrain-logloss:0.676219\ttest-auc:0.58217\ttest-logloss:0.67845\n",
      "[14]\ttrain-auc:0.59468\ttrain-logloss:0.675689\ttest-auc:0.582623\ttest-logloss:0.678063\n",
      "[15]\ttrain-auc:0.595977\ttrain-logloss:0.675293\ttest-auc:0.584089\ttest-logloss:0.677712\n",
      "[16]\ttrain-auc:0.596469\ttrain-logloss:0.674901\ttest-auc:0.584922\ttest-logloss:0.677364\n",
      "[17]\ttrain-auc:0.596938\ttrain-logloss:0.674513\ttest-auc:0.585235\ttest-logloss:0.677081\n",
      "[18]\ttrain-auc:0.597818\ttrain-logloss:0.674143\ttest-auc:0.585948\ttest-logloss:0.676805\n",
      "[19]\ttrain-auc:0.598904\ttrain-logloss:0.673796\ttest-auc:0.586742\ttest-logloss:0.676541\n",
      "[20]\ttrain-auc:0.600289\ttrain-logloss:0.673454\ttest-auc:0.588018\ttest-logloss:0.676267\n",
      "[21]\ttrain-auc:0.600367\ttrain-logloss:0.67317\ttest-auc:0.588036\ttest-logloss:0.676092\n",
      "[22]\ttrain-auc:0.600703\ttrain-logloss:0.672862\ttest-auc:0.588688\ttest-logloss:0.675811\n",
      "[23]\ttrain-auc:0.601644\ttrain-logloss:0.672598\ttest-auc:0.589304\ttest-logloss:0.675632\n",
      "[24]\ttrain-auc:0.602679\ttrain-logloss:0.672356\ttest-auc:0.590346\ttest-logloss:0.675424\n",
      "[25]\ttrain-auc:0.603356\ttrain-logloss:0.672093\ttest-auc:0.591096\ttest-logloss:0.67521\n",
      "[26]\ttrain-auc:0.603459\ttrain-logloss:0.671881\ttest-auc:0.591268\ttest-logloss:0.67507\n",
      "[27]\ttrain-auc:0.604235\ttrain-logloss:0.671647\ttest-auc:0.591621\ttest-logloss:0.674909\n",
      "[28]\ttrain-auc:0.604659\ttrain-logloss:0.671373\ttest-auc:0.592128\ttest-logloss:0.674701\n",
      "[29]\ttrain-auc:0.605531\ttrain-logloss:0.671132\ttest-auc:0.5928\ttest-logloss:0.674507\n",
      "[30]\ttrain-auc:0.60571\ttrain-logloss:0.670937\ttest-auc:0.592959\ttest-logloss:0.674366\n",
      "[31]\ttrain-auc:0.606194\ttrain-logloss:0.670743\ttest-auc:0.593325\ttest-logloss:0.674235\n",
      "[32]\ttrain-auc:0.606556\ttrain-logloss:0.670536\ttest-auc:0.593668\ttest-logloss:0.674072\n",
      "[33]\ttrain-auc:0.607143\ttrain-logloss:0.670285\ttest-auc:0.594276\ttest-logloss:0.673853\n",
      "[34]\ttrain-auc:0.607956\ttrain-logloss:0.670057\ttest-auc:0.594737\ttest-logloss:0.673697\n",
      "[35]\ttrain-auc:0.608475\ttrain-logloss:0.66984\ttest-auc:0.594936\ttest-logloss:0.673585\n",
      "[36]\ttrain-auc:0.609047\ttrain-logloss:0.669675\ttest-auc:0.595495\ttest-logloss:0.673464\n",
      "[37]\ttrain-auc:0.609544\ttrain-logloss:0.669508\ttest-auc:0.595893\ttest-logloss:0.673352\n",
      "[38]\ttrain-auc:0.610118\ttrain-logloss:0.669299\ttest-auc:0.596324\ttest-logloss:0.673216\n",
      "[39]\ttrain-auc:0.610803\ttrain-logloss:0.669078\ttest-auc:0.596804\ttest-logloss:0.673052\n",
      "[40]\ttrain-auc:0.61119\ttrain-logloss:0.668913\ttest-auc:0.596982\ttest-logloss:0.672952\n",
      "[41]\ttrain-auc:0.611621\ttrain-logloss:0.668735\ttest-auc:0.597315\ttest-logloss:0.672824\n",
      "[42]\ttrain-auc:0.612028\ttrain-logloss:0.668542\ttest-auc:0.597561\ttest-logloss:0.672686\n",
      "[43]\ttrain-auc:0.611897\ttrain-logloss:0.668411\ttest-auc:0.597675\ttest-logloss:0.672564\n",
      "[44]\ttrain-auc:0.612514\ttrain-logloss:0.668264\ttest-auc:0.597771\ttest-logloss:0.672523\n",
      "[45]\ttrain-auc:0.613004\ttrain-logloss:0.668085\ttest-auc:0.597976\ttest-logloss:0.672421\n",
      "[46]\ttrain-auc:0.613219\ttrain-logloss:0.66795\ttest-auc:0.598021\ttest-logloss:0.672355\n",
      "[47]\ttrain-auc:0.613404\ttrain-logloss:0.667808\ttest-auc:0.598262\ttest-logloss:0.672236\n",
      "[48]\ttrain-auc:0.613901\ttrain-logloss:0.667641\ttest-auc:0.598635\ttest-logloss:0.672113\n",
      "[49]\ttrain-auc:0.614486\ttrain-logloss:0.667484\ttest-auc:0.598983\ttest-logloss:0.672012\n",
      "[50]\ttrain-auc:0.614907\ttrain-logloss:0.667352\ttest-auc:0.599364\ttest-logloss:0.671877\n",
      "[51]\ttrain-auc:0.615356\ttrain-logloss:0.667204\ttest-auc:0.599764\ttest-logloss:0.67175\n",
      "[52]\ttrain-auc:0.615817\ttrain-logloss:0.667022\ttest-auc:0.600339\ttest-logloss:0.671582\n",
      "[53]\ttrain-auc:0.616246\ttrain-logloss:0.666859\ttest-auc:0.600529\ttest-logloss:0.671484\n",
      "[54]\ttrain-auc:0.61615\ttrain-logloss:0.666728\ttest-auc:0.600643\ttest-logloss:0.671362\n",
      "[55]\ttrain-auc:0.616412\ttrain-logloss:0.666568\ttest-auc:0.600753\ttest-logloss:0.671275\n",
      "[56]\ttrain-auc:0.616717\ttrain-logloss:0.666427\ttest-auc:0.601138\ttest-logloss:0.671168\n",
      "[57]\ttrain-auc:0.616991\ttrain-logloss:0.666314\ttest-auc:0.601376\ttest-logloss:0.67109\n",
      "[58]\ttrain-auc:0.61728\ttrain-logloss:0.666186\ttest-auc:0.601394\ttest-logloss:0.671055\n",
      "[59]\ttrain-auc:0.617609\ttrain-logloss:0.66609\ttest-auc:0.601332\ttest-logloss:0.671043\n",
      "[60]\ttrain-auc:0.617903\ttrain-logloss:0.665972\ttest-auc:0.601564\ttest-logloss:0.67096\n",
      "[61]\ttrain-auc:0.617943\ttrain-logloss:0.66587\ttest-auc:0.601642\ttest-logloss:0.670895\n",
      "[62]\ttrain-auc:0.618248\ttrain-logloss:0.665756\ttest-auc:0.601882\ttest-logloss:0.670796\n",
      "[63]\ttrain-auc:0.618321\ttrain-logloss:0.665658\ttest-auc:0.60191\ttest-logloss:0.670745\n",
      "[64]\ttrain-auc:0.618593\ttrain-logloss:0.665538\ttest-auc:0.601928\ttest-logloss:0.670708\n",
      "[65]\ttrain-auc:0.618793\ttrain-logloss:0.665435\ttest-auc:0.601947\ttest-logloss:0.670669\n",
      "[66]\ttrain-auc:0.619163\ttrain-logloss:0.665276\ttest-auc:0.602315\ttest-logloss:0.670545\n",
      "[67]\ttrain-auc:0.619473\ttrain-logloss:0.665127\ttest-auc:0.602349\ttest-logloss:0.670474\n",
      "[68]\ttrain-auc:0.619832\ttrain-logloss:0.665017\ttest-auc:0.602405\ttest-logloss:0.670448\n",
      "[69]\ttrain-auc:0.620129\ttrain-logloss:0.664889\ttest-auc:0.602678\ttest-logloss:0.670346\n",
      "[70]\ttrain-auc:0.620557\ttrain-logloss:0.664792\ttest-auc:0.602967\ttest-logloss:0.67028\n",
      "[71]\ttrain-auc:0.620653\ttrain-logloss:0.6647\ttest-auc:0.602897\ttest-logloss:0.670261\n",
      "[72]\ttrain-auc:0.620908\ttrain-logloss:0.664595\ttest-auc:0.603078\ttest-logloss:0.670187\n",
      "[73]\ttrain-auc:0.621067\ttrain-logloss:0.664451\ttest-auc:0.60328\ttest-logloss:0.670069\n",
      "[74]\ttrain-auc:0.621383\ttrain-logloss:0.664352\ttest-auc:0.603385\ttest-logloss:0.670029\n",
      "[75]\ttrain-auc:0.621632\ttrain-logloss:0.664246\ttest-auc:0.603454\ttest-logloss:0.669995\n",
      "[76]\ttrain-auc:0.62183\ttrain-logloss:0.664146\ttest-auc:0.603604\ttest-logloss:0.669926\n",
      "[77]\ttrain-auc:0.622045\ttrain-logloss:0.664062\ttest-auc:0.603522\ttest-logloss:0.669919\n",
      "[78]\ttrain-auc:0.622497\ttrain-logloss:0.663935\ttest-auc:0.603788\ttest-logloss:0.66986\n",
      "[79]\ttrain-auc:0.622797\ttrain-logloss:0.663801\ttest-auc:0.604073\ttest-logloss:0.669772\n",
      "[80]\ttrain-auc:0.623094\ttrain-logloss:0.663698\ttest-auc:0.604212\ttest-logloss:0.669733\n",
      "[81]\ttrain-auc:0.6233\ttrain-logloss:0.663622\ttest-auc:0.604351\ttest-logloss:0.669684\n",
      "[82]\ttrain-auc:0.623394\ttrain-logloss:0.663541\ttest-auc:0.604394\ttest-logloss:0.66967\n",
      "[83]\ttrain-auc:0.623604\ttrain-logloss:0.663457\ttest-auc:0.604287\ttest-logloss:0.669675\n",
      "[84]\ttrain-auc:0.62397\ttrain-logloss:0.663353\ttest-auc:0.604663\ttest-logloss:0.669588\n",
      "[85]\ttrain-auc:0.62416\ttrain-logloss:0.663274\ttest-auc:0.604624\ttest-logloss:0.669589\n",
      "[86]\ttrain-auc:0.624391\ttrain-logloss:0.663181\ttest-auc:0.604726\ttest-logloss:0.669552\n",
      "[87]\ttrain-auc:0.624582\ttrain-logloss:0.663127\ttest-auc:0.604939\ttest-logloss:0.669508\n",
      "[88]\ttrain-auc:0.624749\ttrain-logloss:0.663057\ttest-auc:0.604907\ttest-logloss:0.669496\n",
      "[89]\ttrain-auc:0.624725\ttrain-logloss:0.663004\ttest-auc:0.604914\ttest-logloss:0.669474\n",
      "[90]\ttrain-auc:0.624928\ttrain-logloss:0.662895\ttest-auc:0.60505\ttest-logloss:0.669416\n",
      "[91]\ttrain-auc:0.62522\ttrain-logloss:0.662805\ttest-auc:0.605236\ttest-logloss:0.669348\n",
      "[92]\ttrain-auc:0.625478\ttrain-logloss:0.662702\ttest-auc:0.605442\ttest-logloss:0.669299\n",
      "[93]\ttrain-auc:0.625779\ttrain-logloss:0.662596\ttest-auc:0.605427\ttest-logloss:0.66929\n",
      "[94]\ttrain-auc:0.625799\ttrain-logloss:0.662516\ttest-auc:0.605401\ttest-logloss:0.669274\n",
      "[95]\ttrain-auc:0.625881\ttrain-logloss:0.662453\ttest-auc:0.60536\ttest-logloss:0.669251\n",
      "[96]\ttrain-auc:0.626033\ttrain-logloss:0.662382\ttest-auc:0.605503\ttest-logloss:0.669191\n",
      "[97]\ttrain-auc:0.626205\ttrain-logloss:0.6623\ttest-auc:0.605627\ttest-logloss:0.669149\n",
      "[98]\ttrain-auc:0.626386\ttrain-logloss:0.662189\ttest-auc:0.605714\ttest-logloss:0.669093\n",
      "[99]\ttrain-auc:0.626575\ttrain-logloss:0.662103\ttest-auc:0.605807\ttest-logloss:0.669044\n",
      "[100]\ttrain-auc:0.626751\ttrain-logloss:0.662018\ttest-auc:0.605909\ttest-logloss:0.668997\n",
      "[101]\ttrain-auc:0.626969\ttrain-logloss:0.661903\ttest-auc:0.605994\ttest-logloss:0.668935\n",
      "[102]\ttrain-auc:0.627198\ttrain-logloss:0.661792\ttest-auc:0.606011\ttest-logloss:0.668904\n",
      "[103]\ttrain-auc:0.627425\ttrain-logloss:0.661716\ttest-auc:0.606042\ttest-logloss:0.668882\n",
      "[104]\ttrain-auc:0.627557\ttrain-logloss:0.661667\ttest-auc:0.606031\ttest-logloss:0.668872\n",
      "[105]\ttrain-auc:0.627759\ttrain-logloss:0.661602\ttest-auc:0.60611\ttest-logloss:0.668848\n",
      "[106]\ttrain-auc:0.627906\ttrain-logloss:0.661532\ttest-auc:0.60613\ttest-logloss:0.66882\n",
      "[107]\ttrain-auc:0.627958\ttrain-logloss:0.661483\ttest-auc:0.606086\ttest-logloss:0.668809\n",
      "[108]\ttrain-auc:0.628127\ttrain-logloss:0.661419\ttest-auc:0.606216\ttest-logloss:0.66877\n",
      "[109]\ttrain-auc:0.628336\ttrain-logloss:0.661336\ttest-auc:0.606344\ttest-logloss:0.668722\n",
      "[110]\ttrain-auc:0.628372\ttrain-logloss:0.661265\ttest-auc:0.606459\ttest-logloss:0.66865\n",
      "[111]\ttrain-auc:0.628521\ttrain-logloss:0.661191\ttest-auc:0.606548\ttest-logloss:0.668622\n",
      "[112]\ttrain-auc:0.628761\ttrain-logloss:0.66112\ttest-auc:0.606594\ttest-logloss:0.668611\n",
      "[113]\ttrain-auc:0.629042\ttrain-logloss:0.661021\ttest-auc:0.606787\ttest-logloss:0.66855\n",
      "[114]\ttrain-auc:0.629166\ttrain-logloss:0.660981\ttest-auc:0.606829\ttest-logloss:0.668534\n",
      "[115]\ttrain-auc:0.629174\ttrain-logloss:0.660949\ttest-auc:0.606777\ttest-logloss:0.66854\n",
      "[116]\ttrain-auc:0.629341\ttrain-logloss:0.660877\ttest-auc:0.606694\ttest-logloss:0.668561\n",
      "[117]\ttrain-auc:0.629597\ttrain-logloss:0.660771\ttest-auc:0.607071\ttest-logloss:0.668449\n",
      "[118]\ttrain-auc:0.629625\ttrain-logloss:0.660715\ttest-auc:0.607107\ttest-logloss:0.668421\n",
      "[119]\ttrain-auc:0.629801\ttrain-logloss:0.660633\ttest-auc:0.607201\ttest-logloss:0.668375\n",
      "[120]\ttrain-auc:0.629958\ttrain-logloss:0.660565\ttest-auc:0.607366\ttest-logloss:0.668331\n",
      "[121]\ttrain-auc:0.629978\ttrain-logloss:0.660519\ttest-auc:0.607422\ttest-logloss:0.668305\n",
      "[122]\ttrain-auc:0.63013\ttrain-logloss:0.660448\ttest-auc:0.607535\ttest-logloss:0.66827\n",
      "[123]\ttrain-auc:0.630281\ttrain-logloss:0.660393\ttest-auc:0.607646\ttest-logloss:0.668238\n",
      "[124]\ttrain-auc:0.63032\ttrain-logloss:0.660365\ttest-auc:0.607669\ttest-logloss:0.668233\n",
      "[125]\ttrain-auc:0.630533\ttrain-logloss:0.660284\ttest-auc:0.607655\ttest-logloss:0.668226\n",
      "[126]\ttrain-auc:0.630725\ttrain-logloss:0.6602\ttest-auc:0.607708\ttest-logloss:0.668216\n",
      "[127]\ttrain-auc:0.630931\ttrain-logloss:0.660115\ttest-auc:0.607809\ttest-logloss:0.66817\n",
      "[128]\ttrain-auc:0.631023\ttrain-logloss:0.66006\ttest-auc:0.607805\ttest-logloss:0.668167\n",
      "[129]\ttrain-auc:0.631192\ttrain-logloss:0.659979\ttest-auc:0.607934\ttest-logloss:0.668135\n",
      "[130]\ttrain-auc:0.631262\ttrain-logloss:0.659925\ttest-auc:0.607894\ttest-logloss:0.668137\n",
      "[131]\ttrain-auc:0.631372\ttrain-logloss:0.659872\ttest-auc:0.607892\ttest-logloss:0.668136\n",
      "[132]\ttrain-auc:0.631552\ttrain-logloss:0.659795\ttest-auc:0.607976\ttest-logloss:0.668113\n",
      "[133]\ttrain-auc:0.631663\ttrain-logloss:0.659742\ttest-auc:0.608048\ttest-logloss:0.66807\n",
      "[134]\ttrain-auc:0.631993\ttrain-logloss:0.659642\ttest-auc:0.608075\ttest-logloss:0.668072\n",
      "[135]\ttrain-auc:0.632119\ttrain-logloss:0.659577\ttest-auc:0.608022\ttest-logloss:0.668076\n",
      "[136]\ttrain-auc:0.632237\ttrain-logloss:0.659509\ttest-auc:0.60801\ttest-logloss:0.668073\n",
      "[137]\ttrain-auc:0.632494\ttrain-logloss:0.659413\ttest-auc:0.608278\ttest-logloss:0.667997\n",
      "[138]\ttrain-auc:0.632849\ttrain-logloss:0.659281\ttest-auc:0.608346\ttest-logloss:0.667982\n",
      "[139]\ttrain-auc:0.632958\ttrain-logloss:0.659233\ttest-auc:0.608286\ttest-logloss:0.667989\n",
      "[140]\ttrain-auc:0.632992\ttrain-logloss:0.659208\ttest-auc:0.608191\ttest-logloss:0.66801\n",
      "[141]\ttrain-auc:0.633083\ttrain-logloss:0.659161\ttest-auc:0.608225\ttest-logloss:0.667996\n",
      "[142]\ttrain-auc:0.633198\ttrain-logloss:0.659116\ttest-auc:0.608349\ttest-logloss:0.667967\n",
      "[143]\ttrain-auc:0.633278\ttrain-logloss:0.659055\ttest-auc:0.60851\ttest-logloss:0.66791\n",
      "[144]\ttrain-auc:0.633409\ttrain-logloss:0.659011\ttest-auc:0.608588\ttest-logloss:0.66789\n",
      "[145]\ttrain-auc:0.633586\ttrain-logloss:0.658933\ttest-auc:0.608561\ttest-logloss:0.667898\n",
      "[146]\ttrain-auc:0.633618\ttrain-logloss:0.658886\ttest-auc:0.60851\ttest-logloss:0.667912\n",
      "[147]\ttrain-auc:0.633752\ttrain-logloss:0.658819\ttest-auc:0.608546\ttest-logloss:0.667896\n",
      "[148]\ttrain-auc:0.633857\ttrain-logloss:0.658767\ttest-auc:0.608647\ttest-logloss:0.667859\n",
      "[149]\ttrain-auc:0.633945\ttrain-logloss:0.658675\ttest-auc:0.608814\ttest-logloss:0.667801\n",
      "[150]\ttrain-auc:0.634122\ttrain-logloss:0.658608\ttest-auc:0.608896\ttest-logloss:0.667777\n",
      "[151]\ttrain-auc:0.634228\ttrain-logloss:0.658547\ttest-auc:0.608824\ttest-logloss:0.667787\n",
      "[152]\ttrain-auc:0.634423\ttrain-logloss:0.658467\ttest-auc:0.60885\ttest-logloss:0.667766\n",
      "[153]\ttrain-auc:0.6346\ttrain-logloss:0.658398\ttest-auc:0.608924\ttest-logloss:0.667734\n",
      "[154]\ttrain-auc:0.634643\ttrain-logloss:0.658364\ttest-auc:0.608938\ttest-logloss:0.667729\n",
      "[155]\ttrain-auc:0.634835\ttrain-logloss:0.658292\ttest-auc:0.609084\ttest-logloss:0.667676\n",
      "[156]\ttrain-auc:0.635048\ttrain-logloss:0.658212\ttest-auc:0.609267\ttest-logloss:0.66761\n",
      "[157]\ttrain-auc:0.635217\ttrain-logloss:0.658141\ttest-auc:0.609202\ttest-logloss:0.667608\n",
      "[158]\ttrain-auc:0.63552\ttrain-logloss:0.658038\ttest-auc:0.609256\ttest-logloss:0.667585\n",
      "[159]\ttrain-auc:0.635636\ttrain-logloss:0.657997\ttest-auc:0.609179\ttest-logloss:0.667605\n",
      "[160]\ttrain-auc:0.635669\ttrain-logloss:0.657972\ttest-auc:0.609167\ttest-logloss:0.667609\n",
      "[161]\ttrain-auc:0.635802\ttrain-logloss:0.657916\ttest-auc:0.609186\ttest-logloss:0.667595\n",
      "[162]\ttrain-auc:0.635911\ttrain-logloss:0.657834\ttest-auc:0.60918\ttest-logloss:0.667571\n",
      "[163]\ttrain-auc:0.63606\ttrain-logloss:0.657772\ttest-auc:0.60926\ttest-logloss:0.667528\n",
      "[164]\ttrain-auc:0.636117\ttrain-logloss:0.657717\ttest-auc:0.609278\ttest-logloss:0.667499\n",
      "[165]\ttrain-auc:0.63628\ttrain-logloss:0.657645\ttest-auc:0.609309\ttest-logloss:0.667479\n",
      "[166]\ttrain-auc:0.636386\ttrain-logloss:0.657596\ttest-auc:0.609402\ttest-logloss:0.667448\n",
      "[167]\ttrain-auc:0.636494\ttrain-logloss:0.657557\ttest-auc:0.609481\ttest-logloss:0.667427\n",
      "[168]\ttrain-auc:0.636612\ttrain-logloss:0.657493\ttest-auc:0.609502\ttest-logloss:0.667411\n",
      "[169]\ttrain-auc:0.636723\ttrain-logloss:0.657434\ttest-auc:0.609525\ttest-logloss:0.667407\n",
      "[170]\ttrain-auc:0.636826\ttrain-logloss:0.657379\ttest-auc:0.609478\ttest-logloss:0.667418\n",
      "[171]\ttrain-auc:0.636964\ttrain-logloss:0.657312\ttest-auc:0.609675\ttest-logloss:0.667359\n",
      "[172]\ttrain-auc:0.637123\ttrain-logloss:0.657246\ttest-auc:0.609725\ttest-logloss:0.667343\n",
      "[173]\ttrain-auc:0.637191\ttrain-logloss:0.657215\ttest-auc:0.609736\ttest-logloss:0.667355\n",
      "[174]\ttrain-auc:0.637319\ttrain-logloss:0.657162\ttest-auc:0.609775\ttest-logloss:0.667329\n",
      "[175]\ttrain-auc:0.637434\ttrain-logloss:0.657106\ttest-auc:0.609882\ttest-logloss:0.667307\n",
      "[176]\ttrain-auc:0.637499\ttrain-logloss:0.657064\ttest-auc:0.609896\ttest-logloss:0.667296\n",
      "[177]\ttrain-auc:0.637632\ttrain-logloss:0.657008\ttest-auc:0.609953\ttest-logloss:0.667277\n",
      "[178]\ttrain-auc:0.637684\ttrain-logloss:0.656966\ttest-auc:0.609982\ttest-logloss:0.667265\n",
      "[179]\ttrain-auc:0.637784\ttrain-logloss:0.656927\ttest-auc:0.609897\ttest-logloss:0.667294\n",
      "[180]\ttrain-auc:0.637824\ttrain-logloss:0.656883\ttest-auc:0.610005\ttest-logloss:0.667249\n",
      "[181]\ttrain-auc:0.637897\ttrain-logloss:0.656853\ttest-auc:0.609943\ttest-logloss:0.667268\n",
      "[182]\ttrain-auc:0.637934\ttrain-logloss:0.656841\ttest-auc:0.609916\ttest-logloss:0.667277\n",
      "[183]\ttrain-auc:0.637971\ttrain-logloss:0.656815\ttest-auc:0.609982\ttest-logloss:0.667263\n",
      "[184]\ttrain-auc:0.638102\ttrain-logloss:0.656763\ttest-auc:0.60997\ttest-logloss:0.667257\n",
      "[185]\ttrain-auc:0.638205\ttrain-logloss:0.656718\ttest-auc:0.610041\ttest-logloss:0.667234\n",
      "[186]\ttrain-auc:0.638352\ttrain-logloss:0.656661\ttest-auc:0.610007\ttest-logloss:0.66724\n",
      "[187]\ttrain-auc:0.63839\ttrain-logloss:0.656626\ttest-auc:0.610037\ttest-logloss:0.667226\n",
      "[188]\ttrain-auc:0.638499\ttrain-logloss:0.656582\ttest-auc:0.609945\ttest-logloss:0.66724\n",
      "[189]\ttrain-auc:0.63857\ttrain-logloss:0.656554\ttest-auc:0.609971\ttest-logloss:0.667225\n",
      "[190]\ttrain-auc:0.638663\ttrain-logloss:0.656496\ttest-auc:0.610076\ttest-logloss:0.667185\n",
      "[191]\ttrain-auc:0.63878\ttrain-logloss:0.656462\ttest-auc:0.610141\ttest-logloss:0.667171\n",
      "[192]\ttrain-auc:0.638848\ttrain-logloss:0.656423\ttest-auc:0.610064\ttest-logloss:0.667185\n",
      "[193]\ttrain-auc:0.639043\ttrain-logloss:0.656345\ttest-auc:0.610041\ttest-logloss:0.66718\n",
      "[194]\ttrain-auc:0.639099\ttrain-logloss:0.656293\ttest-auc:0.610039\ttest-logloss:0.667178\n",
      "[195]\ttrain-auc:0.639212\ttrain-logloss:0.656236\ttest-auc:0.610078\ttest-logloss:0.667169\n",
      "[196]\ttrain-auc:0.639327\ttrain-logloss:0.656186\ttest-auc:0.61008\ttest-logloss:0.667153\n",
      "[197]\ttrain-auc:0.639443\ttrain-logloss:0.656131\ttest-auc:0.610155\ttest-logloss:0.667134\n",
      "[198]\ttrain-auc:0.639467\ttrain-logloss:0.656101\ttest-auc:0.61018\ttest-logloss:0.667119\n",
      "[199]\ttrain-auc:0.639552\ttrain-logloss:0.65605\ttest-auc:0.610156\ttest-logloss:0.667132\n",
      "[200]\ttrain-auc:0.639566\ttrain-logloss:0.656024\ttest-auc:0.610166\ttest-logloss:0.66713\n",
      "[201]\ttrain-auc:0.639808\ttrain-logloss:0.65594\ttest-auc:0.610172\ttest-logloss:0.667133\n",
      "[202]\ttrain-auc:0.63999\ttrain-logloss:0.655876\ttest-auc:0.610293\ttest-logloss:0.667095\n",
      "[203]\ttrain-auc:0.640212\ttrain-logloss:0.655789\ttest-auc:0.610578\ttest-logloss:0.666996\n",
      "[204]\ttrain-auc:0.640359\ttrain-logloss:0.655716\ttest-auc:0.610597\ttest-logloss:0.666976\n",
      "[205]\ttrain-auc:0.640449\ttrain-logloss:0.655669\ttest-auc:0.610675\ttest-logloss:0.666954\n",
      "[206]\ttrain-auc:0.6405\ttrain-logloss:0.655649\ttest-auc:0.610684\ttest-logloss:0.666949\n",
      "[207]\ttrain-auc:0.640559\ttrain-logloss:0.65562\ttest-auc:0.6107\ttest-logloss:0.666943\n",
      "[208]\ttrain-auc:0.640639\ttrain-logloss:0.655589\ttest-auc:0.610672\ttest-logloss:0.666959\n",
      "[209]\ttrain-auc:0.64078\ttrain-logloss:0.655537\ttest-auc:0.610639\ttest-logloss:0.666988\n",
      "[210]\ttrain-auc:0.64093\ttrain-logloss:0.655477\ttest-auc:0.610672\ttest-logloss:0.666977\n",
      "[211]\ttrain-auc:0.641002\ttrain-logloss:0.655434\ttest-auc:0.61069\ttest-logloss:0.666961\n",
      "[212]\ttrain-auc:0.641204\ttrain-logloss:0.655348\ttest-auc:0.61083\ttest-logloss:0.666923\n",
      "[213]\ttrain-auc:0.641224\ttrain-logloss:0.655329\ttest-auc:0.610803\ttest-logloss:0.666929\n",
      "[214]\ttrain-auc:0.64141\ttrain-logloss:0.655268\ttest-auc:0.610903\ttest-logloss:0.66691\n",
      "[215]\ttrain-auc:0.641476\ttrain-logloss:0.655239\ttest-auc:0.610872\ttest-logloss:0.666913\n",
      "[216]\ttrain-auc:0.641609\ttrain-logloss:0.655188\ttest-auc:0.610833\ttest-logloss:0.666919\n",
      "[217]\ttrain-auc:0.641787\ttrain-logloss:0.65512\ttest-auc:0.610918\ttest-logloss:0.666894\n",
      "[218]\ttrain-auc:0.641978\ttrain-logloss:0.655044\ttest-auc:0.610926\ttest-logloss:0.666891\n",
      "[219]\ttrain-auc:0.642033\ttrain-logloss:0.654996\ttest-auc:0.610946\ttest-logloss:0.666891\n",
      "[220]\ttrain-auc:0.642174\ttrain-logloss:0.65494\ttest-auc:0.61087\ttest-logloss:0.66692\n",
      "[221]\ttrain-auc:0.642285\ttrain-logloss:0.654881\ttest-auc:0.610915\ttest-logloss:0.666912\n",
      "[222]\ttrain-auc:0.642407\ttrain-logloss:0.654821\ttest-auc:0.610924\ttest-logloss:0.666901\n",
      "[223]\ttrain-auc:0.642454\ttrain-logloss:0.6548\ttest-auc:0.610876\ttest-logloss:0.666922\n",
      "[224]\ttrain-auc:0.642521\ttrain-logloss:0.654766\ttest-auc:0.610854\ttest-logloss:0.666919\n",
      "[225]\ttrain-auc:0.64263\ttrain-logloss:0.65471\ttest-auc:0.610893\ttest-logloss:0.666904\n",
      "[226]\ttrain-auc:0.642778\ttrain-logloss:0.654643\ttest-auc:0.611013\ttest-logloss:0.66687\n",
      "[227]\ttrain-auc:0.642796\ttrain-logloss:0.654614\ttest-auc:0.61108\ttest-logloss:0.666835\n",
      "[228]\ttrain-auc:0.642903\ttrain-logloss:0.654575\ttest-auc:0.611097\ttest-logloss:0.666843\n",
      "[229]\ttrain-auc:0.64303\ttrain-logloss:0.654518\ttest-auc:0.611137\ttest-logloss:0.666829\n",
      "[230]\ttrain-auc:0.643149\ttrain-logloss:0.654452\ttest-auc:0.611314\ttest-logloss:0.666761\n",
      "[231]\ttrain-auc:0.643233\ttrain-logloss:0.654407\ttest-auc:0.611318\ttest-logloss:0.666747\n",
      "[232]\ttrain-auc:0.643284\ttrain-logloss:0.654368\ttest-auc:0.611342\ttest-logloss:0.666732\n",
      "[233]\ttrain-auc:0.643422\ttrain-logloss:0.654322\ttest-auc:0.611295\ttest-logloss:0.666742\n",
      "[234]\ttrain-auc:0.643515\ttrain-logloss:0.654277\ttest-auc:0.611342\ttest-logloss:0.666716\n",
      "[235]\ttrain-auc:0.643654\ttrain-logloss:0.654218\ttest-auc:0.611471\ttest-logloss:0.666671\n",
      "[236]\ttrain-auc:0.643767\ttrain-logloss:0.654154\ttest-auc:0.611463\ttest-logloss:0.666656\n",
      "[237]\ttrain-auc:0.643881\ttrain-logloss:0.654109\ttest-auc:0.611521\ttest-logloss:0.666631\n",
      "[238]\ttrain-auc:0.644086\ttrain-logloss:0.65405\ttest-auc:0.61163\ttest-logloss:0.666586\n",
      "[239]\ttrain-auc:0.644211\ttrain-logloss:0.654\ttest-auc:0.611678\ttest-logloss:0.666576\n",
      "[240]\ttrain-auc:0.644244\ttrain-logloss:0.653989\ttest-auc:0.611684\ttest-logloss:0.66657\n",
      "[241]\ttrain-auc:0.644331\ttrain-logloss:0.653956\ttest-auc:0.611657\ttest-logloss:0.666568\n",
      "[242]\ttrain-auc:0.644477\ttrain-logloss:0.653894\ttest-auc:0.611712\ttest-logloss:0.666553\n",
      "[243]\ttrain-auc:0.644618\ttrain-logloss:0.653841\ttest-auc:0.611747\ttest-logloss:0.666529\n",
      "[244]\ttrain-auc:0.644657\ttrain-logloss:0.653818\ttest-auc:0.611747\ttest-logloss:0.666529\n",
      "[245]\ttrain-auc:0.644788\ttrain-logloss:0.653764\ttest-auc:0.611732\ttest-logloss:0.666538\n",
      "[246]\ttrain-auc:0.644869\ttrain-logloss:0.65372\ttest-auc:0.611777\ttest-logloss:0.666531\n",
      "[247]\ttrain-auc:0.644922\ttrain-logloss:0.653688\ttest-auc:0.611749\ttest-logloss:0.666537\n",
      "[248]\ttrain-auc:0.644989\ttrain-logloss:0.653653\ttest-auc:0.61174\ttest-logloss:0.66654\n",
      "[249]\ttrain-auc:0.64503\ttrain-logloss:0.65363\ttest-auc:0.611801\ttest-logloss:0.666521\n",
      "[250]\ttrain-auc:0.645116\ttrain-logloss:0.653597\ttest-auc:0.611859\ttest-logloss:0.666506\n",
      "[251]\ttrain-auc:0.645206\ttrain-logloss:0.653546\ttest-auc:0.611756\ttest-logloss:0.666528\n",
      "[252]\ttrain-auc:0.645237\ttrain-logloss:0.653511\ttest-auc:0.611826\ttest-logloss:0.666501\n",
      "[253]\ttrain-auc:0.645275\ttrain-logloss:0.653485\ttest-auc:0.611761\ttest-logloss:0.666515\n",
      "[254]\ttrain-auc:0.645451\ttrain-logloss:0.653417\ttest-auc:0.61179\ttest-logloss:0.6665\n",
      "[255]\ttrain-auc:0.645603\ttrain-logloss:0.653352\ttest-auc:0.611853\ttest-logloss:0.666464\n",
      "[256]\ttrain-auc:0.645722\ttrain-logloss:0.653303\ttest-auc:0.611819\ttest-logloss:0.666488\n",
      "[257]\ttrain-auc:0.645835\ttrain-logloss:0.653247\ttest-auc:0.611744\ttest-logloss:0.66652\n",
      "[258]\ttrain-auc:0.645906\ttrain-logloss:0.65321\ttest-auc:0.611757\ttest-logloss:0.666516\n",
      "[259]\ttrain-auc:0.645974\ttrain-logloss:0.653171\ttest-auc:0.611784\ttest-logloss:0.666504\n",
      "[260]\ttrain-auc:0.646047\ttrain-logloss:0.653128\ttest-auc:0.611786\ttest-logloss:0.666504\n",
      "[261]\ttrain-auc:0.6461\ttrain-logloss:0.653075\ttest-auc:0.611846\ttest-logloss:0.666482\n",
      "[262]\ttrain-auc:0.646131\ttrain-logloss:0.653057\ttest-auc:0.611847\ttest-logloss:0.666486\n",
      "[263]\ttrain-auc:0.646192\ttrain-logloss:0.653023\ttest-auc:0.611874\ttest-logloss:0.666479\n",
      "[264]\ttrain-auc:0.64623\ttrain-logloss:0.65301\ttest-auc:0.611865\ttest-logloss:0.666488\n",
      "[265]\ttrain-auc:0.646331\ttrain-logloss:0.652952\ttest-auc:0.612101\ttest-logloss:0.666416\n",
      "[266]\ttrain-auc:0.646451\ttrain-logloss:0.652911\ttest-auc:0.612088\ttest-logloss:0.666413\n",
      "[267]\ttrain-auc:0.64652\ttrain-logloss:0.652874\ttest-auc:0.612178\ttest-logloss:0.666385\n",
      "[268]\ttrain-auc:0.646624\ttrain-logloss:0.652835\ttest-auc:0.612184\ttest-logloss:0.666382\n",
      "[269]\ttrain-auc:0.646687\ttrain-logloss:0.652794\ttest-auc:0.61223\ttest-logloss:0.666361\n",
      "[270]\ttrain-auc:0.646794\ttrain-logloss:0.652744\ttest-auc:0.612194\ttest-logloss:0.66637\n",
      "[271]\ttrain-auc:0.646866\ttrain-logloss:0.652701\ttest-auc:0.612239\ttest-logloss:0.666348\n",
      "[272]\ttrain-auc:0.646992\ttrain-logloss:0.652636\ttest-auc:0.612405\ttest-logloss:0.666296\n",
      "[273]\ttrain-auc:0.647083\ttrain-logloss:0.652595\ttest-auc:0.612389\ttest-logloss:0.666311\n",
      "[274]\ttrain-auc:0.647129\ttrain-logloss:0.652575\ttest-auc:0.612377\ttest-logloss:0.666313\n",
      "[275]\ttrain-auc:0.647285\ttrain-logloss:0.652514\ttest-auc:0.612533\ttest-logloss:0.666267\n",
      "[276]\ttrain-auc:0.647403\ttrain-logloss:0.652457\ttest-auc:0.612559\ttest-logloss:0.66625\n",
      "[277]\ttrain-auc:0.647485\ttrain-logloss:0.652425\ttest-auc:0.612502\ttest-logloss:0.666265\n",
      "[278]\ttrain-auc:0.647623\ttrain-logloss:0.652382\ttest-auc:0.612458\ttest-logloss:0.666279\n",
      "[279]\ttrain-auc:0.647686\ttrain-logloss:0.652346\ttest-auc:0.612435\ttest-logloss:0.666284\n",
      "[280]\ttrain-auc:0.647775\ttrain-logloss:0.652306\ttest-auc:0.612522\ttest-logloss:0.666248\n",
      "[281]\ttrain-auc:0.647841\ttrain-logloss:0.652278\ttest-auc:0.612541\ttest-logloss:0.666233\n",
      "[282]\ttrain-auc:0.647936\ttrain-logloss:0.652242\ttest-auc:0.612579\ttest-logloss:0.666219\n",
      "[283]\ttrain-auc:0.647992\ttrain-logloss:0.652203\ttest-auc:0.612562\ttest-logloss:0.666224\n",
      "[284]\ttrain-auc:0.648085\ttrain-logloss:0.652159\ttest-auc:0.612661\ttest-logloss:0.666199\n",
      "[285]\ttrain-auc:0.648184\ttrain-logloss:0.652115\ttest-auc:0.612705\ttest-logloss:0.666185\n",
      "[286]\ttrain-auc:0.648278\ttrain-logloss:0.652072\ttest-auc:0.612764\ttest-logloss:0.666173\n",
      "[287]\ttrain-auc:0.648318\ttrain-logloss:0.652041\ttest-auc:0.612741\ttest-logloss:0.666175\n",
      "[288]\ttrain-auc:0.648483\ttrain-logloss:0.651995\ttest-auc:0.612761\ttest-logloss:0.666166\n",
      "[289]\ttrain-auc:0.648554\ttrain-logloss:0.651953\ttest-auc:0.612758\ttest-logloss:0.66616\n",
      "[290]\ttrain-auc:0.64859\ttrain-logloss:0.65192\ttest-auc:0.612716\ttest-logloss:0.666161\n",
      "[291]\ttrain-auc:0.648701\ttrain-logloss:0.651872\ttest-auc:0.612731\ttest-logloss:0.666148\n",
      "[292]\ttrain-auc:0.64882\ttrain-logloss:0.651814\ttest-auc:0.612861\ttest-logloss:0.666105\n",
      "[293]\ttrain-auc:0.64886\ttrain-logloss:0.651786\ttest-auc:0.612913\ttest-logloss:0.666086\n",
      "[294]\ttrain-auc:0.648963\ttrain-logloss:0.651749\ttest-auc:0.612902\ttest-logloss:0.666088\n",
      "[295]\ttrain-auc:0.649065\ttrain-logloss:0.651704\ttest-auc:0.61296\ttest-logloss:0.666072\n",
      "[296]\ttrain-auc:0.649242\ttrain-logloss:0.651645\ttest-auc:0.613032\ttest-logloss:0.666055\n",
      "[297]\ttrain-auc:0.649376\ttrain-logloss:0.65159\ttest-auc:0.613088\ttest-logloss:0.666038\n",
      "[298]\ttrain-auc:0.649385\ttrain-logloss:0.65158\ttest-auc:0.613134\ttest-logloss:0.666024\n",
      "[299]\ttrain-auc:0.649445\ttrain-logloss:0.651544\ttest-auc:0.613223\ttest-logloss:0.665995\n",
      "[300]\ttrain-auc:0.649482\ttrain-logloss:0.65152\ttest-auc:0.613215\ttest-logloss:0.665999\n",
      "[301]\ttrain-auc:0.649549\ttrain-logloss:0.651478\ttest-auc:0.613178\ttest-logloss:0.666012\n",
      "[302]\ttrain-auc:0.649604\ttrain-logloss:0.651455\ttest-auc:0.613197\ttest-logloss:0.666014\n",
      "[303]\ttrain-auc:0.649669\ttrain-logloss:0.651423\ttest-auc:0.613147\ttest-logloss:0.666027\n",
      "[304]\ttrain-auc:0.649724\ttrain-logloss:0.651381\ttest-auc:0.613222\ttest-logloss:0.666017\n",
      "[305]\ttrain-auc:0.649778\ttrain-logloss:0.651338\ttest-auc:0.613156\ttest-logloss:0.666041\n",
      "[306]\ttrain-auc:0.649883\ttrain-logloss:0.651288\ttest-auc:0.613181\ttest-logloss:0.666038\n",
      "[307]\ttrain-auc:0.649964\ttrain-logloss:0.651248\ttest-auc:0.613192\ttest-logloss:0.666019\n",
      "[308]\ttrain-auc:0.64999\ttrain-logloss:0.651237\ttest-auc:0.613149\ttest-logloss:0.666042\n",
      "[309]\ttrain-auc:0.650051\ttrain-logloss:0.651195\ttest-auc:0.613194\ttest-logloss:0.666038\n",
      "Stopping. Best iteration:\n",
      "[299]\ttrain-auc:0.649445\ttrain-logloss:0.651544\ttest-auc:0.613223\ttest-logloss:0.665995\n",
      "\n"
     ]
    }
   ],
   "source": [
    "clf = xgb.train(param, \n",
    "                pool, \n",
    "                num_boost_round=1000,\n",
    "                early_stopping_rounds=10,\n",
    "                evals=[(pool, 'train'), \n",
    "                       (pool_test, 'test')]\n",
    "               )"
   ]
  },
  {
   "cell_type": "code",
   "execution_count": 103,
   "metadata": {},
   "outputs": [
    {
     "data": {
      "text/plain": [
       "<xgboost.core.Booster at 0x7fd980f53da0>"
      ]
     },
     "execution_count": 103,
     "metadata": {},
     "output_type": "execute_result"
    }
   ],
   "source": [
    "clf"
   ]
  },
  {
   "cell_type": "code",
   "execution_count": 107,
   "metadata": {},
   "outputs": [
    {
     "data": {
      "text/plain": [
       "0.6834326947038624"
      ]
     },
     "execution_count": 107,
     "metadata": {},
     "output_type": "execute_result"
    }
   ],
   "source": [
    "metrics.roc_auc_score(pool.get_label(), clf.predict(pool))"
   ]
  },
  {
   "cell_type": "code",
   "execution_count": 108,
   "metadata": {},
   "outputs": [
    {
     "data": {
      "text/plain": [
       "0.6114461274781781"
      ]
     },
     "execution_count": 108,
     "metadata": {},
     "output_type": "execute_result"
    }
   ],
   "source": [
    "metrics.roc_auc_score(pool_test.get_label(), clf.predict(pool_test))"
   ]
  },
  {
   "cell_type": "code",
   "execution_count": 187,
   "metadata": {},
   "outputs": [],
   "source": [
    "clf = ensemble.RandomForestClassifier(max_depth=4,\n",
    "                                      n_estimators=100,\n",
    "                                      n_jobs=4,\n",
    "                                     criterion='gini')"
   ]
  },
  {
   "cell_type": "code",
   "execution_count": 188,
   "metadata": {},
   "outputs": [
    {
     "data": {
      "text/plain": [
       "RandomForestClassifier(bootstrap=True, class_weight=None, criterion='gini',\n",
       "            max_depth=4, max_features='auto', max_leaf_nodes=None,\n",
       "            min_impurity_decrease=0.0, min_impurity_split=None,\n",
       "            min_samples_leaf=1, min_samples_split=2,\n",
       "            min_weight_fraction_leaf=0.0, n_estimators=100, n_jobs=4,\n",
       "            oob_score=False, random_state=None, verbose=0,\n",
       "            warm_start=False)"
      ]
     },
     "execution_count": 188,
     "metadata": {},
     "output_type": "execute_result"
    }
   ],
   "source": [
    "clf.fit(x_train, y_train)"
   ]
  },
  {
   "cell_type": "code",
   "execution_count": 189,
   "metadata": {},
   "outputs": [
    {
     "data": {
      "text/plain": [
       "0.5969794774005208"
      ]
     },
     "execution_count": 189,
     "metadata": {},
     "output_type": "execute_result"
    }
   ],
   "source": [
    "metrics.roc_auc_score(y_train, clf.predict_proba(x_train)[:, 1])"
   ]
  },
  {
   "cell_type": "code",
   "execution_count": 191,
   "metadata": {},
   "outputs": [
    {
     "name": "stdout",
     "output_type": "stream",
     "text": [
      "PassengerId,Survived\n",
      "892,0\n",
      "893,1\n",
      "894,0\n",
      "895,0\n",
      "896,1\n",
      "897,0\n",
      "898,1\n",
      "899,0\n",
      "900,1\n"
     ]
    }
   ],
   "source": [
    "!head gender_submission.csv"
   ]
  },
  {
   "cell_type": "code",
   "execution_count": 190,
   "metadata": {},
   "outputs": [
    {
     "data": {
      "text/plain": [
       "0.5864368224248238"
      ]
     },
     "execution_count": 190,
     "metadata": {},
     "output_type": "execute_result"
    }
   ],
   "source": [
    "metrics.roc_auc_score(y_test, clf.predict_proba(x_test)[:, 1])"
   ]
  },
  {
   "cell_type": "code",
   "execution_count": 192,
   "metadata": {},
   "outputs": [
    {
     "name": "stdout",
     "output_type": "stream",
     "text": [
      "PassengerId,Survived,Pclass,Name,Sex,Age,SibSp,Parch,Ticket,Fare,Cabin,Embarked\n",
      "1,0,3,\"Braund, Mr. Owen Harris\",male,22,1,0,A/5 21171,7.25,,S\n",
      "2,1,1,\"Cumings, Mrs. John Bradley (Florence Briggs Thayer)\",female,38,1,0,PC 17599,71.2833,C85,C\n",
      "3,1,3,\"Heikkinen, Miss. Laina\",female,26,0,0,STON/O2. 3101282,7.925,,S\n",
      "4,1,1,\"Futrelle, Mrs. Jacques Heath (Lily May Peel)\",female,35,1,0,113803,53.1,C123,S\n",
      "5,0,3,\"Allen, Mr. William Henry\",male,35,0,0,373450,8.05,,S\n",
      "6,0,3,\"Moran, Mr. James\",male,,0,0,330877,8.4583,,Q\n",
      "7,0,1,\"McCarthy, Mr. Timothy J\",male,54,0,0,17463,51.8625,E46,S\n",
      "8,0,3,\"Palsson, Master. Gosta Leonard\",male,2,3,1,349909,21.075,,S\n",
      "9,1,3,\"Johnson, Mrs. Oscar W (Elisabeth Vilhelmina Berg)\",female,27,0,2,347742,11.1333,,S\n"
     ]
    }
   ],
   "source": [
    "!head train.csv"
   ]
  },
  {
   "cell_type": "code",
   "execution_count": 193,
   "metadata": {},
   "outputs": [],
   "source": [
    "data = pd.read_csv('train.csv')"
   ]
  },
  {
   "cell_type": "code",
   "execution_count": 195,
   "metadata": {},
   "outputs": [
    {
     "data": {
      "text/html": [
       "<div>\n",
       "<table border=\"1\" class=\"dataframe\">\n",
       "  <thead>\n",
       "    <tr style=\"text-align: right;\">\n",
       "      <th></th>\n",
       "      <th>PassengerId</th>\n",
       "      <th>Survived</th>\n",
       "      <th>Pclass</th>\n",
       "      <th>Name</th>\n",
       "      <th>Sex</th>\n",
       "      <th>Age</th>\n",
       "      <th>SibSp</th>\n",
       "      <th>Parch</th>\n",
       "      <th>Ticket</th>\n",
       "      <th>Fare</th>\n",
       "      <th>Cabin</th>\n",
       "      <th>Embarked</th>\n",
       "    </tr>\n",
       "  </thead>\n",
       "  <tbody>\n",
       "    <tr>\n",
       "      <th>0</th>\n",
       "      <td>1</td>\n",
       "      <td>0</td>\n",
       "      <td>3</td>\n",
       "      <td>Braund, Mr. Owen Harris</td>\n",
       "      <td>male</td>\n",
       "      <td>22.0</td>\n",
       "      <td>1</td>\n",
       "      <td>0</td>\n",
       "      <td>A/5 21171</td>\n",
       "      <td>7.2500</td>\n",
       "      <td>NaN</td>\n",
       "      <td>S</td>\n",
       "    </tr>\n",
       "    <tr>\n",
       "      <th>1</th>\n",
       "      <td>2</td>\n",
       "      <td>1</td>\n",
       "      <td>1</td>\n",
       "      <td>Cumings, Mrs. John Bradley (Florence Briggs Th...</td>\n",
       "      <td>female</td>\n",
       "      <td>38.0</td>\n",
       "      <td>1</td>\n",
       "      <td>0</td>\n",
       "      <td>PC 17599</td>\n",
       "      <td>71.2833</td>\n",
       "      <td>C85</td>\n",
       "      <td>C</td>\n",
       "    </tr>\n",
       "    <tr>\n",
       "      <th>2</th>\n",
       "      <td>3</td>\n",
       "      <td>1</td>\n",
       "      <td>3</td>\n",
       "      <td>Heikkinen, Miss. Laina</td>\n",
       "      <td>female</td>\n",
       "      <td>26.0</td>\n",
       "      <td>0</td>\n",
       "      <td>0</td>\n",
       "      <td>STON/O2. 3101282</td>\n",
       "      <td>7.9250</td>\n",
       "      <td>NaN</td>\n",
       "      <td>S</td>\n",
       "    </tr>\n",
       "  </tbody>\n",
       "</table>\n",
       "</div>"
      ],
      "text/plain": [
       "   PassengerId  Survived  Pclass  \\\n",
       "0            1         0       3   \n",
       "1            2         1       1   \n",
       "2            3         1       3   \n",
       "\n",
       "                                                Name     Sex   Age  SibSp  \\\n",
       "0                            Braund, Mr. Owen Harris    male  22.0      1   \n",
       "1  Cumings, Mrs. John Bradley (Florence Briggs Th...  female  38.0      1   \n",
       "2                             Heikkinen, Miss. Laina  female  26.0      0   \n",
       "\n",
       "   Parch            Ticket     Fare Cabin Embarked  \n",
       "0      0         A/5 21171   7.2500   NaN        S  \n",
       "1      0          PC 17599  71.2833   C85        C  \n",
       "2      0  STON/O2. 3101282   7.9250   NaN        S  "
      ]
     },
     "execution_count": 195,
     "metadata": {},
     "output_type": "execute_result"
    }
   ],
   "source": [
    "data.head(n=3)"
   ]
  },
  {
   "cell_type": "code",
   "execution_count": 205,
   "metadata": {},
   "outputs": [],
   "source": [
    "x_dat = data[['Pclass', 'Age', 'SibSp', 'Parch', 'Fare', 'Survived']]"
   ]
  },
  {
   "cell_type": "code",
   "execution_count": 206,
   "metadata": {},
   "outputs": [
    {
     "data": {
      "text/html": [
       "<div>\n",
       "<table border=\"1\" class=\"dataframe\">\n",
       "  <thead>\n",
       "    <tr style=\"text-align: right;\">\n",
       "      <th></th>\n",
       "      <th>Pclass</th>\n",
       "      <th>Age</th>\n",
       "      <th>SibSp</th>\n",
       "      <th>Parch</th>\n",
       "      <th>Fare</th>\n",
       "      <th>Survived</th>\n",
       "    </tr>\n",
       "  </thead>\n",
       "  <tbody>\n",
       "    <tr>\n",
       "      <th>0</th>\n",
       "      <td>3</td>\n",
       "      <td>22.0</td>\n",
       "      <td>1</td>\n",
       "      <td>0</td>\n",
       "      <td>7.2500</td>\n",
       "      <td>0</td>\n",
       "    </tr>\n",
       "    <tr>\n",
       "      <th>1</th>\n",
       "      <td>1</td>\n",
       "      <td>38.0</td>\n",
       "      <td>1</td>\n",
       "      <td>0</td>\n",
       "      <td>71.2833</td>\n",
       "      <td>1</td>\n",
       "    </tr>\n",
       "  </tbody>\n",
       "</table>\n",
       "</div>"
      ],
      "text/plain": [
       "   Pclass   Age  SibSp  Parch     Fare  Survived\n",
       "0       3  22.0      1      0   7.2500         0\n",
       "1       1  38.0      1      0  71.2833         1"
      ]
     },
     "execution_count": 206,
     "metadata": {},
     "output_type": "execute_result"
    }
   ],
   "source": [
    "x_dat.head(n=2)"
   ]
  },
  {
   "cell_type": "code",
   "execution_count": 207,
   "metadata": {},
   "outputs": [],
   "source": [
    "y_dat = data.Survived"
   ]
  },
  {
   "cell_type": "code",
   "execution_count": 208,
   "metadata": {},
   "outputs": [],
   "source": [
    "x_dat_pure = x_dat.dropna()"
   ]
  },
  {
   "cell_type": "code",
   "execution_count": 209,
   "metadata": {},
   "outputs": [
    {
     "data": {
      "text/plain": [
       "(891,)"
      ]
     },
     "execution_count": 209,
     "metadata": {},
     "output_type": "execute_result"
    }
   ],
   "source": [
    "y_dat.shape"
   ]
  },
  {
   "cell_type": "code",
   "execution_count": 217,
   "metadata": {},
   "outputs": [],
   "source": [
    "x_train, x_test, y_train, y_test = model_selection.train_test_split(\n",
    "    x_dat.drop('Survived', axis = 1), x_dat.Survived)"
   ]
  },
  {
   "cell_type": "code",
   "execution_count": 218,
   "metadata": {},
   "outputs": [
    {
     "data": {
      "text/plain": [
       "((668, 5), (668,), (223, 5), (223,))"
      ]
     },
     "execution_count": 218,
     "metadata": {},
     "output_type": "execute_result"
    }
   ],
   "source": [
    "x_train.shape, y_train.shape, x_test.shape, y_test.shape"
   ]
  },
  {
   "cell_type": "code",
   "execution_count": 222,
   "metadata": {},
   "outputs": [],
   "source": [
    "pool = xgb.DMatrix(x_train, label=y_train)\n",
    "pool_test = xgb.DMatrix(x_test, label=y_test)"
   ]
  },
  {
   "cell_type": "code",
   "execution_count": 231,
   "metadata": {},
   "outputs": [],
   "source": [
    "param = {'eta': 0.01,\n",
    "         'objective': 'binary:logistic',\n",
    "         'eval_metric': ['auc', 'logloss'], \n",
    "         'subsample': 0.8,\n",
    "         'max_depth': 3\n",
    "        }"
   ]
  },
  {
   "cell_type": "code",
   "execution_count": 232,
   "metadata": {},
   "outputs": [
    {
     "name": "stdout",
     "output_type": "stream",
     "text": [
      "[0]\ttrain-auc:0.737332\ttrain-logloss:0.690812\ttest-auc:0.705507\ttest-logloss:0.690892\n",
      "Multiple eval metrics have been passed: 'test-logloss' will be used for early stopping.\n",
      "\n",
      "Will train until test-logloss hasn't improved in 10 rounds.\n",
      "[1]\ttrain-auc:0.756247\ttrain-logloss:0.68854\ttest-auc:0.718619\ttest-logloss:0.688852\n",
      "[2]\ttrain-auc:0.762146\ttrain-logloss:0.686473\ttest-auc:0.710315\ttest-logloss:0.686854\n",
      "[3]\ttrain-auc:0.763457\ttrain-logloss:0.684319\ttest-auc:0.730638\ttest-logloss:0.684771\n",
      "[4]\ttrain-auc:0.762626\ttrain-logloss:0.682191\ttest-auc:0.729939\ttest-logloss:0.682882\n",
      "[5]\ttrain-auc:0.765356\ttrain-logloss:0.680102\ttest-auc:0.728977\ttest-logloss:0.680814\n",
      "[6]\ttrain-auc:0.771542\ttrain-logloss:0.678126\ttest-auc:0.719668\ttest-logloss:0.679116\n",
      "[7]\ttrain-auc:0.778729\ttrain-logloss:0.67626\ttest-auc:0.738199\ttest-logloss:0.677267\n",
      "[8]\ttrain-auc:0.7821\ttrain-logloss:0.674166\ttest-auc:0.743706\ttest-logloss:0.675268\n",
      "[9]\ttrain-auc:0.783171\ttrain-logloss:0.672032\ttest-auc:0.733261\ttest-logloss:0.673464\n",
      "[10]\ttrain-auc:0.783294\ttrain-logloss:0.670037\ttest-auc:0.725874\ttest-logloss:0.671759\n",
      "[11]\ttrain-auc:0.782955\ttrain-logloss:0.668143\ttest-auc:0.725612\ttest-logloss:0.670065\n",
      "[12]\ttrain-auc:0.783641\ttrain-logloss:0.666015\ttest-auc:0.727666\ttest-logloss:0.667951\n",
      "[13]\ttrain-auc:0.783425\ttrain-logloss:0.664212\ttest-auc:0.729939\ttest-logloss:0.666202\n",
      "[14]\ttrain-auc:0.783834\ttrain-logloss:0.662283\ttest-auc:0.731469\ttest-logloss:0.664307\n",
      "[15]\ttrain-auc:0.78609\ttrain-logloss:0.660549\ttest-auc:0.742351\ttest-logloss:0.662698\n",
      "[16]\ttrain-auc:0.786109\ttrain-logloss:0.658844\ttest-auc:0.742264\ttest-logloss:0.661103\n",
      "[17]\ttrain-auc:0.785559\ttrain-logloss:0.657077\ttest-auc:0.740778\ttest-logloss:0.65964\n",
      "[18]\ttrain-auc:0.788206\ttrain-logloss:0.655354\ttest-auc:0.737544\ttest-logloss:0.658193\n",
      "[19]\ttrain-auc:0.786965\ttrain-logloss:0.653594\ttest-auc:0.731119\ttest-logloss:0.656569\n",
      "[20]\ttrain-auc:0.786579\ttrain-logloss:0.651934\ttest-auc:0.729545\ttest-logloss:0.654895\n",
      "[21]\ttrain-auc:0.788699\ttrain-logloss:0.650504\ttest-auc:0.741171\ttest-logloss:0.653538\n",
      "[22]\ttrain-auc:0.786889\ttrain-logloss:0.649034\ttest-auc:0.737325\ttest-logloss:0.652127\n",
      "[23]\ttrain-auc:0.786983\ttrain-logloss:0.647308\ttest-auc:0.731993\ttest-logloss:0.650592\n",
      "[24]\ttrain-auc:0.787933\ttrain-logloss:0.645717\ttest-auc:0.72972\ttest-logloss:0.649415\n",
      "[25]\ttrain-auc:0.787435\ttrain-logloss:0.644125\ttest-auc:0.73042\ttest-logloss:0.647957\n",
      "[26]\ttrain-auc:0.788191\ttrain-logloss:0.642522\ttest-auc:0.730551\ttest-logloss:0.646555\n",
      "[27]\ttrain-auc:0.788102\ttrain-logloss:0.640953\ttest-auc:0.731337\ttest-logloss:0.645082\n",
      "[28]\ttrain-auc:0.787811\ttrain-logloss:0.639394\ttest-auc:0.728802\ttest-logloss:0.643629\n",
      "[29]\ttrain-auc:0.78704\ttrain-logloss:0.638164\ttest-auc:0.726967\ttest-logloss:0.642534\n",
      "[30]\ttrain-auc:0.789446\ttrain-logloss:0.63685\ttest-auc:0.731818\ttest-logloss:0.641334\n",
      "[31]\ttrain-auc:0.792192\ttrain-logloss:0.635499\ttest-auc:0.735184\ttest-logloss:0.639956\n",
      "[32]\ttrain-auc:0.792365\ttrain-logloss:0.634015\ttest-auc:0.735708\ttest-logloss:0.638526\n",
      "[33]\ttrain-auc:0.792295\ttrain-logloss:0.632702\ttest-auc:0.734222\ttest-logloss:0.637463\n",
      "[34]\ttrain-auc:0.792074\ttrain-logloss:0.631287\ttest-auc:0.731993\ttest-logloss:0.636327\n",
      "[35]\ttrain-auc:0.79128\ttrain-logloss:0.630045\ttest-auc:0.731731\ttest-logloss:0.635157\n",
      "[36]\ttrain-auc:0.791595\ttrain-logloss:0.628809\ttest-auc:0.730594\ttest-logloss:0.634097\n",
      "[37]\ttrain-auc:0.793357\ttrain-logloss:0.627668\ttest-auc:0.734266\ttest-logloss:0.633227\n",
      "[38]\ttrain-auc:0.793677\ttrain-logloss:0.626322\ttest-auc:0.73479\ttest-logloss:0.631957\n",
      "[39]\ttrain-auc:0.795205\ttrain-logloss:0.625093\ttest-auc:0.737325\ttest-logloss:0.630801\n",
      "[40]\ttrain-auc:0.794885\ttrain-logloss:0.623994\ttest-auc:0.737413\ttest-logloss:0.629917\n",
      "[41]\ttrain-auc:0.794659\ttrain-logloss:0.622921\ttest-auc:0.73903\ttest-logloss:0.628995\n",
      "[42]\ttrain-auc:0.794753\ttrain-logloss:0.621687\ttest-auc:0.73632\ttest-logloss:0.628051\n",
      "[43]\ttrain-auc:0.793879\ttrain-logloss:0.620583\ttest-auc:0.734834\ttest-logloss:0.627201\n",
      "[44]\ttrain-auc:0.795571\ttrain-logloss:0.619308\ttest-auc:0.739161\ttest-logloss:0.62587\n",
      "[45]\ttrain-auc:0.795543\ttrain-logloss:0.61823\ttest-auc:0.738986\ttest-logloss:0.624798\n",
      "[46]\ttrain-auc:0.79599\ttrain-logloss:0.61709\ttest-auc:0.738986\ttest-logloss:0.623712\n",
      "[47]\ttrain-auc:0.796102\ttrain-logloss:0.615844\ttest-auc:0.739248\ttest-logloss:0.622565\n",
      "[48]\ttrain-auc:0.795731\ttrain-logloss:0.614889\ttest-auc:0.73951\ttest-logloss:0.621699\n",
      "[49]\ttrain-auc:0.796384\ttrain-logloss:0.613749\ttest-auc:0.741696\ttest-logloss:0.620552\n",
      "[50]\ttrain-auc:0.796488\ttrain-logloss:0.612763\ttest-auc:0.743619\ttest-logloss:0.619608\n",
      "[51]\ttrain-auc:0.79629\ttrain-logloss:0.611597\ttest-auc:0.741696\ttest-logloss:0.618791\n",
      "[52]\ttrain-auc:0.796864\ttrain-logloss:0.61044\ttest-auc:0.742745\ttest-logloss:0.617548\n",
      "[53]\ttrain-auc:0.796779\ttrain-logloss:0.609374\ttest-auc:0.743094\ttest-logloss:0.616512\n",
      "[54]\ttrain-auc:0.797466\ttrain-logloss:0.608267\ttest-auc:0.7434\ttest-logloss:0.615564\n",
      "[55]\ttrain-auc:0.79747\ttrain-logloss:0.607326\ttest-auc:0.744537\ttest-logloss:0.614778\n",
      "[56]\ttrain-auc:0.797616\ttrain-logloss:0.606202\ttest-auc:0.744755\ttest-logloss:0.613719\n",
      "[57]\ttrain-auc:0.79794\ttrain-logloss:0.605311\ttest-auc:0.746853\ttest-logloss:0.612791\n",
      "[58]\ttrain-auc:0.798138\ttrain-logloss:0.604323\ttest-auc:0.746853\ttest-logloss:0.611953\n",
      "[59]\ttrain-auc:0.799026\ttrain-logloss:0.603372\ttest-auc:0.749432\ttest-logloss:0.611059\n",
      "[60]\ttrain-auc:0.799101\ttrain-logloss:0.602495\ttest-auc:0.753059\ttest-logloss:0.610445\n",
      "[61]\ttrain-auc:0.799308\ttrain-logloss:0.601607\ttest-auc:0.754196\ttest-logloss:0.609641\n",
      "[62]\ttrain-auc:0.799623\ttrain-logloss:0.60065\ttest-auc:0.753934\ttest-logloss:0.608776\n",
      "[63]\ttrain-auc:0.799679\ttrain-logloss:0.599692\ttest-auc:0.754021\ttest-logloss:0.607893\n",
      "[64]\ttrain-auc:0.799689\ttrain-logloss:0.59885\ttest-auc:0.754283\ttest-logloss:0.607138\n",
      "[65]\ttrain-auc:0.799698\ttrain-logloss:0.597894\ttest-auc:0.753846\ttest-logloss:0.6063\n",
      "[66]\ttrain-auc:0.799708\ttrain-logloss:0.597079\ttest-auc:0.753322\ttest-logloss:0.605735\n",
      "[67]\ttrain-auc:0.799473\ttrain-logloss:0.5963\ttest-auc:0.752273\ttest-logloss:0.605316\n",
      "[68]\ttrain-auc:0.799595\ttrain-logloss:0.595387\ttest-auc:0.752972\ttest-logloss:0.604415\n",
      "[69]\ttrain-auc:0.799877\ttrain-logloss:0.594602\ttest-auc:0.754327\ttest-logloss:0.603846\n",
      "[70]\ttrain-auc:0.800164\ttrain-logloss:0.593725\ttest-auc:0.755288\ttest-logloss:0.603017\n",
      "[71]\ttrain-auc:0.799708\ttrain-logloss:0.592998\ttest-auc:0.755988\ttest-logloss:0.602235\n",
      "[72]\ttrain-auc:0.799604\ttrain-logloss:0.592174\ttest-auc:0.754677\ttest-logloss:0.601726\n",
      "[73]\ttrain-auc:0.800258\ttrain-logloss:0.591318\ttest-auc:0.753977\ttest-logloss:0.600888\n",
      "[74]\ttrain-auc:0.800493\ttrain-logloss:0.59052\ttest-auc:0.754677\ttest-logloss:0.600188\n",
      "[75]\ttrain-auc:0.800436\ttrain-logloss:0.589741\ttest-auc:0.754764\ttest-logloss:0.599539\n",
      "[76]\ttrain-auc:0.800192\ttrain-logloss:0.588824\ttest-auc:0.753802\ttest-logloss:0.598993\n",
      "[77]\ttrain-auc:0.80054\ttrain-logloss:0.588055\ttest-auc:0.751879\ttest-logloss:0.598585\n",
      "[78]\ttrain-auc:0.800568\ttrain-logloss:0.587297\ttest-auc:0.751967\ttest-logloss:0.59798\n",
      "[79]\ttrain-auc:0.800793\ttrain-logloss:0.586561\ttest-auc:0.751792\ttest-logloss:0.597316\n",
      "[80]\ttrain-auc:0.800869\ttrain-logloss:0.585809\ttest-auc:0.752229\ttest-logloss:0.596607\n",
      "[81]\ttrain-auc:0.800897\ttrain-logloss:0.585062\ttest-auc:0.752579\ttest-logloss:0.595989\n",
      "[82]\ttrain-auc:0.800934\ttrain-logloss:0.58432\ttest-auc:0.753453\ttest-logloss:0.595314\n",
      "[83]\ttrain-auc:0.801075\ttrain-logloss:0.583544\ttest-auc:0.753715\ttest-logloss:0.594544\n",
      "[84]\ttrain-auc:0.801094\ttrain-logloss:0.582825\ttest-auc:0.753934\ttest-logloss:0.594038\n",
      "[85]\ttrain-auc:0.800601\ttrain-logloss:0.582129\ttest-auc:0.754983\ttest-logloss:0.59352\n",
      "[86]\ttrain-auc:0.801414\ttrain-logloss:0.581436\ttest-auc:0.756993\ttest-logloss:0.592952\n",
      "[87]\ttrain-auc:0.801865\ttrain-logloss:0.5807\ttest-auc:0.758392\ttest-logloss:0.59222\n",
      "[88]\ttrain-auc:0.801762\ttrain-logloss:0.580029\ttest-auc:0.758479\ttest-logloss:0.591654\n",
      "[89]\ttrain-auc:0.801663\ttrain-logloss:0.579127\ttest-auc:0.760402\ttest-logloss:0.59106\n",
      "[90]\ttrain-auc:0.801494\ttrain-logloss:0.578448\ttest-auc:0.759528\ttest-logloss:0.590635\n",
      "[91]\ttrain-auc:0.801249\ttrain-logloss:0.57777\ttest-auc:0.76049\ttest-logloss:0.589916\n",
      "[92]\ttrain-auc:0.801607\ttrain-logloss:0.577209\ttest-auc:0.760839\ttest-logloss:0.58951\n",
      "[93]\ttrain-auc:0.801503\ttrain-logloss:0.576537\ttest-auc:0.761801\ttest-logloss:0.589035\n",
      "[94]\ttrain-auc:0.802095\ttrain-logloss:0.576027\ttest-auc:0.762413\ttest-logloss:0.588466\n",
      "[95]\ttrain-auc:0.802133\ttrain-logloss:0.575248\ttest-auc:0.764248\ttest-logloss:0.587552\n",
      "[96]\ttrain-auc:0.802081\ttrain-logloss:0.574589\ttest-auc:0.765385\ttest-logloss:0.587164\n",
      "[97]\ttrain-auc:0.802857\ttrain-logloss:0.574069\ttest-auc:0.765909\ttest-logloss:0.586739\n",
      "[98]\ttrain-auc:0.802866\ttrain-logloss:0.57341\ttest-auc:0.766434\ttest-logloss:0.586116\n",
      "[99]\ttrain-auc:0.803327\ttrain-logloss:0.57286\ttest-auc:0.768575\ttest-logloss:0.585781\n",
      "[100]\ttrain-auc:0.80328\ttrain-logloss:0.572247\ttest-auc:0.768881\ttest-logloss:0.585251\n",
      "[101]\ttrain-auc:0.803835\ttrain-logloss:0.571619\ttest-auc:0.768619\ttest-logloss:0.584787\n",
      "[102]\ttrain-auc:0.803985\ttrain-logloss:0.571074\ttest-auc:0.768444\ttest-logloss:0.584371\n",
      "[103]\ttrain-auc:0.804615\ttrain-logloss:0.570407\ttest-auc:0.769231\ttest-logloss:0.583842\n",
      "[104]\ttrain-auc:0.80572\ttrain-logloss:0.569778\ttest-auc:0.768269\ttest-logloss:0.583518\n",
      "[105]\ttrain-auc:0.805785\ttrain-logloss:0.569265\ttest-auc:0.768531\ttest-logloss:0.58314\n",
      "[106]\ttrain-auc:0.805795\ttrain-logloss:0.568639\ttest-auc:0.768269\ttest-logloss:0.582806\n",
      "[107]\ttrain-auc:0.806688\ttrain-logloss:0.568189\ttest-auc:0.766783\ttest-logloss:0.5825\n",
      "[108]\ttrain-auc:0.806655\ttrain-logloss:0.567578\ttest-auc:0.768269\ttest-logloss:0.582052\n",
      "[109]\ttrain-auc:0.806476\ttrain-logloss:0.567029\ttest-auc:0.768094\ttest-logloss:0.581621\n",
      "[110]\ttrain-auc:0.807586\ttrain-logloss:0.566474\ttest-auc:0.768094\ttest-logloss:0.581254\n",
      "[111]\ttrain-auc:0.807313\ttrain-logloss:0.565966\ttest-auc:0.768182\ttest-logloss:0.58094\n",
      "[112]\ttrain-auc:0.808065\ttrain-logloss:0.56538\ttest-auc:0.768925\ttest-logloss:0.580687\n",
      "[113]\ttrain-auc:0.808253\ttrain-logloss:0.564834\ttest-auc:0.767876\ttest-logloss:0.580326\n",
      "[114]\ttrain-auc:0.808197\ttrain-logloss:0.564312\ttest-auc:0.767788\ttest-logloss:0.579961\n",
      "[115]\ttrain-auc:0.807736\ttrain-logloss:0.56393\ttest-auc:0.767351\ttest-logloss:0.579572\n",
      "[116]\ttrain-auc:0.808074\ttrain-logloss:0.563243\ttest-auc:0.767264\ttest-logloss:0.579235\n",
      "[117]\ttrain-auc:0.808535\ttrain-logloss:0.562686\ttest-auc:0.767264\ttest-logloss:0.578883\n",
      "[118]\ttrain-auc:0.808512\ttrain-logloss:0.562186\ttest-auc:0.767614\ttest-logloss:0.578371\n",
      "[119]\ttrain-auc:0.808404\ttrain-logloss:0.561643\ttest-auc:0.767526\ttest-logloss:0.577955\n",
      "[120]\ttrain-auc:0.808253\ttrain-logloss:0.561105\ttest-auc:0.767614\ttest-logloss:0.577621\n",
      "[121]\ttrain-auc:0.808314\ttrain-logloss:0.560732\ttest-auc:0.768138\ttest-logloss:0.577295\n",
      "[122]\ttrain-auc:0.808389\ttrain-logloss:0.560308\ttest-auc:0.768488\ttest-logloss:0.577105\n",
      "[123]\ttrain-auc:0.808295\ttrain-logloss:0.559904\ttest-auc:0.768925\ttest-logloss:0.576848\n",
      "[124]\ttrain-auc:0.808737\ttrain-logloss:0.559449\ttest-auc:0.76958\ttest-logloss:0.576491\n",
      "[125]\ttrain-auc:0.80869\ttrain-logloss:0.55889\ttest-auc:0.76958\ttest-logloss:0.576147\n",
      "[126]\ttrain-auc:0.808681\ttrain-logloss:0.558342\ttest-auc:0.769231\ttest-logloss:0.575906\n",
      "[127]\ttrain-auc:0.808756\ttrain-logloss:0.557848\ttest-auc:0.769318\ttest-logloss:0.575526\n",
      "[128]\ttrain-auc:0.808728\ttrain-logloss:0.557266\ttest-auc:0.768269\ttest-logloss:0.575452\n",
      "[129]\ttrain-auc:0.808878\ttrain-logloss:0.556955\ttest-auc:0.768094\ttest-logloss:0.575281\n",
      "[130]\ttrain-auc:0.809207\ttrain-logloss:0.556482\ttest-auc:0.768138\ttest-logloss:0.574822\n",
      "[131]\ttrain-auc:0.809113\ttrain-logloss:0.556024\ttest-auc:0.768575\ttest-logloss:0.574319\n",
      "[132]\ttrain-auc:0.809273\ttrain-logloss:0.555544\ttest-auc:0.768313\ttest-logloss:0.573923\n",
      "[133]\ttrain-auc:0.809367\ttrain-logloss:0.555204\ttest-auc:0.768837\ttest-logloss:0.573645\n",
      "[134]\ttrain-auc:0.809306\ttrain-logloss:0.554571\ttest-auc:0.769056\ttest-logloss:0.573447\n",
      "[135]\ttrain-auc:0.809024\ttrain-logloss:0.554213\ttest-auc:0.768881\ttest-logloss:0.573158\n",
      "[136]\ttrain-auc:0.808939\ttrain-logloss:0.553745\ttest-auc:0.768969\ttest-logloss:0.572908\n",
      "[137]\ttrain-auc:0.809109\ttrain-logloss:0.553328\ttest-auc:0.769318\ttest-logloss:0.572617\n",
      "[138]\ttrain-auc:0.809579\ttrain-logloss:0.552861\ttest-auc:0.768444\ttest-logloss:0.572317\n",
      "[139]\ttrain-auc:0.809447\ttrain-logloss:0.552457\ttest-auc:0.768357\ttest-logloss:0.571852\n",
      "[140]\ttrain-auc:0.809616\ttrain-logloss:0.55186\ttest-auc:0.768444\ttest-logloss:0.571565\n",
      "[141]\ttrain-auc:0.809898\ttrain-logloss:0.551342\ttest-auc:0.768837\ttest-logloss:0.571323\n",
      "[142]\ttrain-auc:0.809832\ttrain-logloss:0.550932\ttest-auc:0.768226\ttest-logloss:0.571099\n",
      "[143]\ttrain-auc:0.809823\ttrain-logloss:0.550488\ttest-auc:0.768925\ttest-logloss:0.570704\n",
      "[144]\ttrain-auc:0.810279\ttrain-logloss:0.550064\ttest-auc:0.768488\ttest-logloss:0.570603\n",
      "[145]\ttrain-auc:0.81027\ttrain-logloss:0.549636\ttest-auc:0.768313\ttest-logloss:0.570185\n",
      "[146]\ttrain-auc:0.810067\ttrain-logloss:0.549282\ttest-auc:0.767963\ttest-logloss:0.570106\n",
      "[147]\ttrain-auc:0.810937\ttrain-logloss:0.548872\ttest-auc:0.766128\ttest-logloss:0.570171\n",
      "[148]\ttrain-auc:0.811708\ttrain-logloss:0.548393\ttest-auc:0.767614\ttest-logloss:0.569911\n",
      "[149]\ttrain-auc:0.812122\ttrain-logloss:0.548039\ttest-auc:0.767439\ttest-logloss:0.56978\n",
      "[150]\ttrain-auc:0.812451\ttrain-logloss:0.547745\ttest-auc:0.766914\ttest-logloss:0.569608\n",
      "[151]\ttrain-auc:0.812535\ttrain-logloss:0.54729\ttest-auc:0.767089\ttest-logloss:0.56921\n",
      "[152]\ttrain-auc:0.812512\ttrain-logloss:0.546893\ttest-auc:0.767351\ttest-logloss:0.569089\n",
      "[153]\ttrain-auc:0.812493\ttrain-logloss:0.546559\ttest-auc:0.767264\ttest-logloss:0.568693\n",
      "[154]\ttrain-auc:0.813019\ttrain-logloss:0.546175\ttest-auc:0.767526\ttest-logloss:0.568517\n",
      "[155]\ttrain-auc:0.813222\ttrain-logloss:0.545873\ttest-auc:0.767876\ttest-logloss:0.568158\n",
      "[156]\ttrain-auc:0.813668\ttrain-logloss:0.545573\ttest-auc:0.766958\ttest-logloss:0.568296\n",
      "[157]\ttrain-auc:0.813724\ttrain-logloss:0.545281\ttest-auc:0.76757\ttest-logloss:0.568076\n",
      "[158]\ttrain-auc:0.813988\ttrain-logloss:0.545012\ttest-auc:0.767657\ttest-logloss:0.567874\n",
      "[159]\ttrain-auc:0.813724\ttrain-logloss:0.544776\ttest-auc:0.767745\ttest-logloss:0.56756\n",
      "[160]\ttrain-auc:0.813931\ttrain-logloss:0.54437\ttest-auc:0.768182\ttest-logloss:0.567133\n",
      "[161]\ttrain-auc:0.813969\ttrain-logloss:0.544061\ttest-auc:0.768444\ttest-logloss:0.566968\n",
      "[162]\ttrain-auc:0.814317\ttrain-logloss:0.543673\ttest-auc:0.767745\ttest-logloss:0.566907\n",
      "[163]\ttrain-auc:0.814509\ttrain-logloss:0.543222\ttest-auc:0.76757\ttest-logloss:0.56688\n",
      "[164]\ttrain-auc:0.814773\ttrain-logloss:0.542945\ttest-auc:0.768094\ttest-logloss:0.566525\n",
      "[165]\ttrain-auc:0.81482\ttrain-logloss:0.542561\ttest-auc:0.767832\ttest-logloss:0.566333\n",
      "[166]\ttrain-auc:0.815064\ttrain-logloss:0.542214\ttest-auc:0.766958\ttest-logloss:0.566334\n",
      "[167]\ttrain-auc:0.814979\ttrain-logloss:0.541886\ttest-auc:0.766434\ttest-logloss:0.566342\n",
      "[168]\ttrain-auc:0.815055\ttrain-logloss:0.54155\ttest-auc:0.767045\ttest-logloss:0.565924\n",
      "[169]\ttrain-auc:0.815252\ttrain-logloss:0.541133\ttest-auc:0.76722\ttest-logloss:0.565753\n",
      "[170]\ttrain-auc:0.81529\ttrain-logloss:0.540821\ttest-auc:0.767308\ttest-logloss:0.565485\n",
      "[171]\ttrain-auc:0.81536\ttrain-logloss:0.540588\ttest-auc:0.76722\ttest-logloss:0.565274\n",
      "[172]\ttrain-auc:0.815229\ttrain-logloss:0.540179\ttest-auc:0.768007\ttest-logloss:0.565118\n",
      "[173]\ttrain-auc:0.815106\ttrain-logloss:0.539816\ttest-auc:0.768269\ttest-logloss:0.564913\n",
      "[174]\ttrain-auc:0.815078\ttrain-logloss:0.539504\ttest-auc:0.768269\ttest-logloss:0.564518\n",
      "[175]\ttrain-auc:0.814994\ttrain-logloss:0.539229\ttest-auc:0.768182\ttest-logloss:0.564317\n",
      "[176]\ttrain-auc:0.815398\ttrain-logloss:0.539019\ttest-auc:0.768531\ttest-logloss:0.564431\n",
      "[177]\ttrain-auc:0.815652\ttrain-logloss:0.538603\ttest-auc:0.768226\ttest-logloss:0.564331\n",
      "[178]\ttrain-auc:0.815764\ttrain-logloss:0.538222\ttest-auc:0.767876\ttest-logloss:0.564212\n",
      "[179]\ttrain-auc:0.815981\ttrain-logloss:0.537793\ttest-auc:0.766739\ttest-logloss:0.564123\n",
      "[180]\ttrain-auc:0.816338\ttrain-logloss:0.537449\ttest-auc:0.766739\ttest-logloss:0.563842\n",
      "[181]\ttrain-auc:0.816244\ttrain-logloss:0.537124\ttest-auc:0.766565\ttest-logloss:0.563687\n",
      "[182]\ttrain-auc:0.816319\ttrain-logloss:0.536769\ttest-auc:0.765865\ttest-logloss:0.563705\n",
      "[183]\ttrain-auc:0.816404\ttrain-logloss:0.536518\ttest-auc:0.766696\ttest-logloss:0.563617\n",
      "[184]\ttrain-auc:0.81646\ttrain-logloss:0.536307\ttest-auc:0.766871\ttest-logloss:0.563374\n",
      "[185]\ttrain-auc:0.816479\ttrain-logloss:0.53607\ttest-auc:0.766521\ttest-logloss:0.563173\n",
      "[186]\ttrain-auc:0.816578\ttrain-logloss:0.535782\ttest-auc:0.766521\ttest-logloss:0.562873\n",
      "[187]\ttrain-auc:0.817015\ttrain-logloss:0.535455\ttest-auc:0.765559\ttest-logloss:0.562909\n",
      "[188]\ttrain-auc:0.817081\ttrain-logloss:0.535055\ttest-auc:0.766084\ttest-logloss:0.562816\n",
      "[189]\ttrain-auc:0.817146\ttrain-logloss:0.534696\ttest-auc:0.766521\ttest-logloss:0.562559\n",
      "[190]\ttrain-auc:0.817297\ttrain-logloss:0.534456\ttest-auc:0.766346\ttest-logloss:0.562416\n",
      "[191]\ttrain-auc:0.817353\ttrain-logloss:0.534173\ttest-auc:0.765734\ttest-logloss:0.562422\n",
      "[192]\ttrain-auc:0.817391\ttrain-logloss:0.533823\ttest-auc:0.765035\ttest-logloss:0.562387\n",
      "[193]\ttrain-auc:0.817522\ttrain-logloss:0.533569\ttest-auc:0.765297\ttest-logloss:0.562232\n",
      "[194]\ttrain-auc:0.817607\ttrain-logloss:0.533407\ttest-auc:0.765122\ttest-logloss:0.561982\n",
      "[195]\ttrain-auc:0.817833\ttrain-logloss:0.533074\ttest-auc:0.764773\ttest-logloss:0.561914\n",
      "[196]\ttrain-auc:0.818058\ttrain-logloss:0.532775\ttest-auc:0.764336\ttest-logloss:0.561948\n",
      "[197]\ttrain-auc:0.818491\ttrain-logloss:0.532441\ttest-auc:0.763986\ttest-logloss:0.56215\n",
      "[198]\ttrain-auc:0.818735\ttrain-logloss:0.532162\ttest-auc:0.763986\ttest-logloss:0.561881\n",
      "[199]\ttrain-auc:0.818792\ttrain-logloss:0.531868\ttest-auc:0.764161\ttest-logloss:0.561717\n",
      "[200]\ttrain-auc:0.819139\ttrain-logloss:0.531619\ttest-auc:0.764248\ttest-logloss:0.561582\n",
      "[201]\ttrain-auc:0.819459\ttrain-logloss:0.531231\ttest-auc:0.764336\ttest-logloss:0.561506\n",
      "[202]\ttrain-auc:0.819534\ttrain-logloss:0.530938\ttest-auc:0.764511\ttest-logloss:0.561296\n",
      "[203]\ttrain-auc:0.8196\ttrain-logloss:0.530676\ttest-auc:0.764773\ttest-logloss:0.56117\n",
      "[204]\ttrain-auc:0.819642\ttrain-logloss:0.530498\ttest-auc:0.764729\ttest-logloss:0.561049\n",
      "[205]\ttrain-auc:0.819765\ttrain-logloss:0.530168\ttest-auc:0.764292\ttest-logloss:0.561025\n",
      "[206]\ttrain-auc:0.819849\ttrain-logloss:0.529894\ttest-auc:0.764379\ttest-logloss:0.560851\n",
      "[207]\ttrain-auc:0.819995\ttrain-logloss:0.529666\ttest-auc:0.764292\ttest-logloss:0.560645\n",
      "[208]\ttrain-auc:0.820174\ttrain-logloss:0.529404\ttest-auc:0.763767\ttest-logloss:0.560668\n",
      "[209]\ttrain-auc:0.820286\ttrain-logloss:0.529166\ttest-auc:0.764205\ttest-logloss:0.560526\n",
      "[210]\ttrain-auc:0.820451\ttrain-logloss:0.528925\ttest-auc:0.764554\ttest-logloss:0.560498\n",
      "[211]\ttrain-auc:0.820376\ttrain-logloss:0.528741\ttest-auc:0.764554\ttest-logloss:0.56043\n",
      "[212]\ttrain-auc:0.820432\ttrain-logloss:0.528554\ttest-auc:0.764642\ttest-logloss:0.560341\n",
      "[213]\ttrain-auc:0.820808\ttrain-logloss:0.528269\ttest-auc:0.764991\ttest-logloss:0.560116\n",
      "[214]\ttrain-auc:0.820761\ttrain-logloss:0.528071\ttest-auc:0.764991\ttest-logloss:0.560032\n",
      "[215]\ttrain-auc:0.821071\ttrain-logloss:0.527774\ttest-auc:0.764904\ttest-logloss:0.559921\n",
      "[216]\ttrain-auc:0.821071\ttrain-logloss:0.527523\ttest-auc:0.765253\ttest-logloss:0.559762\n",
      "[217]\ttrain-auc:0.82125\ttrain-logloss:0.527297\ttest-auc:0.765341\ttest-logloss:0.559724\n",
      "[218]\ttrain-auc:0.821203\ttrain-logloss:0.527045\ttest-auc:0.765253\ttest-logloss:0.559716\n",
      "[219]\ttrain-auc:0.821344\ttrain-logloss:0.526903\ttest-auc:0.765516\ttest-logloss:0.559554\n",
      "[220]\ttrain-auc:0.821786\ttrain-logloss:0.526525\ttest-auc:0.765166\ttest-logloss:0.559493\n",
      "[221]\ttrain-auc:0.821917\ttrain-logloss:0.526291\ttest-auc:0.764904\ttest-logloss:0.559498\n",
      "[222]\ttrain-auc:0.822331\ttrain-logloss:0.526039\ttest-auc:0.765166\ttest-logloss:0.559382\n",
      "[223]\ttrain-auc:0.822547\ttrain-logloss:0.525783\ttest-auc:0.764729\ttest-logloss:0.559446\n",
      "[224]\ttrain-auc:0.822519\ttrain-logloss:0.525531\ttest-auc:0.764729\ttest-logloss:0.559464\n",
      "[225]\ttrain-auc:0.822622\ttrain-logloss:0.52531\ttest-auc:0.765253\ttest-logloss:0.559342\n",
      "[226]\ttrain-auc:0.822848\ttrain-logloss:0.525051\ttest-auc:0.764642\ttest-logloss:0.559243\n",
      "[227]\ttrain-auc:0.822801\ttrain-logloss:0.524755\ttest-auc:0.764642\ttest-logloss:0.559145\n",
      "[228]\ttrain-auc:0.82282\ttrain-logloss:0.524505\ttest-auc:0.764642\ttest-logloss:0.559181\n",
      "[229]\ttrain-auc:0.82297\ttrain-logloss:0.524328\ttest-auc:0.764642\ttest-logloss:0.559091\n",
      "[230]\ttrain-auc:0.823238\ttrain-logloss:0.524224\ttest-auc:0.764729\ttest-logloss:0.559084\n",
      "[231]\ttrain-auc:0.823191\ttrain-logloss:0.524049\ttest-auc:0.765079\ttest-logloss:0.558859\n",
      "[232]\ttrain-auc:0.823614\ttrain-logloss:0.523828\ttest-auc:0.765253\ttest-logloss:0.558654\n",
      "[233]\ttrain-auc:0.823821\ttrain-logloss:0.523574\ttest-auc:0.765428\ttest-logloss:0.558557\n",
      "[234]\ttrain-auc:0.824019\ttrain-logloss:0.523393\ttest-auc:0.765516\ttest-logloss:0.558367\n",
      "[235]\ttrain-auc:0.824376\ttrain-logloss:0.523156\ttest-auc:0.765253\ttest-logloss:0.558421\n",
      "[236]\ttrain-auc:0.824573\ttrain-logloss:0.52288\ttest-auc:0.764904\ttest-logloss:0.558456\n",
      "[237]\ttrain-auc:0.824507\ttrain-logloss:0.52263\ttest-auc:0.764292\ttest-logloss:0.558253\n",
      "[238]\ttrain-auc:0.82462\ttrain-logloss:0.522409\ttest-auc:0.764292\ttest-logloss:0.558163\n",
      "[239]\ttrain-auc:0.824601\ttrain-logloss:0.522166\ttest-auc:0.764816\ttest-logloss:0.558053\n",
      "[240]\ttrain-auc:0.824757\ttrain-logloss:0.522016\ttest-auc:0.764729\ttest-logloss:0.557964\n",
      "[241]\ttrain-auc:0.824794\ttrain-logloss:0.521851\ttest-auc:0.764729\ttest-logloss:0.557715\n",
      "[242]\ttrain-auc:0.82486\ttrain-logloss:0.52169\ttest-auc:0.764904\ttest-logloss:0.557548\n",
      "[243]\ttrain-auc:0.824935\ttrain-logloss:0.521569\ttest-auc:0.764991\ttest-logloss:0.557494\n",
      "[244]\ttrain-auc:0.825123\ttrain-logloss:0.52146\ttest-auc:0.765079\ttest-logloss:0.557409\n",
      "[245]\ttrain-auc:0.825358\ttrain-logloss:0.521285\ttest-auc:0.765079\ttest-logloss:0.557321\n",
      "[246]\ttrain-auc:0.825499\ttrain-logloss:0.521154\ttest-auc:0.765079\ttest-logloss:0.557202\n",
      "[247]\ttrain-auc:0.825556\ttrain-logloss:0.520803\ttest-auc:0.765166\ttest-logloss:0.557149\n",
      "[248]\ttrain-auc:0.825631\ttrain-logloss:0.520571\ttest-auc:0.764991\ttest-logloss:0.557156\n",
      "[249]\ttrain-auc:0.825687\ttrain-logloss:0.520267\ttest-auc:0.764816\ttest-logloss:0.557123\n",
      "[250]\ttrain-auc:0.825838\ttrain-logloss:0.519994\ttest-auc:0.764642\ttest-logloss:0.556964\n",
      "[251]\ttrain-auc:0.826054\ttrain-logloss:0.519764\ttest-auc:0.764729\ttest-logloss:0.556984\n",
      "[252]\ttrain-auc:0.826383\ttrain-logloss:0.519631\ttest-auc:0.764904\ttest-logloss:0.556979\n",
      "[253]\ttrain-auc:0.826726\ttrain-logloss:0.519452\ttest-auc:0.764467\ttest-logloss:0.557042\n",
      "[254]\ttrain-auc:0.826848\ttrain-logloss:0.519359\ttest-auc:0.764729\ttest-logloss:0.556968\n",
      "[255]\ttrain-auc:0.826726\ttrain-logloss:0.519178\ttest-auc:0.764729\ttest-logloss:0.556886\n",
      "[256]\ttrain-auc:0.826829\ttrain-logloss:0.518936\ttest-auc:0.765079\ttest-logloss:0.556891\n",
      "[257]\ttrain-auc:0.82698\ttrain-logloss:0.518732\ttest-auc:0.764904\ttest-logloss:0.556868\n",
      "[258]\ttrain-auc:0.82713\ttrain-logloss:0.518559\ttest-auc:0.765166\ttest-logloss:0.556789\n",
      "[259]\ttrain-auc:0.827337\ttrain-logloss:0.518347\ttest-auc:0.764292\ttest-logloss:0.556816\n",
      "[260]\ttrain-auc:0.82729\ttrain-logloss:0.518133\ttest-auc:0.764292\ttest-logloss:0.556735\n",
      "[261]\ttrain-auc:0.827751\ttrain-logloss:0.517892\ttest-auc:0.764554\ttest-logloss:0.556719\n",
      "[262]\ttrain-auc:0.827798\ttrain-logloss:0.517766\ttest-auc:0.765079\ttest-logloss:0.556773\n",
      "[263]\ttrain-auc:0.828042\ttrain-logloss:0.517494\ttest-auc:0.765341\ttest-logloss:0.556643\n",
      "[264]\ttrain-auc:0.828221\ttrain-logloss:0.517312\ttest-auc:0.765341\ttest-logloss:0.556554\n",
      "[265]\ttrain-auc:0.828155\ttrain-logloss:0.517086\ttest-auc:0.765253\ttest-logloss:0.556512\n",
      "[266]\ttrain-auc:0.828268\ttrain-logloss:0.516977\ttest-auc:0.765428\ttest-logloss:0.556444\n",
      "[267]\ttrain-auc:0.828324\ttrain-logloss:0.516798\ttest-auc:0.765516\ttest-logloss:0.556539\n",
      "[268]\ttrain-auc:0.828418\ttrain-logloss:0.516614\ttest-auc:0.765603\ttest-logloss:0.556521\n",
      "[269]\ttrain-auc:0.828757\ttrain-logloss:0.516339\ttest-auc:0.765253\ttest-logloss:0.556418\n",
      "[270]\ttrain-auc:0.828757\ttrain-logloss:0.51621\ttest-auc:0.765253\ttest-logloss:0.556292\n",
      "[271]\ttrain-auc:0.829123\ttrain-logloss:0.516005\ttest-auc:0.764904\ttest-logloss:0.55628\n",
      "[272]\ttrain-auc:0.829274\ttrain-logloss:0.515725\ttest-auc:0.763942\ttest-logloss:0.556379\n",
      "[273]\ttrain-auc:0.829227\ttrain-logloss:0.515572\ttest-auc:0.764423\ttest-logloss:0.556347\n",
      "[274]\ttrain-auc:0.829255\ttrain-logloss:0.515462\ttest-auc:0.764511\ttest-logloss:0.556219\n",
      "[275]\ttrain-auc:0.829133\ttrain-logloss:0.515312\ttest-auc:0.764773\ttest-logloss:0.556114\n",
      "[276]\ttrain-auc:0.829076\ttrain-logloss:0.51518\ttest-auc:0.764948\ttest-logloss:0.556025\n",
      "[277]\ttrain-auc:0.82917\ttrain-logloss:0.514905\ttest-auc:0.764511\ttest-logloss:0.555942\n",
      "[278]\ttrain-auc:0.829415\ttrain-logloss:0.514711\ttest-auc:0.764511\ttest-logloss:0.555948\n",
      "[279]\ttrain-auc:0.829537\ttrain-logloss:0.514448\ttest-auc:0.764248\ttest-logloss:0.555968\n",
      "[280]\ttrain-auc:0.829377\ttrain-logloss:0.514213\ttest-auc:0.76486\ttest-logloss:0.555869\n",
      "[281]\ttrain-auc:0.829462\ttrain-logloss:0.514004\ttest-auc:0.76486\ttest-logloss:0.555982\n",
      "[282]\ttrain-auc:0.829518\ttrain-logloss:0.51392\ttest-auc:0.76521\ttest-logloss:0.555922\n",
      "[283]\ttrain-auc:0.829556\ttrain-logloss:0.513726\ttest-auc:0.764773\ttest-logloss:0.556008\n",
      "[284]\ttrain-auc:0.829593\ttrain-logloss:0.513537\ttest-auc:0.763899\ttest-logloss:0.556157\n",
      "[285]\ttrain-auc:0.829885\ttrain-logloss:0.513373\ttest-auc:0.764248\ttest-logloss:0.556415\n",
      "[286]\ttrain-auc:0.830458\ttrain-logloss:0.513167\ttest-auc:0.764598\ttest-logloss:0.556496\n",
      "[287]\ttrain-auc:0.830421\ttrain-logloss:0.512942\ttest-auc:0.764948\ttest-logloss:0.556404\n",
      "[288]\ttrain-auc:0.83058\ttrain-logloss:0.512773\ttest-auc:0.764948\ttest-logloss:0.556307\n",
      "[289]\ttrain-auc:0.830674\ttrain-logloss:0.512529\ttest-auc:0.764511\ttest-logloss:0.556375\n",
      "[290]\ttrain-auc:0.830721\ttrain-logloss:0.512424\ttest-auc:0.76521\ttest-logloss:0.556327\n",
      "Stopping. Best iteration:\n",
      "[280]\ttrain-auc:0.829377\ttrain-logloss:0.514213\ttest-auc:0.76486\ttest-logloss:0.555869\n",
      "\n"
     ]
    }
   ],
   "source": [
    "clf = xgb.train(param, \n",
    "                pool, \n",
    "                num_boost_round=1000,\n",
    "                early_stopping_rounds=10,\n",
    "                evals=[(pool, 'train'), \n",
    "                       (pool_test, 'test')]\n",
    "               )"
   ]
  },
  {
   "cell_type": "code",
   "execution_count": 252,
   "metadata": {},
   "outputs": [
    {
     "data": {
      "text/plain": [
       "0.7425149700598802"
      ]
     },
     "execution_count": 252,
     "metadata": {},
     "output_type": "execute_result"
    }
   ],
   "source": [
    "metrics.accuracy_score(pool.get_label(),  clf.predict(pool)>0.5)"
   ]
  },
  {
   "cell_type": "code",
   "execution_count": 275,
   "metadata": {},
   "outputs": [
    {
     "data": {
      "text/plain": [
       "0.7443946188340808"
      ]
     },
     "execution_count": 275,
     "metadata": {},
     "output_type": "execute_result"
    }
   ],
   "source": [
    "metrics.accuracy_score(pool_test.get_label(),  clf.predict(pool_test)>0.5)"
   ]
  },
  {
   "cell_type": "code",
   "execution_count": 253,
   "metadata": {},
   "outputs": [],
   "source": [
    "data_test = pd.read_csv('test.csv')"
   ]
  },
  {
   "cell_type": "code",
   "execution_count": 256,
   "metadata": {},
   "outputs": [],
   "source": [
    "submit_data = data_test[['Pclass', 'Age', 'SibSp', 'Parch', 'Fare']]"
   ]
  },
  {
   "cell_type": "code",
   "execution_count": 258,
   "metadata": {},
   "outputs": [],
   "source": [
    "pool_submit = xgb.DMatrix(submit_data)"
   ]
  },
  {
   "cell_type": "code",
   "execution_count": 263,
   "metadata": {},
   "outputs": [],
   "source": [
    "submit_result = (clf.predict(pool_submit) > 0.5) * 1"
   ]
  },
  {
   "cell_type": "code",
   "execution_count": 265,
   "metadata": {},
   "outputs": [],
   "source": [
    "my_submission = pd.DataFrame({'PassengerId': data_test.PassengerId, \n",
    "                              'Survived': submit_result})"
   ]
  },
  {
   "cell_type": "code",
   "execution_count": 266,
   "metadata": {},
   "outputs": [
    {
     "data": {
      "text/html": [
       "<div>\n",
       "<table border=\"1\" class=\"dataframe\">\n",
       "  <thead>\n",
       "    <tr style=\"text-align: right;\">\n",
       "      <th></th>\n",
       "      <th>PassengerId</th>\n",
       "      <th>Survived</th>\n",
       "    </tr>\n",
       "  </thead>\n",
       "  <tbody>\n",
       "    <tr>\n",
       "      <th>0</th>\n",
       "      <td>892</td>\n",
       "      <td>0</td>\n",
       "    </tr>\n",
       "    <tr>\n",
       "      <th>1</th>\n",
       "      <td>893</td>\n",
       "      <td>0</td>\n",
       "    </tr>\n",
       "    <tr>\n",
       "      <th>2</th>\n",
       "      <td>894</td>\n",
       "      <td>0</td>\n",
       "    </tr>\n",
       "  </tbody>\n",
       "</table>\n",
       "</div>"
      ],
      "text/plain": [
       "   PassengerId  Survived\n",
       "0          892         0\n",
       "1          893         0\n",
       "2          894         0"
      ]
     },
     "execution_count": 266,
     "metadata": {},
     "output_type": "execute_result"
    }
   ],
   "source": [
    "my_submission.head(n = 3)"
   ]
  },
  {
   "cell_type": "code",
   "execution_count": 273,
   "metadata": {},
   "outputs": [],
   "source": [
    "with open('submit.csv', 'w') as fd:\n",
    "    fd.write(my_submission.to_csv(index=False))"
   ]
  },
  {
   "cell_type": "code",
   "execution_count": 274,
   "metadata": {},
   "outputs": [
    {
     "name": "stdout",
     "output_type": "stream",
     "text": [
      "PassengerId,Survived\n",
      "892,0\n",
      "893,0\n",
      "894,0\n",
      "895,0\n",
      "896,0\n",
      "897,0\n",
      "898,0\n",
      "899,1\n",
      "900,0\n"
     ]
    }
   ],
   "source": [
    "!head submit.csv"
   ]
  },
  {
   "cell_type": "code",
   "execution_count": 270,
   "metadata": {},
   "outputs": [
    {
     "name": "stdout",
     "output_type": "stream",
     "text": [
      "PassengerId,Survived\n",
      "892,0\n",
      "893,1\n",
      "894,0\n",
      "895,0\n",
      "896,1\n",
      "897,0\n",
      "898,1\n",
      "899,0\n",
      "900,1\n"
     ]
    }
   ],
   "source": [
    "!head gender_submission.csv"
   ]
  },
  {
   "cell_type": "code",
   "execution_count": 271,
   "metadata": {},
   "outputs": [
    {
     "name": "stdout",
     "output_type": "stream",
     "text": [
      "Help on method to_csv in module pandas.core.frame:\n",
      "\n",
      "to_csv(path_or_buf=None, sep=',', na_rep='', float_format=None, columns=None, header=True, index=True, index_label=None, mode='w', encoding=None, compression=None, quoting=None, quotechar='\"', line_terminator='\\n', chunksize=None, tupleize_cols=False, date_format=None, doublequote=True, escapechar=None, decimal='.') method of pandas.core.frame.DataFrame instance\n",
      "    Write DataFrame to a comma-separated values (csv) file\n",
      "    \n",
      "    Parameters\n",
      "    ----------\n",
      "    path_or_buf : string or file handle, default None\n",
      "        File path or object, if None is provided the result is returned as\n",
      "        a string.\n",
      "    sep : character, default ','\n",
      "        Field delimiter for the output file.\n",
      "    na_rep : string, default ''\n",
      "        Missing data representation\n",
      "    float_format : string, default None\n",
      "        Format string for floating point numbers\n",
      "    columns : sequence, optional\n",
      "        Columns to write\n",
      "    header : boolean or list of string, default True\n",
      "        Write out column names. If a list of string is given it is assumed\n",
      "        to be aliases for the column names\n",
      "    index : boolean, default True\n",
      "        Write row names (index)\n",
      "    index_label : string or sequence, or False, default None\n",
      "        Column label for index column(s) if desired. If None is given, and\n",
      "        `header` and `index` are True, then the index names are used. A\n",
      "        sequence should be given if the DataFrame uses MultiIndex.  If\n",
      "        False do not print fields for index names. Use index_label=False\n",
      "        for easier importing in R\n",
      "    mode : str\n",
      "        Python write mode, default 'w'\n",
      "    encoding : string, optional\n",
      "        A string representing the encoding to use in the output file,\n",
      "        defaults to 'ascii' on Python 2 and 'utf-8' on Python 3.\n",
      "    compression : string, optional\n",
      "        a string representing the compression to use in the output file,\n",
      "        allowed values are 'gzip', 'bz2', 'xz',\n",
      "        only used when the first argument is a filename\n",
      "    line_terminator : string, default ``'\\n'``\n",
      "        The newline character or character sequence to use in the output\n",
      "        file\n",
      "    quoting : optional constant from csv module\n",
      "        defaults to csv.QUOTE_MINIMAL. If you have set a `float_format`\n",
      "        then floats are comverted to strings and thus csv.QUOTE_NONNUMERIC\n",
      "        will treat them as non-numeric\n",
      "    quotechar : string (length 1), default '\\\"'\n",
      "        character used to quote fields\n",
      "    doublequote : boolean, default True\n",
      "        Control quoting of `quotechar` inside a field\n",
      "    escapechar : string (length 1), default None\n",
      "        character used to escape `sep` and `quotechar` when appropriate\n",
      "    chunksize : int or None\n",
      "        rows to write at a time\n",
      "    tupleize_cols : boolean, default False\n",
      "        write multi_index columns as a list of tuples (if True)\n",
      "        or new (expanded format) if False)\n",
      "    date_format : string, default None\n",
      "        Format string for datetime objects\n",
      "    decimal: string, default '.'\n",
      "        Character recognized as decimal separator. E.g. use ',' for\n",
      "        European data\n",
      "    \n",
      "        .. versionadded:: 0.16.0\n",
      "\n"
     ]
    }
   ],
   "source": [
    "help(my_submission.to_csv)"
   ]
  },
  {
   "cell_type": "code",
   "execution_count": null,
   "metadata": {},
   "outputs": [],
   "source": []
  }
 ],
 "metadata": {
  "kernelspec": {
   "display_name": "Python 3",
   "language": "python",
   "name": "python3"
  },
  "language_info": {
   "codemirror_mode": {
    "name": "ipython",
    "version": 3
   },
   "file_extension": ".py",
   "mimetype": "text/x-python",
   "name": "python",
   "nbconvert_exporter": "python",
   "pygments_lexer": "ipython3",
   "version": "3.6.2"
  }
 },
 "nbformat": 4,
 "nbformat_minor": 2
}
