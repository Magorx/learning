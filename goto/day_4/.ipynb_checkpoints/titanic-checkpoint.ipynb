{
 "cells": [
  {
   "cell_type": "code",
   "execution_count": 190,
   "metadata": {},
   "outputs": [],
   "source": [
    "import numpy as np\n",
    "import pandas as pd\n",
    "from sklearn import model_selection, linear_model, metrics\n",
    "import xgboost as xgb\n",
    "from random import randint"
   ]
  },
  {
   "cell_type": "code",
   "execution_count": 191,
   "metadata": {},
   "outputs": [],
   "source": [
    "def port_to_numbers(port):\n",
    "    if port == 'S':\n",
    "        return pd.Series([1, 0, 0])\n",
    "    elif port == 'Q':\n",
    "        return pd.Series([0, 1, 0])\n",
    "    else:\n",
    "        return pd.Series([0, 0, 1])\n",
    "\n",
    "def sex_to_numbers(sex):\n",
    "    return pd.Series([1, 0]) if sex == 'male' else pd.Series([0, 1])"
   ]
  },
  {
   "cell_type": "code",
   "execution_count": 197,
   "metadata": {},
   "outputs": [],
   "source": [
    "init_data = pd.read_csv('train.csv')\n",
    "target = init_data['Survived']\n",
    "port_columns = init_data['Embarked'].apply(port_to_numbers)\n",
    "port_columns.columns = ['S', 'Q', 'C']\n",
    "sex_columns = init_data['Sex'].apply(sex_to_numbers)\n",
    "sex_columns.columns = ['M', 'F']\n",
    "init_data = pd.concat([init_data, port_columns], axis=1)\n",
    "init_data = pd.concat([init_data, sex_columns], axis=1)\n",
    "train_data = init_data.drop(['Name', 'Sex', 'Ticket', 'Cabin', 'Embarked', 'Survived'], axis=1)"
   ]
  },
  {
   "cell_type": "code",
   "execution_count": 198,
   "metadata": {},
   "outputs": [],
   "source": [
    "X_train, X_test, Y_train, Y_test = model_selection.train_test_split(train_data, target, test_size=0.25, random_state=28)"
   ]
  },
  {
   "cell_type": "code",
   "execution_count": 199,
   "metadata": {},
   "outputs": [
    {
     "name": "stdout",
     "output_type": "stream",
     "text": [
      "0.7847533632286996\n"
     ]
    },
    {
     "name": "stderr",
     "output_type": "stream",
     "text": [
      "/home/maximus/anaconda3/envs/cs/lib/python3.6/site-packages/sklearn/preprocessing/label.py:151: DeprecationWarning: The truth value of an empty array is ambiguous. Returning False, but in future this will result in an error. Use `array.size > 0` to check that an array is not empty.\n",
      "  if diff:\n"
     ]
    }
   ],
   "source": [
    "model = xgb.XGBClassifier(max_depth=12, n_estimators=90)\n",
    "model.fit(X_train, Y_train)\n",
    "print(model.score(X_test, Y_test))"
   ]
  },
  {
   "cell_type": "code",
   "execution_count": null,
   "metadata": {},
   "outputs": [],
   "source": []
  },
  {
   "cell_type": "code",
   "execution_count": 253,
   "metadata": {},
   "outputs": [],
   "source": [
    "init_data = pd.read_csv('train.csv')\n",
    "target = init_data['Survived']\n",
    "port_columns = init_data['Embarked'].apply(port_to_numbers)\n",
    "port_columns.columns = ['S', 'Q', 'C']\n",
    "sex_columns = init_data['Sex'].apply(sex_to_numbers)\n",
    "sex_columns.columns = ['M', 'F']\n",
    "init_data = pd.concat([init_data, port_columns], axis=1)\n",
    "init_data = pd.concat([init_data, sex_columns], axis=1)\n",
    "train_data = init_data.drop(['Name', 'Sex', 'Ticket', 'Cabin', 'Embarked', 'Survived'], axis=1)"
   ]
  }
 ],
 "metadata": {
  "kernelspec": {
   "display_name": "Python 3",
   "language": "python",
   "name": "python3"
  },
  "language_info": {
   "codemirror_mode": {
    "name": "ipython",
    "version": 3
   },
   "file_extension": ".py",
   "mimetype": "text/x-python",
   "name": "python",
   "nbconvert_exporter": "python",
   "pygments_lexer": "ipython3",
   "version": "3.6.2"
  }
 },
 "nbformat": 4,
 "nbformat_minor": 2
}
