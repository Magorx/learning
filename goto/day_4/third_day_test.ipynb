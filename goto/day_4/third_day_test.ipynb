{
 "cells": [
  {
   "cell_type": "code",
   "execution_count": 7,
   "metadata": {},
   "outputs": [],
   "source": [
    "from random import randint\n",
    "def randstr(l):\n",
    "    s = []\n",
    "    for i in range(l):\n",
    "        s.append(chr(ord('a') + randint(0, 25)))\n",
    "    return ''.join(s)\n",
    "\n",
    "file = open('file.txt', 'w')\n",
    "for i in range(randint(15, 30)):\n",
    "    s = randstr(2)\n",
    "    for j in range(randint(2, 7)):\n",
    "        print(s, file=file)\n",
    "file.close()"
   ]
  },
  {
   "cell_type": "markdown",
   "metadata": {},
   "source": [
    "* создать файл и записать в него десятка полтора слов"
   ]
  },
  {
   "cell_type": "code",
   "execution_count": 34,
   "metadata": {},
   "outputs": [
    {
     "name": "stdout",
     "output_type": "stream",
     "text": [
      "ln tf kv\n"
     ]
    }
   ],
   "source": [
    "words = open('file.txt').read().split()\n",
    "d = dict()\n",
    "for w in words:\n",
    "    d[w] = words.count(w) if d.get(w, 0) == 0 else d[w]\n",
    "arr = sorted(list(d.items()), key=lambda x: x[1], reverse=True)\n",
    "print(*[arr[i][0] for i in range(3)])"
   ]
  },
  {
   "cell_type": "raw",
   "metadata": {},
   "source": [
    "* считать слова из созданного в предыдущем упражнении файла\n",
    "* выбрать три самых частоупотребляемых слова\n",
    "* распечатать выбранные слова"
   ]
  },
  {
   "cell_type": "code",
   "execution_count": 2,
   "metadata": {},
   "outputs": [
    {
     "data": {
      "text/plain": [
       "6.000000496732235e-09"
      ]
     },
     "execution_count": 2,
     "metadata": {},
     "output_type": "execute_result"
    }
   ],
   "source": [
    "import numpy as np\n",
    "matrix = np.array([\n",
    "    [1.0, 2.0, 3.0], \n",
    "    [2.0, 4.0, 6.0], \n",
    "    [4.0, 8.0, 24.0], \n",
    "])\n",
    "np.linalg.det(matrix)\n",
    "coef = 10**-10\n",
    "ones_matrix = np.eye(matrix.shape[0], matrix.shape[1]) * coef\n",
    "matrix += ones_matrix\n",
    "np.linalg.det(matrix)"
   ]
  },
  {
   "cell_type": "markdown",
   "metadata": {},
   "source": [
    "* придумать матрицу с нулевым определителем\n",
    "* показать с помощью numpy что определитель действительно нулевой\n",
    "* применить регуляризацию\n",
    "* показать что определитель перестал быть нулевым"
   ]
  },
  {
   "cell_type": "code",
   "execution_count": 3,
   "metadata": {},
   "outputs": [],
   "source": [
    "import pandas as pd\n",
    "d1 = pd.DataFrame({'a' : [1, 2, 3, 4, 5], 'b' : [11, 22, 33, 44, 55], 'c' : [111, 222, 333, 444, 555]})\n",
    "d2 = pd.DataFrame({'a' : [1, 2, 3, 4, 5], 'd' : [112, 222, 332, 442, 552], 'e' : [1113, 2223, 3333, 4443, 5553]})\n",
    "d1.to_csv('d1.csv')\n",
    "d2.to_csv('d2.csv')\n",
    "d1 = d2 = None"
   ]
  },
  {
   "cell_type": "markdown",
   "metadata": {},
   "source": [
    "* создать два файла, которые могут быть зачитаны с помощью PandasDataframe\n",
    "* зачитать эти файлы в датафреймы\n",
    "* сделать join датафреймов"
   ]
  },
  {
   "cell_type": "code",
   "execution_count": 5,
   "metadata": {},
   "outputs": [
    {
     "data": {
      "text/html": [
       "<div>\n",
       "<style scoped>\n",
       "    .dataframe tbody tr th:only-of-type {\n",
       "        vertical-align: middle;\n",
       "    }\n",
       "\n",
       "    .dataframe tbody tr th {\n",
       "        vertical-align: top;\n",
       "    }\n",
       "\n",
       "    .dataframe thead th {\n",
       "        text-align: right;\n",
       "    }\n",
       "</style>\n",
       "<table border=\"1\" class=\"dataframe\">\n",
       "  <thead>\n",
       "    <tr style=\"text-align: right;\">\n",
       "      <th></th>\n",
       "      <th>Unnamed: 0</th>\n",
       "      <th>a</th>\n",
       "      <th>b</th>\n",
       "      <th>c</th>\n",
       "      <th>d</th>\n",
       "      <th>e</th>\n",
       "    </tr>\n",
       "  </thead>\n",
       "  <tbody>\n",
       "    <tr>\n",
       "      <th>0</th>\n",
       "      <td>0</td>\n",
       "      <td>1</td>\n",
       "      <td>11</td>\n",
       "      <td>111</td>\n",
       "      <td>112</td>\n",
       "      <td>1113</td>\n",
       "    </tr>\n",
       "    <tr>\n",
       "      <th>1</th>\n",
       "      <td>1</td>\n",
       "      <td>2</td>\n",
       "      <td>22</td>\n",
       "      <td>222</td>\n",
       "      <td>222</td>\n",
       "      <td>2223</td>\n",
       "    </tr>\n",
       "    <tr>\n",
       "      <th>2</th>\n",
       "      <td>2</td>\n",
       "      <td>3</td>\n",
       "      <td>33</td>\n",
       "      <td>333</td>\n",
       "      <td>332</td>\n",
       "      <td>3333</td>\n",
       "    </tr>\n",
       "    <tr>\n",
       "      <th>3</th>\n",
       "      <td>3</td>\n",
       "      <td>4</td>\n",
       "      <td>44</td>\n",
       "      <td>444</td>\n",
       "      <td>442</td>\n",
       "      <td>4443</td>\n",
       "    </tr>\n",
       "    <tr>\n",
       "      <th>4</th>\n",
       "      <td>4</td>\n",
       "      <td>5</td>\n",
       "      <td>55</td>\n",
       "      <td>555</td>\n",
       "      <td>552</td>\n",
       "      <td>5553</td>\n",
       "    </tr>\n",
       "  </tbody>\n",
       "</table>\n",
       "</div>"
      ],
      "text/plain": [
       "   Unnamed: 0  a   b    c    d     e\n",
       "0           0  1  11  111  112  1113\n",
       "1           1  2  22  222  222  2223\n",
       "2           2  3  33  333  332  3333\n",
       "3           3  4  44  444  442  4443\n",
       "4           4  5  55  555  552  5553"
      ]
     },
     "execution_count": 5,
     "metadata": {},
     "output_type": "execute_result"
    }
   ],
   "source": [
    "d1 = pd.read_csv('d1.csv')\n",
    "d2 = pd.read_csv('d2.csv')\n",
    "d3 = d1.merge(d2)\n",
    "d3"
   ]
  },
  {
   "cell_type": "markdown",
   "metadata": {},
   "source": [
    "* удалить столбец из датафрейма"
   ]
  },
  {
   "cell_type": "code",
   "execution_count": 32,
   "metadata": {},
   "outputs": [
    {
     "data": {
      "text/html": [
       "<div>\n",
       "<style scoped>\n",
       "    .dataframe tbody tr th:only-of-type {\n",
       "        vertical-align: middle;\n",
       "    }\n",
       "\n",
       "    .dataframe tbody tr th {\n",
       "        vertical-align: top;\n",
       "    }\n",
       "\n",
       "    .dataframe thead th {\n",
       "        text-align: right;\n",
       "    }\n",
       "</style>\n",
       "<table border=\"1\" class=\"dataframe\">\n",
       "  <thead>\n",
       "    <tr style=\"text-align: right;\">\n",
       "      <th></th>\n",
       "      <th>a</th>\n",
       "      <th>b</th>\n",
       "      <th>c</th>\n",
       "      <th>d</th>\n",
       "      <th>e</th>\n",
       "    </tr>\n",
       "  </thead>\n",
       "  <tbody>\n",
       "    <tr>\n",
       "      <th>0</th>\n",
       "      <td>1</td>\n",
       "      <td>11</td>\n",
       "      <td>111</td>\n",
       "      <td>112</td>\n",
       "      <td>1113</td>\n",
       "    </tr>\n",
       "    <tr>\n",
       "      <th>1</th>\n",
       "      <td>2</td>\n",
       "      <td>22</td>\n",
       "      <td>222</td>\n",
       "      <td>222</td>\n",
       "      <td>2223</td>\n",
       "    </tr>\n",
       "    <tr>\n",
       "      <th>2</th>\n",
       "      <td>3</td>\n",
       "      <td>33</td>\n",
       "      <td>333</td>\n",
       "      <td>332</td>\n",
       "      <td>3333</td>\n",
       "    </tr>\n",
       "    <tr>\n",
       "      <th>3</th>\n",
       "      <td>4</td>\n",
       "      <td>44</td>\n",
       "      <td>444</td>\n",
       "      <td>442</td>\n",
       "      <td>4443</td>\n",
       "    </tr>\n",
       "    <tr>\n",
       "      <th>4</th>\n",
       "      <td>5</td>\n",
       "      <td>55</td>\n",
       "      <td>555</td>\n",
       "      <td>552</td>\n",
       "      <td>5553</td>\n",
       "    </tr>\n",
       "  </tbody>\n",
       "</table>\n",
       "</div>"
      ],
      "text/plain": [
       "   a   b    c    d     e\n",
       "0  1  11  111  112  1113\n",
       "1  2  22  222  222  2223\n",
       "2  3  33  333  332  3333\n",
       "3  4  44  444  442  4443\n",
       "4  5  55  555  552  5553"
      ]
     },
     "execution_count": 32,
     "metadata": {},
     "output_type": "execute_result"
    }
   ],
   "source": [
    "d3.drop('Unnamed: 0', axis=1)"
   ]
  },
  {
   "cell_type": "markdown",
   "metadata": {},
   "source": [
    "* сделать numpy.array, в котором:\n",
    " * первый столбец - 100 равномерно распределённых от 0 до 23 чисел\n",
    " * во втором столбце - квадрат чисел первого столбца\n",
    " * в третьем - синус\n",
    " * в четвёртом - тангенс"
   ]
  },
  {
   "cell_type": "code",
   "execution_count": 30,
   "metadata": {},
   "outputs": [],
   "source": [
    "arr1 = np.linspace(0, 23, 100)\n",
    "arr2 = arr1 ** 2\n",
    "arr3 = np.sin(arr1)\n",
    "arr4 = np.tan(arr1)\n",
    "arr = np.array([arr1, arr2, arr3, arr4]).T"
   ]
  },
  {
   "cell_type": "markdown",
   "metadata": {},
   "source": [
    "* с помощью np.solve вывести формулу суммы квадратов первых n натуральных чисел"
   ]
  },
  {
   "cell_type": "code",
   "execution_count": 31,
   "metadata": {},
   "outputs": [
    {
     "data": {
      "text/plain": [
       "(100, 4)"
      ]
     },
     "execution_count": 31,
     "metadata": {},
     "output_type": "execute_result"
    }
   ],
   "source": [
    "arr.shape"
   ]
  },
  {
   "cell_type": "code",
   "execution_count": 34,
   "metadata": {},
   "outputs": [
    {
     "data": {
      "text/plain": [
       "array([1.47104551e-15, 1.66666667e-01, 5.00000000e-01, 3.33333333e-01])"
      ]
     },
     "execution_count": 34,
     "metadata": {},
     "output_type": "execute_result"
    }
   ],
   "source": [
    "m = np.array([\n",
    "    [1, 1, 1, 1],\n",
    "    [1, 2, 4, 8],\n",
    "    [1, 3, 9, 27],\n",
    "    [1, 4, 16, 64]\n",
    "])\n",
    "ans = np.array([1, 5, 14, 30])\n",
    "np.linalg.solve(m, ans)"
   ]
  },
  {
   "cell_type": "code",
   "execution_count": null,
   "metadata": {},
   "outputs": [],
   "source": []
  }
 ],
 "metadata": {
  "kernelspec": {
   "display_name": "Python 3",
   "language": "python",
   "name": "python3"
  },
  "language_info": {
   "codemirror_mode": {
    "name": "ipython",
    "version": 3
   },
   "file_extension": ".py",
   "mimetype": "text/x-python",
   "name": "python",
   "nbconvert_exporter": "python",
   "pygments_lexer": "ipython3",
   "version": "3.6.2"
  }
 },
 "nbformat": 4,
 "nbformat_minor": 2
}
