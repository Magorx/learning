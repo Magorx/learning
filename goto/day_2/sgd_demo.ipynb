{
 "cells": [
  {
   "cell_type": "code",
   "execution_count": 1,
   "metadata": {},
   "outputs": [],
   "source": [
    "import matplotlib.pyplot as plt\n",
    "import numpy as np"
   ]
  },
  {
   "cell_type": "code",
   "execution_count": 2,
   "metadata": {},
   "outputs": [],
   "source": [
    "a0, b0, c0 = 2, 5, 3"
   ]
  },
  {
   "cell_type": "code",
   "execution_count": 3,
   "metadata": {},
   "outputs": [],
   "source": [
    "x = np.linspace(-5, 5, 1000)"
   ]
  },
  {
   "cell_type": "code",
   "execution_count": 4,
   "metadata": {},
   "outputs": [],
   "source": [
    "y = x**0 * a0 + x**1 * b0 + x**2 * c0"
   ]
  },
  {
   "cell_type": "code",
   "execution_count": 5,
   "metadata": {},
   "outputs": [
    {
     "data": {
      "image/png": "[encoded data removed]",
      "text/plain": [
       "<Figure size 432x288 with 1 Axes>"
      ]
     },
     "metadata": {},
     "output_type": "display_data"
    }
   ],
   "source": [
    "fig = plt.Figure(figsize=(16, 8))\n",
    "plt.plot(x, y)\n",
    "plt.show()\n",
    "plt.close(fig)"
   ]
  },
  {
   "cell_type": "code",
   "execution_count": 117,
   "metadata": {},
   "outputs": [],
   "source": [
    "from random import randint"
   ]
  },
  {
   "cell_type": "code",
   "execution_count": 122,
   "metadata": {},
   "outputs": [
    {
     "name": "stderr",
     "output_type": "stream",
     "text": [
      "/home/maximus/anaconda3/envs/cs/lib/python3.6/site-packages/ipykernel_launcher.py:12: RuntimeWarning: overflow encountered in double_scalars\n",
      "  if sys.path[0] == '':\n",
      "/home/maximus/anaconda3/envs/cs/lib/python3.6/site-packages/ipykernel_launcher.py:16: RuntimeWarning: invalid value encountered in double_scalars\n",
      "  app.launch_new_instance()\n",
      "/home/maximus/anaconda3/envs/cs/lib/python3.6/site-packages/ipykernel_launcher.py:8: RuntimeWarning: invalid value encountered in add\n",
      "  \n"
     ]
    }
   ],
   "source": [
    "eta = 0.002\n",
    "eps = 1e-6\n",
    "it = 0\n",
    "a = b = c = 0\n",
    "while it < 10000:\n",
    "    it += 1\n",
    "    r = randint(0, x.shape[0] - 20)\n",
    "    lhs = 2 * (x[r:r+10:1] ** 0 * a + x[r:r+10:1] ** 1 * b + x[r:r+10:1] ** 2 * c - y[r:r+10:1])\n",
    "    da = lhs.dot(x[r:r+10:1]**0)\n",
    "    db = lhs.dot(x[r:r+10:1]**1)\n",
    "    dc = lhs.dot(x[r:r+10:1]**2)\n",
    "    if da ** 2 + db ** 2 + dc ** 2 < eps ** 2:\n",
    "        break\n",
    "    a += -eta * da\n",
    "    b += -eta * db\n",
    "    c += -eta * dc\n",
    "a = round(a)\n",
    "b = round(b)\n",
    "c = round(c)"
   ]
  },
  {
   "cell_type": "code",
   "execution_count": 123,
   "metadata": {},
   "outputs": [
    {
     "name": "stdout",
     "output_type": "stream",
     "text": [
      "nan nan nan\n"
     ]
    }
   ],
   "source": [
    "print(a, b, c)"
   ]
  },
  {
   "cell_type": "code",
   "execution_count": null,
   "metadata": {},
   "outputs": [],
   "source": [
    "a, b, c = 0, 0, 0\n",
    "\n",
    "eta = 0.002\n",
    "eps = 1e-6\n",
    "it = 0\n",
    "while it < 10000:\n",
    "    it += 1\n",
    "    r = randint(0, x.shape[0] - 1)\n",
    "    lhs = 2 * (x[r] ** 0 * a + x[r] ** 1 * b + x[r] ** 2 * c - y[r])\n",
    "    da = lhs * x[r] ** 0\n",
    "    db = lhs * x[r] ** 1\n",
    "    dc = lhs * x[r] ** 2\n",
    "    if da ** 2 + db ** 2 + dc ** 2 < eps ** 2:\n",
    "        break\n",
    "    a += -eta * da\n",
    "    b += -eta * db\n",
    "    c += -eta * dc\n",
    "a = round(a)\n",
    "b = round(b)\n",
    "c = round(c)"
   ]
  }
 ],
 "metadata": {
  "kernelspec": {
   "display_name": "Python 3",
   "language": "python",
   "name": "python3"
  },
  "language_info": {
   "codemirror_mode": {
    "name": "ipython",
    "version": 3
   },
   "file_extension": ".py",
   "mimetype": "text/x-python",
   "name": "python",
   "nbconvert_exporter": "python",
   "pygments_lexer": "ipython3",
   "version": "3.6.2"
  }
 },
 "nbformat": 4,
 "nbformat_minor": 2
}
