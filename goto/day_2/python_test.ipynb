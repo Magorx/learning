{
 "cells": [
  {
   "cell_type": "markdown",
   "metadata": {},
   "source": [
    "# 1 (1 балл)\n",
    "Напишите функцию, которая получает на вход шестизначный номер билетика и проверяет, является ли он счастливым (сумма 1х трёх цифр равна сумме последних трёх).\n",
    "\n",
    "---\n",
    "\n",
    "*Input:* six-digit number\n",
    "\n",
    "*Output:* check if the first three digits sum is equal to the second three digits sum\n",
    "\n",
    "**Пример 1:**\n",
    "\n",
    "*Input:* 123456\n",
    "\n",
    "*Output:* No\n",
    "\n",
    "\n",
    "**Пример 2:**\n",
    "\n",
    "*Input:* 123042\n",
    "\n",
    "*Output:* Yes"
   ]
  },
  {
   "cell_type": "code",
   "execution_count": 1,
   "metadata": {
    "collapsed": true
   },
   "outputs": [],
   "source": [
    "def is_lucky(number):\n",
    "    arr = list(map(int, list(number)))\n",
    "    return sum(arr[:3]) == sum(arr[3:])"
   ]
  },
  {
   "cell_type": "code",
   "execution_count": 2,
   "metadata": {},
   "outputs": [
    {
     "name": "stdout",
     "output_type": "stream",
     "text": [
      "No\n"
     ]
    }
   ],
   "source": [
    "print(\"Yes\" if (is_lucky(input())) else \"No\")"
   ]
  },
  {
   "cell_type": "markdown",
   "metadata": {},
   "source": [
    "# 2 (2 балла)\n",
    "Напишите функцию, которая получает на вход список чисел и возвращает кусочно-отсортированный список:\n",
    "первое число остаётся на месте, вторые два числа отсортированы по возрастанию, следующие три по убыванию, следующие 4 снова по возрастанию и т.д.\n",
    "\n",
    "---\n",
    "\n",
    "*Input:* list of numbers\n",
    "\n",
    "*Output:* partially sorted list of numbers -- 1st stays, 2nd and 3rd are sorted in the increasing order, next three are sorted in the decreasing order etc\n",
    "\n",
    "**Пример:**\n",
    "\n",
    "*Input:*\n",
    "\n",
    "8 71 2 6 -3 5 1 7 4 0 1 2 3 \n",
    "\n",
    "*Output:*\n",
    "\n",
    "8 2 71 6 5 -3 0 1 4 7 3 2 1"
   ]
  },
  {
   "cell_type": "code",
   "execution_count": 28,
   "metadata": {
    "collapsed": true
   },
   "outputs": [],
   "source": [
    "def f(arr):\n",
    "    cnt = 0\n",
    "    i = 0\n",
    "    for cnt in range(1, len(arr) // 2):\n",
    "        new_segment = sorted(arr[i:i+cnt], reverse=True if cnt % 2 else False)\n",
    "        #print(i, new_segment)\n",
    "        for j in range(len(new_segment)):\n",
    "            arr[i + j] = new_segment[j]\n",
    "        i += cnt\n",
    "    return arr"
   ]
  },
  {
   "cell_type": "code",
   "execution_count": 29,
   "metadata": {},
   "outputs": [
    {
     "name": "stdout",
     "output_type": "stream",
     "text": [
      "8 2 71 6 5 -3 0 1 4 7 3 2 1\n"
     ]
    }
   ],
   "source": [
    "print(*f(list(map(int, '8 71 2 6 -3 5 1 7 4 0 1 2 3'.split()))))"
   ]
  },
  {
   "cell_type": "markdown",
   "metadata": {},
   "source": [
    "# 3 (1 балл)\n",
    "Напишите функцию, которая получает на вход строку в английском алфавите и обрабатывает её следующим образом:\n",
    "- каждая гласная заменяется на ближайшую справа по алфавиту согласную\n",
    "- каждая согласная заменяется на её индекс в алфавите\n",
    "\n",
    "---\n",
    "\n",
    "*Input:* eng string\n",
    "\n",
    "*Output:* string with some replacements:\n",
    "- vowel is replaced with the nearest consonant in the alphabet to the right\n",
    "- consonant is replaced with its index in the alphabet\n",
    "\n",
    "\n",
    "**Пример:**\n",
    "\n",
    "*Input:* abcdef\n",
    "\n",
    "*Output:* b234f6"
   ]
  },
  {
   "cell_type": "code",
   "execution_count": 36,
   "metadata": {
    "collapsed": true
   },
   "outputs": [],
   "source": [
    "def remake_str(s):\n",
    "    new_str = []\n",
    "    for i in range(len(s)):\n",
    "        new_str.append(chr(ord(s[i]) + 1) if s[i] in ['a', 'e', 'i', 'o', 'u'] else str(ord(s[i]) - ord('a') + 1))\n",
    "    return ''.join(new_str)"
   ]
  },
  {
   "cell_type": "code",
   "execution_count": 37,
   "metadata": {},
   "outputs": [
    {
     "data": {
      "text/plain": [
       "'b234f6'"
      ]
     },
     "execution_count": 37,
     "metadata": {},
     "output_type": "execute_result"
    }
   ],
   "source": [
    "remake_str('abcdef')"
   ]
  },
  {
   "cell_type": "markdown",
   "metadata": {},
   "source": []
  },
  {
   "cell_type": "markdown",
   "metadata": {},
   "source": [
    "# 4 (2 балла)\n",
    "Напишите функцию, которая принимает строку, состоящую из пар слово-число, разделённых запятой (слова в паре разделены пробелом) и возвращает строку из слов, разделённых запятой, причём слова должны быть отсортированы лексикографически и каждое слово должно повторяться столько раз, какое число с ним в паре. \n",
    "\n",
    "---\n",
    "\n",
    "*Input:* string containing comma-separated pairs (String Number)\n",
    "\n",
    "*Output:* string containing each String the Number of times and all the Strings are arranged in lexicographical order\n",
    "\n",
    "**Пример:**\n",
    "\n",
    "*Input:* ac 2, f 3, a 0\n",
    "\n",
    "*Output:* ac, ac, f, f, f\n"
   ]
  },
  {
   "cell_type": "code",
   "execution_count": 47,
   "metadata": {
    "collapsed": true
   },
   "outputs": [],
   "source": [
    "def make_strange(s):\n",
    "    arr = s.split(', ')\n",
    "    d = {}\n",
    "    for x in arr:\n",
    "        word, cnt = x.split()\n",
    "        cnt = int(cnt)\n",
    "        d[word] = cnt\n",
    "    arr = sorted(d.items())\n",
    "    print(''.join([(arr[i][0] + ', ') * arr[i][1] for i in range(len(arr))])[:-2])"
   ]
  },
  {
   "cell_type": "code",
   "execution_count": 48,
   "metadata": {},
   "outputs": [
    {
     "name": "stdout",
     "output_type": "stream",
     "text": [
      "ac, ac, f, f, f\n"
     ]
    }
   ],
   "source": [
    "make_strange('ac 2, f 3, a 0')"
   ]
  },
  {
   "cell_type": "markdown",
   "metadata": {},
   "source": [
    "# 5 (2 балла)\n",
    "Загрузите таблицу `bikes.csv` о данных по арендам велосипедов за $2$ года:\n",
    "- `datetime`: дата и время аренды\n",
    "- `season`: время года\n",
    "- `temp`: температура воздуха по Цельсию\n",
    "- `windspeed`: скорость ветра \n",
    "- `casual`: число аренд по абонементу\n",
    "- `registered`: число остальных аренд\n",
    "\n",
    "Выполните следующие задания:\n",
    "- **(0.25)** сохраните в столбец `count` суммарное число аренд\n",
    "- **(0.25)** выведите $3$-й и $4$-й столбцы для строк с $2340$ по $2350$\n",
    "- **(0.25)** выведите столбцы `temp`, `registered` для тех строк, где `season = 2`\n",
    "- **(0.25)** сохраните в отдельную таблицу колонки `temp`, `season` и `count`\n",
    "- **(0.5)** постройте графики зависимости суммарного числа аренд от температуры\n",
    "- **(0.5)** постройте гистограмму распределения числа аренд по временам года\n",
    "\n",
    "---\n",
    "\n",
    "Read the table `bikes.csv` with data on bicycle rents for $2$ years with columns:\n",
    "- `datetime`\n",
    "- `season`\n",
    "- `temp`: air temperature\n",
    "- `windspeed`\n",
    "- `casual`: amount of casual rents\n",
    "- `registered`: amount of new rents\n",
    "\n",
    "Your tasks:\n",
    "- add `count` column with the total amount of rents\n",
    "- print $3$rd and $4$th columns for rows from $23409$ to $23500$\n",
    "- print `temp`, `registered` columns for rows where `season = 2`\n",
    "- copy `temp`, `season` and `count` columns to the new table \n",
    "- plot the dependence between the total amount of rents and temperature\n",
    "- plot the histogram of the distribution the total amount of rents by the seasons"
   ]
  },
  {
   "cell_type": "code",
   "execution_count": 62,
   "metadata": {
    "collapsed": true
   },
   "outputs": [
    {
     "data": {
      "text/html": [
       "<div>\n",
       "<style scoped>\n",
       "    .dataframe tbody tr th:only-of-type {\n",
       "        vertical-align: middle;\n",
       "    }\n",
       "\n",
       "    .dataframe tbody tr th {\n",
       "        vertical-align: top;\n",
       "    }\n",
       "\n",
       "    .dataframe thead th {\n",
       "        text-align: right;\n",
       "    }\n",
       "</style>\n",
       "<table border=\"1\" class=\"dataframe\">\n",
       "  <thead>\n",
       "    <tr style=\"text-align: right;\">\n",
       "      <th></th>\n",
       "      <th>datetime</th>\n",
       "      <th>season</th>\n",
       "      <th>holiday</th>\n",
       "      <th>workingday</th>\n",
       "      <th>weather</th>\n",
       "      <th>temp</th>\n",
       "      <th>atemp</th>\n",
       "      <th>humidity</th>\n",
       "      <th>windspeed</th>\n",
       "      <th>casual</th>\n",
       "      <th>registered</th>\n",
       "      <th>count</th>\n",
       "    </tr>\n",
       "  </thead>\n",
       "  <tbody>\n",
       "    <tr>\n",
       "      <th>0</th>\n",
       "      <td>2011-01-01 00:00:00</td>\n",
       "      <td>1</td>\n",
       "      <td>0</td>\n",
       "      <td>0</td>\n",
       "      <td>1</td>\n",
       "      <td>9.84</td>\n",
       "      <td>14.395</td>\n",
       "      <td>81</td>\n",
       "      <td>0.0</td>\n",
       "      <td>3</td>\n",
       "      <td>13</td>\n",
       "      <td>0.991728</td>\n",
       "    </tr>\n",
       "    <tr>\n",
       "      <th>1</th>\n",
       "      <td>2011-01-01 01:00:00</td>\n",
       "      <td>1</td>\n",
       "      <td>0</td>\n",
       "      <td>0</td>\n",
       "      <td>1</td>\n",
       "      <td>9.02</td>\n",
       "      <td>13.635</td>\n",
       "      <td>80</td>\n",
       "      <td>0.0</td>\n",
       "      <td>8</td>\n",
       "      <td>32</td>\n",
       "      <td>1.038636</td>\n",
       "    </tr>\n",
       "    <tr>\n",
       "      <th>2</th>\n",
       "      <td>2011-01-01 02:00:00</td>\n",
       "      <td>1</td>\n",
       "      <td>0</td>\n",
       "      <td>0</td>\n",
       "      <td>1</td>\n",
       "      <td>9.02</td>\n",
       "      <td>13.635</td>\n",
       "      <td>80</td>\n",
       "      <td>0.0</td>\n",
       "      <td>5</td>\n",
       "      <td>27</td>\n",
       "      <td>-0.490527</td>\n",
       "    </tr>\n",
       "    <tr>\n",
       "      <th>3</th>\n",
       "      <td>2011-01-01 03:00:00</td>\n",
       "      <td>1</td>\n",
       "      <td>0</td>\n",
       "      <td>0</td>\n",
       "      <td>1</td>\n",
       "      <td>9.84</td>\n",
       "      <td>14.395</td>\n",
       "      <td>75</td>\n",
       "      <td>0.0</td>\n",
       "      <td>3</td>\n",
       "      <td>10</td>\n",
       "      <td>0.954448</td>\n",
       "    </tr>\n",
       "    <tr>\n",
       "      <th>4</th>\n",
       "      <td>2011-01-01 04:00:00</td>\n",
       "      <td>1</td>\n",
       "      <td>0</td>\n",
       "      <td>0</td>\n",
       "      <td>1</td>\n",
       "      <td>9.84</td>\n",
       "      <td>14.395</td>\n",
       "      <td>75</td>\n",
       "      <td>0.0</td>\n",
       "      <td>0</td>\n",
       "      <td>1</td>\n",
       "      <td>-0.577673</td>\n",
       "    </tr>\n",
       "  </tbody>\n",
       "</table>\n",
       "</div>"
      ],
      "text/plain": [
       "              datetime  season  holiday  workingday  weather  temp   atemp  \\\n",
       "0  2011-01-01 00:00:00       1        0           0        1  9.84  14.395   \n",
       "1  2011-01-01 01:00:00       1        0           0        1  9.02  13.635   \n",
       "2  2011-01-01 02:00:00       1        0           0        1  9.02  13.635   \n",
       "3  2011-01-01 03:00:00       1        0           0        1  9.84  14.395   \n",
       "4  2011-01-01 04:00:00       1        0           0        1  9.84  14.395   \n",
       "\n",
       "   humidity  windspeed  casual  registered     count  \n",
       "0        81        0.0       3          13  0.991728  \n",
       "1        80        0.0       8          32  1.038636  \n",
       "2        80        0.0       5          27 -0.490527  \n",
       "3        75        0.0       3          10  0.954448  \n",
       "4        75        0.0       0           1 -0.577673  "
      ]
     },
     "execution_count": 62,
     "metadata": {},
     "output_type": "execute_result"
    }
   ],
   "source": [
    "import pandas as pd\n",
    "import numpy as np\n",
    "\n",
    "data = pd.read_csv(\"bikes.csv\")\n",
    "data['count'] = pd.Series(np.random.randn(10886), index=data.index)\n",
    "data.head()"
   ]
  },
  {
   "cell_type": "markdown",
   "metadata": {},
   "source": [
    "# 6 (3 балла)\n",
    "Напишите функцию, которая получает на вход строку и возвращает минимальное количество символов, которое нужно приписать\n",
    "к строке справа или слева так, чтобы она стала палиндромом.\n",
    "\n",
    "---\n",
    "\n",
    "*Input:* string\n",
    "\n",
    "*Output:* amount of symbols to be added to the right or to the left of the string so that the string becomes a palindrom\n",
    "\n",
    "\n",
    "**Пример:**\n",
    "\n",
    "*Input:* aba\n",
    "\n",
    "*Output:* 0"
   ]
  },
  {
   "cell_type": "code",
   "execution_count": 49,
   "metadata": {
    "collapsed": true
   },
   "outputs": [],
   "source": [
    "def is_pal(s):\n",
    "  l = len(s)\n",
    "  #print(s)\n",
    "  if l == 0:\n",
    "    return False\n",
    "  if l == 1:\n",
    "    return True\n",
    "  for i in range(l // 2 + 1):\n",
    "    if s[i] != s[l - i - 1]:\n",
    "      return False\n",
    "  return True\n",
    "\n",
    "def how_much_arent_you_palindrom(s):\n",
    "    l = len(s)\n",
    "    best = l\n",
    "    for i in range(1, l + 1):\n",
    "      if is_pal(s[0:i]):\n",
    "        best = l - i\n",
    "    best_2 = l\n",
    "    for i in range(l - 1, -1, -1):\n",
    "      if is_pal(s[i:l]):\n",
    "        best_2 = l - len(s[i:l])\n",
    "    print(min(best, best_2))"
   ]
  },
  {
   "cell_type": "code",
   "execution_count": 50,
   "metadata": {},
   "outputs": [
    {
     "name": "stdout",
     "output_type": "stream",
     "text": [
      "1\n"
     ]
    }
   ],
   "source": [
    "how_much_arent_you_palindrom('abac')"
   ]
  },
  {
   "cell_type": "code",
   "execution_count": null,
   "metadata": {},
   "outputs": [],
   "source": []
  }
 ],
 "metadata": {
  "anaconda-cloud": {},
  "kernelspec": {
   "display_name": "Python 3",
   "language": "python",
   "name": "python3"
  },
  "language_info": {
   "codemirror_mode": {
    "name": "ipython",
    "version": 3
   },
   "file_extension": ".py",
   "mimetype": "text/x-python",
   "name": "python",
   "nbconvert_exporter": "python",
   "pygments_lexer": "ipython3",
   "version": "3.6.2"
  }
 },
 "nbformat": 4,
 "nbformat_minor": 2
}
