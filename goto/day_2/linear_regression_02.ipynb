{
 "cells": [
  {
   "cell_type": "markdown",
   "metadata": {},
   "source": [
    "# Линейная регрессия\n",
    "---\n",
    "В этой тетрадке гайд по написанию собственной линейной регрессии ᕕ( ՞ ᗜ ՞ )ᕗ.\n",
    "\n",
    "А ещё полезные советы про переобучение."
   ]
  },
  {
   "cell_type": "code",
   "execution_count": 1,
   "metadata": {
    "collapsed": true
   },
   "outputs": [],
   "source": [
    "import pandas\n",
    "import numpy as np\n",
    "import matplotlib.pyplot as plt\n",
    "%matplotlib inline"
   ]
  },
  {
   "cell_type": "markdown",
   "metadata": {},
   "source": [
    "## Загрузка данных\n",
    "Поработаем со стандартным датасетом про больных диабетом.\n",
    "\n",
    "Про каждого пациента (объект выборки) известно всякое -- глюкоза в крови в разное время суток, суточная активность...\n",
    "Необходимо предсказать оптимальную дозу инсулина.\n",
    "\n",
    "Ссылка на датасет: http://archive.ics.uci.edu/ml/datasets/diabetes"
   ]
  },
  {
   "cell_type": "code",
   "execution_count": null,
   "metadata": {
    "collapsed": false
   },
   "outputs": [],
   "source": [
    "from sklearn.datasets import load_diabetes\n",
    "\n",
    "# Load dataset\n",
    "diabetes = load_diabetes()"
   ]
  },
  {
   "cell_type": "code",
   "execution_count": null,
   "metadata": {
    "collapsed": false
   },
   "outputs": [],
   "source": [
    "diabetes"
   ]
  },
  {
   "cell_type": "code",
   "execution_count": null,
   "metadata": {
    "collapsed": true
   },
   "outputs": [],
   "source": [
    "data = pandas.DataFrame(diabetes.data, columns=[\"q\" + str(i) for i in range(1, 11)])\n",
    "data[\"doze\"] = diabetes.target"
   ]
  },
  {
   "cell_type": "code",
   "execution_count": null,
   "metadata": {
    "collapsed": false
   },
   "outputs": [],
   "source": [
    "data.head()"
   ]
  },
  {
   "cell_type": "markdown",
   "metadata": {},
   "source": [
    "Выведи размер таблицы данных и несколько первых строк:"
   ]
  },
  {
   "cell_type": "code",
   "execution_count": null,
   "metadata": {
    "collapsed": true
   },
   "outputs": [],
   "source": [
    "#<твой код>"
   ]
  },
  {
   "cell_type": "markdown",
   "metadata": {},
   "source": [
    "Выдели в данных признаки `X` и целевое значение `y`."
   ]
  },
  {
   "cell_type": "code",
   "execution_count": null,
   "metadata": {
    "collapsed": false
   },
   "outputs": [],
   "source": [
    "X = None #<твой код>\n",
    "y = None #<твой код>"
   ]
  },
  {
   "cell_type": "markdown",
   "metadata": {},
   "source": [
    "Добавь в X признак-единицу как колонку \"q0\"."
   ]
  },
  {
   "cell_type": "code",
   "execution_count": null,
   "metadata": {
    "collapsed": true
   },
   "outputs": [],
   "source": [
    "#<твой код>"
   ]
  },
  {
   "cell_type": "code",
   "execution_count": null,
   "metadata": {
    "collapsed": true
   },
   "outputs": [],
   "source": [
    "X = np.array(X)\n",
    "y = np.array(y)"
   ]
  },
  {
   "cell_type": "markdown",
   "metadata": {},
   "source": [
    "### Посмотрим на данные\n",
    "Посмотрим на распределения разных признаков:"
   ]
  },
  {
   "cell_type": "code",
   "execution_count": null,
   "metadata": {
    "collapsed": false
   },
   "outputs": [],
   "source": [
    "plt.figure(figsize=(12, 3))\n",
    "plt.subplot(1, 2, 1)\n",
    "plt.hist([data[\"q1\"], data[\"q2\"]])\n",
    "plt.subplot(1, 2, 2)\n",
    "p = plt.hist([data[\"q4\"], data[\"q7\"]])"
   ]
  },
  {
   "cell_type": "markdown",
   "metadata": {},
   "source": [
    "Построй гистограмму для \"doze\" и вычисли среднюю дозу инсулина:"
   ]
  },
  {
   "cell_type": "code",
   "execution_count": null,
   "metadata": {
    "collapsed": true
   },
   "outputs": [],
   "source": [
    "#<твой код>"
   ]
  },
  {
   "cell_type": "code",
   "execution_count": null,
   "metadata": {
    "collapsed": false
   },
   "outputs": [],
   "source": [
    "average_doze = None #<твой код>\n",
    "print(average_doze)"
   ]
  },
  {
   "cell_type": "markdown",
   "metadata": {},
   "source": [
    "Посмотрим теперь на зависимость чего-нибудь одного от чего-нибудь другого:\n",
    "\n",
    "x -- первый признак\n",
    "\n",
    "y -- второй признак\n",
    "\n",
    "цвет -- величина дозы"
   ]
  },
  {
   "cell_type": "code",
   "execution_count": null,
   "metadata": {
    "collapsed": false
   },
   "outputs": [],
   "source": [
    "plt.scatter(data[\"q1\"], data[\"q3\"], c=data[\"doze\"] / np.max(data[\"doze\"]))"
   ]
  },
  {
   "cell_type": "markdown",
   "metadata": {},
   "source": [
    "Построй scatter (график из точек) для признаков q3, q4."
   ]
  },
  {
   "cell_type": "code",
   "execution_count": null,
   "metadata": {
    "collapsed": true
   },
   "outputs": [],
   "source": [
    "#<твой код>"
   ]
  },
  {
   "cell_type": "markdown",
   "metadata": {},
   "source": [
    "## Сделай сам!\n",
    "Напишем теперь свою линейную регрессию и применим её для предсказания оптимальных доз инсулина для больных сахарным диабетом."
   ]
  },
  {
   "cell_type": "markdown",
   "metadata": {},
   "source": [
    "### Построение модели"
   ]
  },
  {
   "cell_type": "code",
   "execution_count": null,
   "metadata": {
    "collapsed": false
   },
   "outputs": [],
   "source": [
    "def predict(W, X):\n",
    "    \"\"\"получить прогноз h(X|w)\"\"\"\n",
    "    \n",
    "    # размерность ответа\n",
    "    size = None #<твой код>\n",
    "    \n",
    "    pred = []\n",
    "    for i in range(size):\n",
    "        # i-ая строчка выборки примеров\n",
    "        X_i = None #<твой код>\n",
    "        \n",
    "        # прогноз модели для i-ой строчки (объекта)\n",
    "        pred_i = None #<твой код>\n",
    "        \n",
    "        pred.append(pred_i)\n",
    "    \n",
    "    return np.array(pred).reshape(-1, 1)"
   ]
  },
  {
   "cell_type": "code",
   "execution_count": null,
   "metadata": {
    "collapsed": false
   },
   "outputs": [],
   "source": [
    "W = np.array([-0.5, 0.5, -0.5, 0.5, -0.5, -0.5, 0.5, 0.5, 0.5, -0.5, 150])\n",
    "pred = predict(W, X)\n",
    "print(pred.shape)\n",
    "print(pred[:10])"
   ]
  },
  {
   "cell_type": "code",
   "execution_count": 30,
   "metadata": {
    "collapsed": false
   },
   "outputs": [],
   "source": [
    "def loss(X, Y, W):\n",
    "    \"\"\"функция потерь J(X, Y, W)\"\"\"\n",
    "    \n",
    "    # предсказание по модели\n",
    "    pred = None #<твой код>\n",
    "    \n",
    "    # вектор разностей предсказаний и реальных значений\n",
    "    error = None #<твой код> \n",
    "    \n",
    "    # вектор из квадратов ошибок\n",
    "    squared_error = None #<твой код>\n",
    "    \n",
    "    # среднее по ним\n",
    "    mean_squared_error = None #<твой код>\n",
    "\n",
    "    return mean_squared_error"
   ]
  },
  {
   "cell_type": "code",
   "execution_count": null,
   "metadata": {
    "collapsed": false
   },
   "outputs": [],
   "source": [
    "mse = loss(X, Y, W)\n",
    "print(mse)"
   ]
  },
  {
   "cell_type": "code",
   "execution_count": 32,
   "metadata": {
    "collapsed": false
   },
   "outputs": [],
   "source": [
    "def gradient(X, Y, W):\n",
    "    \"\"\"вектор градиента функции потерь\"\"\"\n",
    "    \n",
    "    # размер вектора градиента\n",
    "    len_gradient = None #<твой код>\n",
    "    \n",
    "    gradient = []\n",
    "    \n",
    "    # вспомогательные вычисления\n",
    "    \n",
    "    return np.array(gradient).reshape(-1, 1)"
   ]
  },
  {
   "cell_type": "code",
   "execution_count": null,
   "metadata": {
    "collapsed": false
   },
   "outputs": [],
   "source": [
    "grad = gradient(X, Y, W)\n",
    "print(grad.shape)\n",
    "print(grad)"
   ]
  },
  {
   "cell_type": "code",
   "execution_count": 34,
   "metadata": {
    "collapsed": false
   },
   "outputs": [],
   "source": [
    "def train_model(X, Y, step=0.1, n_steps=100):\n",
    "    # создадим нулевой вектор весов\n",
    "    ## сколько должно быть весов\n",
    "    len_w = None #<твой код>\n",
    "    W = np.zeros(len_w)\n",
    "    \n",
    "    for i in range(n_steps):\n",
    "        # новый вектор весов\n",
    "        W = None #<твой код>\n",
    "\n",
    "    return W"
   ]
  },
  {
   "cell_type": "markdown",
   "metadata": {},
   "source": [
    "### Обучение модели\n",
    "Для дальнейшей проверки надо разбить выборку на train и test, для этого в sklearn есть функция `train_test_split`:"
   ]
  },
  {
   "cell_type": "code",
   "execution_count": 3,
   "metadata": {
    "collapsed": false
   },
   "outputs": [
    {
     "name": "stdout",
     "output_type": "stream",
     "text": [
      "[[4, 2, 5], [1, 3], [2, 4, 1], [5, 3]]\n"
     ]
    }
   ],
   "source": [
    "from sklearn.cross_validation import train_test_split\n",
    "\n",
    "a1 = [1, 2, 3, 4, 5]\n",
    "a2 = [5, 4, 3, 2, 1]\n",
    "print(train_test_split(a1, a2, train_size=0.6))"
   ]
  },
  {
   "cell_type": "code",
   "execution_count": null,
   "metadata": {
    "collapsed": true
   },
   "outputs": [],
   "source": [
    "?train_test_split"
   ]
  },
  {
   "cell_type": "markdown",
   "metadata": {},
   "source": [
    "Раздели выборку на обучающую и тестовую (размер обучающей выборки -- три четверти), выведи их размеры."
   ]
  },
  {
   "cell_type": "code",
   "execution_count": 37,
   "metadata": {
    "collapsed": false
   },
   "outputs": [],
   "source": [
    "X_train, X_test, Y_train, Y_test = None, None, None, None #<твой код>\n",
    "#<твой код>"
   ]
  },
  {
   "cell_type": "markdown",
   "metadata": {},
   "source": [
    "Обучи модель на тренировочной выборке:"
   ]
  },
  {
   "cell_type": "code",
   "execution_count": 38,
   "metadata": {
    "collapsed": true
   },
   "outputs": [],
   "source": [
    "W = None #<твой код>"
   ]
  },
  {
   "cell_type": "markdown",
   "metadata": {},
   "source": [
    "### Оценка качества\n",
    "Получи прогноз на тренировочной и тестовой выборке:"
   ]
  },
  {
   "cell_type": "code",
   "execution_count": 39,
   "metadata": {
    "collapsed": true
   },
   "outputs": [],
   "source": [
    "Y_train_predict = None #<твой код>\n",
    "Y_test_predict = None #<твой код>"
   ]
  },
  {
   "cell_type": "markdown",
   "metadata": {},
   "source": [
    "Посчитай среднеквадратичные ошибки:"
   ]
  },
  {
   "cell_type": "code",
   "execution_count": 42,
   "metadata": {
    "collapsed": true
   },
   "outputs": [],
   "source": [
    "x_train_error = 0 #<твой код>\n",
    "x_test_error = 0 #<твой код>"
   ]
  },
  {
   "cell_type": "code",
   "execution_count": 43,
   "metadata": {
    "collapsed": false
   },
   "outputs": [
    {
     "name": "stdout",
     "output_type": "stream",
     "text": [
      "ошибка на X_train: 0\n",
      "ошибка на X_test: 0\n"
     ]
    }
   ],
   "source": [
    "print(\"ошибка на X_train: %s\" % x_train_error)\n",
    "print(\"ошибка на X_test: %s\" % x_test_error)"
   ]
  },
  {
   "cell_type": "markdown",
   "metadata": {},
   "source": [
    "## Scikit-learn"
   ]
  },
  {
   "cell_type": "markdown",
   "metadata": {},
   "source": [
    "Сгенерируем простенькие данные для линейной регрессии:"
   ]
  },
  {
   "cell_type": "code",
   "execution_count": 4,
   "metadata": {
    "collapsed": false
   },
   "outputs": [],
   "source": [
    "# 50 чисел от 0 до 10\n",
    "X = pandas.DataFrame(np.arange(0, 10, 0.2), columns=[1])\n",
    "# целевая переменная -- зашумлённые значения X\n",
    "Y = X + 3 * (np.random.RandomState(153).random_sample(X.shape) - 0.5)\n",
    "X_train, X_test, Y_train, Y_test = train_test_split(X, Y, random_state=153, train_size=0.6)"
   ]
  },
  {
   "cell_type": "code",
   "execution_count": null,
   "metadata": {
    "collapsed": false
   },
   "outputs": [],
   "source": [
    "plt.scatter(X_train, Y_train, label='train')\n",
    "plt.scatter(X_test, Y_test, c='r', label='test')\n",
    "plt.legend(loc='lower right')"
   ]
  },
  {
   "cell_type": "markdown",
   "metadata": {},
   "source": [
    "Объект класса [LinearRegression](http://scikit-learn.org/stable/modules/generated/sklearn.linear_model.LinearRegression.html#sklearn.linear_model.LinearRegression) -- классификатор с заданными параметрами. Наиболее важные методы классификатора: *fit*, *predict*."
   ]
  },
  {
   "cell_type": "code",
   "execution_count": 6,
   "metadata": {
    "collapsed": true
   },
   "outputs": [],
   "source": [
    "# подключение класса из модуля sklearn\n",
    "from sklearn.linear_model import LinearRegression"
   ]
  },
  {
   "cell_type": "code",
   "execution_count": 7,
   "metadata": {
    "collapsed": false
   },
   "outputs": [],
   "source": [
    "# cоздать\n",
    "linreg_model = LinearRegression()\n",
    "# обучить по train\n",
    "linreg_model.fit(X_train, Y_train)\n",
    "# предсказать для test\n",
    "Y_pred = linreg_model.predict(X_test)"
   ]
  },
  {
   "cell_type": "code",
   "execution_count": null,
   "metadata": {
    "collapsed": false
   },
   "outputs": [],
   "source": [
    "Y_plot = linreg_model.predict(X)\n",
    "plt.scatter(X_train, Y_train, label='train')\n",
    "plt.scatter(X_test, Y_test, c='r', label='test')\n",
    "plt.plot(X, Y_plot, c='g', label='linear regression')\n",
    "plt.legend(loc=\"lower right\")"
   ]
  },
  {
   "cell_type": "markdown",
   "metadata": {},
   "source": [
    "Ошибка предсказаний характеризует, насколько сильно истинные значения **Y_test** отличаются от предсказанных **Y_pred**.\n",
    "\n",
    "Посмотрим на среднеквадратичную ошибку (MSE -- Mean Squared Error):"
   ]
  },
  {
   "cell_type": "code",
   "execution_count": null,
   "metadata": {
    "collapsed": false
   },
   "outputs": [],
   "source": [
    "from sklearn.metrics import mean_squared_error\n",
    "\n",
    "print(\"Train MSE error:\", mean_squared_error(Y_train, linreg_model.predict(X_train)))\n",
    "print(\"Test MSE error:\", mean_squared_error(Y_test, Y_pred))"
   ]
  },
  {
   "cell_type": "markdown",
   "metadata": {},
   "source": [
    "### *Для развлечения на потом*\n",
    "Можно сравнить качество и скорость работы (%%time -- см. titanic_01) своей линейной регрессии с sklearn-овской."
   ]
  },
  {
   "cell_type": "markdown",
   "metadata": {},
   "source": [
    "## Добавление признаков\n",
    "\n",
    "Попробуем улучшить качество модели за счёт добавления степеней переменной $x$.\n",
    "\n",
    "Добавь в таблицу X степени до $8$-ой включительно."
   ]
  },
  {
   "cell_type": "code",
   "execution_count": 10,
   "metadata": {
    "collapsed": false
   },
   "outputs": [
    {
     "data": {
      "text/html": [
       "<div>\n",
       "<table border=\"1\" class=\"dataframe\">\n",
       "  <thead>\n",
       "    <tr style=\"text-align: right;\">\n",
       "      <th></th>\n",
       "      <th>1</th>\n",
       "    </tr>\n",
       "  </thead>\n",
       "  <tbody>\n",
       "    <tr>\n",
       "      <th>0</th>\n",
       "      <td>0.0</td>\n",
       "    </tr>\n",
       "    <tr>\n",
       "      <th>1</th>\n",
       "      <td>0.2</td>\n",
       "    </tr>\n",
       "    <tr>\n",
       "      <th>2</th>\n",
       "      <td>0.4</td>\n",
       "    </tr>\n",
       "  </tbody>\n",
       "</table>\n",
       "</div>"
      ],
      "text/plain": [
       "     1\n",
       "0  0.0\n",
       "1  0.2\n",
       "2  0.4"
      ]
     },
     "execution_count": 10,
     "metadata": {},
     "output_type": "execute_result"
    }
   ],
   "source": [
    "X[:3]"
   ]
  },
  {
   "cell_type": "code",
   "execution_count": 12,
   "metadata": {
    "collapsed": false
   },
   "outputs": [],
   "source": [
    "poly_X = X.copy()\n",
    "#<твой код>"
   ]
  },
  {
   "cell_type": "code",
   "execution_count": 13,
   "metadata": {
    "collapsed": false
   },
   "outputs": [
    {
     "data": {
      "text/html": [
       "<div>\n",
       "<table border=\"1\" class=\"dataframe\">\n",
       "  <thead>\n",
       "    <tr style=\"text-align: right;\">\n",
       "      <th></th>\n",
       "      <th>1</th>\n",
       "      <th>2</th>\n",
       "      <th>3</th>\n",
       "      <th>4</th>\n",
       "      <th>5</th>\n",
       "      <th>6</th>\n",
       "      <th>7</th>\n",
       "      <th>8</th>\n",
       "    </tr>\n",
       "  </thead>\n",
       "  <tbody>\n",
       "    <tr>\n",
       "      <th>0</th>\n",
       "      <td>0.0</td>\n",
       "      <td>0.00</td>\n",
       "      <td>0.000</td>\n",
       "      <td>0.0000</td>\n",
       "      <td>0.00000</td>\n",
       "      <td>0.000000</td>\n",
       "      <td>0.000000</td>\n",
       "      <td>0.000000</td>\n",
       "    </tr>\n",
       "    <tr>\n",
       "      <th>1</th>\n",
       "      <td>0.2</td>\n",
       "      <td>0.04</td>\n",
       "      <td>0.008</td>\n",
       "      <td>0.0016</td>\n",
       "      <td>0.00032</td>\n",
       "      <td>0.000064</td>\n",
       "      <td>0.000013</td>\n",
       "      <td>0.000003</td>\n",
       "    </tr>\n",
       "    <tr>\n",
       "      <th>2</th>\n",
       "      <td>0.4</td>\n",
       "      <td>0.16</td>\n",
       "      <td>0.064</td>\n",
       "      <td>0.0256</td>\n",
       "      <td>0.01024</td>\n",
       "      <td>0.004096</td>\n",
       "      <td>0.001638</td>\n",
       "      <td>0.000655</td>\n",
       "    </tr>\n",
       "  </tbody>\n",
       "</table>\n",
       "</div>"
      ],
      "text/plain": [
       "     1     2      3       4        5         6         7         8\n",
       "0  0.0  0.00  0.000  0.0000  0.00000  0.000000  0.000000  0.000000\n",
       "1  0.2  0.04  0.008  0.0016  0.00032  0.000064  0.000013  0.000003\n",
       "2  0.4  0.16  0.064  0.0256  0.01024  0.004096  0.001638  0.000655"
      ]
     },
     "execution_count": 13,
     "metadata": {},
     "output_type": "execute_result"
    }
   ],
   "source": [
    "poly_X[:3]"
   ]
  },
  {
   "cell_type": "markdown",
   "metadata": {},
   "source": [
    "Разобьём выборку с новыми признаками на train и test:"
   ]
  },
  {
   "cell_type": "code",
   "execution_count": 14,
   "metadata": {
    "collapsed": true
   },
   "outputs": [],
   "source": [
    "poly_X_train, poly_X_test = train_test_split(poly_X, random_state=153, train_size=0.6)"
   ]
  },
  {
   "cell_type": "markdown",
   "metadata": {},
   "source": [
    "Обучи модель линейной регрессии на новых признаках:"
   ]
  },
  {
   "cell_type": "code",
   "execution_count": 17,
   "metadata": {
    "collapsed": false
   },
   "outputs": [],
   "source": [
    "# cоздать\n",
    "poly_linreg_model = LinearRegression()\n",
    "\n",
    "# обучить по train\n",
    "#<твой код>\n",
    "\n",
    "# предсказать для test\n",
    "#<твой код>"
   ]
  },
  {
   "cell_type": "markdown",
   "metadata": {},
   "source": [
    "Нарисуем новый график (просто выполни ячейку):"
   ]
  },
  {
   "cell_type": "code",
   "execution_count": null,
   "metadata": {
    "collapsed": false
   },
   "outputs": [],
   "source": [
    "poly_Y_plot = poly_linreg_model.predict(poly_X)\n",
    "plt.scatter(X_train, Y_train, label='train')\n",
    "plt.scatter(X_test, Y_test, c='r', label='test')\n",
    "plt.plot(X, poly_Y_plot, c='g', label='linear regression')\n",
    "plt.legend(loc=\"lower right\")"
   ]
  },
  {
   "cell_type": "markdown",
   "metadata": {},
   "source": [
    "Посмотрим теперь на ошибки на train и test -- получился слишком сильный подгон под обучающую выборку:"
   ]
  },
  {
   "cell_type": "code",
   "execution_count": null,
   "metadata": {
    "collapsed": false
   },
   "outputs": [],
   "source": [
    "print(\"Train MSE error:\", mean_squared_error(Y_train, poly_linreg_model.predict(poly_X_train)))\n",
    "print(\"Test MSE error:\", mean_squared_error(Y_test, poly_Y_pred))"
   ]
  },
  {
   "cell_type": "markdown",
   "metadata": {},
   "source": [
    "С увеличением степени признаков ошибка на обучающей выборке будет уменьшаться, а на тестовой -- увеличиваться."
   ]
  },
  {
   "cell_type": "markdown",
   "metadata": {},
   "source": [
    "## Как с этим бороться?\n",
    "Регуляризованная линейная регрессия [Ridge](http://scikit-learn.org/stable/modules/generated/sklearn.linear_model.Ridge.html#sklearn.linear_model.Ridge) в sklearn:"
   ]
  },
  {
   "cell_type": "code",
   "execution_count": 57,
   "metadata": {
    "collapsed": false
   },
   "outputs": [],
   "source": [
    "from sklearn.linear_model import Ridge\n",
    "\n",
    "# alpha -- коэффициент регуляризации\n",
    "# чем он больше, тем сильнее ограничивается модель\n",
    "reg_linreg_model = Ridge(alpha=5, random_state=153)\n",
    "\n",
    "reg_linreg_model.fit(poly_X_train, Y_train)\n",
    "\n",
    "reg_Y_pred = reg_linreg_model.predict(poly_X_test)"
   ]
  },
  {
   "cell_type": "code",
   "execution_count": null,
   "metadata": {
    "collapsed": false
   },
   "outputs": [],
   "source": [
    "reg_Y_plot = reg_linreg_model.predict(poly_X)\n",
    "plt.scatter(X_train, Y_train, label='train')\n",
    "plt.scatter(X_test, Y_test, c='r', label='test')\n",
    "plt.plot(X, reg_Y_plot, c='g', label='linear regression')\n",
    "plt.legend(loc=\"lower right\")"
   ]
  },
  {
   "cell_type": "markdown",
   "metadata": {},
   "source": [
    "Теперь ошибки на train и test отличаются не так сильно:"
   ]
  },
  {
   "cell_type": "code",
   "execution_count": null,
   "metadata": {
    "collapsed": false
   },
   "outputs": [],
   "source": [
    "print(\"Train MSE error:\", mean_squared_error(Y_train, reg_linreg_model.predict(poly_X_train)))\n",
    "print(\"Test MSE error:\", mean_squared_error(Y_test, reg_Y_pred))"
   ]
  }
 ],
 "metadata": {
  "anaconda-cloud": {},
  "kernelspec": {
   "display_name": "Python 3",
   "language": "python",
   "name": "python3"
  },
  "language_info": {
   "codemirror_mode": {
    "name": "ipython",
    "version": 3
   },
   "file_extension": ".py",
   "mimetype": "text/x-python",
   "name": "python",
   "nbconvert_exporter": "python",
   "pygments_lexer": "ipython3",
   "version": "3.5.5"
  }
 },
 "nbformat": 4,
 "nbformat_minor": 2
}
