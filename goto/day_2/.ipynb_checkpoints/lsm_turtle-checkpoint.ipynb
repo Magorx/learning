{
 "cells": [
  {
   "cell_type": "code",
   "execution_count": 2,
   "metadata": {},
   "outputs": [],
   "source": [
    "import numpy as np\n",
    "\n",
    "import turtle"
   ]
  },
  {
   "cell_type": "markdown",
   "metadata": {},
   "source": [
    "# Интерактивная демонстрация линейной регрессии, переобучения, полиномиальных и тригонометрических признаков"
   ]
  },
  {
   "cell_type": "markdown",
   "metadata": {},
   "source": [
    "## Ставим точки, пускаем через них кривую"
   ]
  },
  {
   "cell_type": "code",
   "execution_count": 30,
   "metadata": {},
   "outputs": [],
   "source": [
    "def one_term(x, t):  # здесь задаём вид аппроксимации\n",
    "    return np.sin(2 * 3.14 * t * x)  # многочлен"
   ]
  },
  {
   "cell_type": "code",
   "execution_count": 31,
   "metadata": {},
   "outputs": [],
   "source": [
    "def one_row(x, n_terms):  # размножаем вширь до ширины n_terms\n",
    "    return np.array([one_term(x, t) for t in range(n_terms)])"
   ]
  },
  {
   "cell_type": "code",
   "execution_count": 32,
   "metadata": {},
   "outputs": [],
   "source": [
    "def create_lsm_matrix(a, n):  # lsm - least squares method\n",
    "    xy = np.array(a)\n",
    "    x = xy[:, 0].reshape(-1, 1)\n",
    "    y = xy[:, 1].reshape(-1, 1)\n",
    "    return np.concatenate(one_row(x, n), axis=1), y "
   ]
  },
  {
   "cell_type": "code",
   "execution_count": 33,
   "metadata": {},
   "outputs": [],
   "source": [
    "def draw_points(a):\n",
    "    turtle.up()\n",
    "    turtle.clear()\n",
    "    \n",
    "    for point in a:\n",
    "        turtle.pencolor((0, 0, 0))\n",
    "        real_point = tuple(t*100 for t in point)\n",
    "        turtle.goto(*real_point)  # переходим в точку, в которую раньше кликнули\n",
    "        turtle.dot()  # ставим отметку\n",
    "\n",
    "\n",
    "def draw_approximation(a):  # a - массив пар (x, y)\n",
    "    n_terms = 5 # количество слагаемых полинома (степень = deg - 1 !!!). Чем больше, тем легче переобучиться\n",
    "    print(a)\n",
    "    b, y = create_lsm_matrix(a, n_terms)  \n",
    "\n",
    "    btb = b.T.dot(b)\n",
    "    coef = 10**-10\n",
    "    ones_matrix = np.eye(btb.shape[0], btb.shape[1]) * coef\n",
    "    btb += ones_matrix\n",
    "    print ('deg = ', n_terms - 1, ' npoints =', len(a), 'det =', np.linalg.det(btb))\n",
    "    poly = np.linalg.inv(btb).dot(b.T.dot(y))\n",
    "\n",
    "    minx = min(t[0] for t in a) - 1\n",
    "    maxx = max(t[0] for t in a) + 1\n",
    "    d = maxx - minx\n",
    "\n",
    "    turtle.color((0, 1, 0))\n",
    "    for sx in range(int(100*(minx - d/2)), int(100*(maxx + d/2))):  # sx - screen x, в 100 раз больше\n",
    "        x = (float(sx)/100)\n",
    "        y = one_row(x, n_terms).dot(poly)[0]\n",
    "        approx_point = (sx, y*100)\n",
    "        turtle.goto(*approx_point)\n",
    "        turtle.down()\n",
    "\n",
    "        \n",
    "class MyPoints(object):\n",
    "    def __init__(self):\n",
    "        self.dat = []\n",
    "    def my_click(self,x,y):\n",
    "        self.dat.append((x/100,y/100))\n",
    "        draw_points(self.dat)\n",
    "        if len(self.dat) > 1:\n",
    "            draw_approximation(self.dat)"
   ]
  },
  {
   "cell_type": "code",
   "execution_count": 37,
   "metadata": {},
   "outputs": [
    {
     "name": "stdout",
     "output_type": "stream",
     "text": [
      "[(-1.37, 1.16), (1.83, 1.04)]\n",
      "deg =  4  npoints = 2 det = 4.3677315926929856e-30\n",
      "[(-1.37, 1.16), (1.83, 1.04), (2.92, 1.8)]\n",
      "deg =  4  npoints = 3 det = 1.1712587195458237e-19\n",
      "[(-1.37, 1.16), (1.83, 1.04), (2.92, 1.8), (-2.21, -0.46)]\n",
      "deg =  4  npoints = 4 det = 3.132287387093689e-10\n",
      "[(-1.37, 1.16), (1.83, 1.04), (2.92, 1.8), (-2.21, -0.46), (0.45, -0.87)]\n",
      "deg =  4  npoints = 5 det = 3.004246020492139e-09\n",
      "[(-1.37, 1.16), (1.83, 1.04), (2.92, 1.8), (-2.21, -0.46), (0.45, -0.87), (0.81, -0.87)]\n",
      "deg =  4  npoints = 6 det = 4.641302769252873e-09\n",
      "[(-1.37, 1.16), (1.83, 1.04), (2.92, 1.8), (-2.21, -0.46), (0.45, -0.87), (0.81, -0.87), (-0.35, 2.46)]\n",
      "deg =  4  npoints = 7 det = 1.2278355779939648e-08\n",
      "[(-1.37, 1.16), (1.83, 1.04), (2.92, 1.8), (-2.21, -0.46), (0.45, -0.87), (0.81, -0.87), (-0.35, 2.46), (-0.47, 2.59)]\n",
      "deg =  4  npoints = 8 det = 1.729526192921064e-08\n",
      "[(-1.37, 1.16), (1.83, 1.04), (2.92, 1.8), (-2.21, -0.46), (0.45, -0.87), (0.81, -0.87), (-0.35, 2.46), (-0.47, 2.59), (-0.35, 2.59)]\n",
      "deg =  4  npoints = 9 det = 2.7885300675687404e-08\n",
      "[(-1.37, 1.16), (1.83, 1.04), (2.92, 1.8), (-2.21, -0.46), (0.45, -0.87), (0.81, -0.87), (-0.35, 2.46), (-0.47, 2.59), (-0.35, 2.59), (-0.35, 2.59)]\n",
      "deg =  4  npoints = 10 det = 3.847533942216434e-08\n",
      "[(-1.37, 1.16), (1.83, 1.04), (2.92, 1.8), (-2.21, -0.46), (0.45, -0.87), (0.81, -0.87), (-0.35, 2.46), (-0.47, 2.59), (-0.35, 2.59), (-0.35, 2.59), (-0.35, 2.59)]\n",
      "deg =  4  npoints = 11 det = 4.906537816864122e-08\n",
      "[(-1.37, 1.16), (1.83, 1.04), (2.92, 1.8), (-2.21, -0.46), (0.45, -0.87), (0.81, -0.87), (-0.35, 2.46), (-0.47, 2.59), (-0.35, 2.59), (-0.35, 2.59), (-0.35, 2.59), (-0.35, 2.59)]\n",
      "deg =  4  npoints = 12 det = 5.965541691511816e-08\n",
      "[(-1.37, 1.16), (1.83, 1.04), (2.92, 1.8), (-2.21, -0.46), (0.45, -0.87), (0.81, -0.87), (-0.35, 2.46), (-0.47, 2.59), (-0.35, 2.59), (-0.35, 2.59), (-0.35, 2.59), (-0.35, 2.59), (-0.35, 2.59)]\n",
      "deg =  4  npoints = 13 det = 7.024545566159466e-08\n",
      "[(-1.37, 1.16), (1.83, 1.04), (2.92, 1.8), (-2.21, -0.46), (0.45, -0.87), (0.81, -0.87), (-0.35, 2.46), (-0.47, 2.59), (-0.35, 2.59), (-0.35, 2.59), (-0.35, 2.59), (-0.35, 2.59), (-0.35, 2.59), (-0.35, 2.59)]\n",
      "deg =  4  npoints = 14 det = 8.083549440807176e-08\n",
      "[(-1.37, 1.16), (1.83, 1.04), (2.92, 1.8), (-2.21, -0.46), (0.45, -0.87), (0.81, -0.87), (-0.35, 2.46), (-0.47, 2.59), (-0.35, 2.59), (-0.35, 2.59), (-0.35, 2.59), (-0.35, 2.59), (-0.35, 2.59), (-0.35, 2.59), (-0.35, 2.59)]\n",
      "deg =  4  npoints = 15 det = 9.142553315454897e-08\n",
      "[(-1.37, 1.16), (1.83, 1.04), (2.92, 1.8), (-2.21, -0.46), (0.45, -0.87), (0.81, -0.87), (-0.35, 2.46), (-0.47, 2.59), (-0.35, 2.59), (-0.35, 2.59), (-0.35, 2.59), (-0.35, 2.59), (-0.35, 2.59), (-0.35, 2.59), (-0.35, 2.59), (-0.35, 2.59)]\n",
      "deg =  4  npoints = 16 det = 1.0201557190102552e-07\n"
     ]
    }
   ],
   "source": [
    "points = MyPoints()  # здесь хранятся точки\n",
    "\n",
    "turtle.getscreen().onclick(points.my_click)  # если кликнули, добавить ещё одну точку\n",
    "turtle.tracer(0)  # не тратить время на анимацию\n",
    "turtle.mainloop()  # появляется окно, куда можно кликать. Если выполнилось с ошибкой, исполнить ячейку ещё раз"
   ]
  },
  {
   "cell_type": "markdown",
   "metadata": {},
   "source": [
    "# Упражнения"
   ]
  },
  {
   "cell_type": "markdown",
   "metadata": {},
   "source": [
    "## Исподвыподверт с недопереобучением"
   ]
  },
  {
   "cell_type": "markdown",
   "metadata": {},
   "source": [
    "* Для количеств слагаемых многочлена n_terms = 3, 6, 9 ставить точки и смотреть, как проходит аппроксимация\n",
    "* По отладочному выводу выдвинуть гипотезу о зависимости качества аппроксимации от количества точек, причине плохого качества аппроксимации\n",
    "* Когда аппроксимация в точности проходит через наши точки?\n",
    "\n",
    "### Выводы:"
   ]
  },
  {
   "cell_type": "markdown",
   "metadata": {},
   "source": [
    "Cool!"
   ]
  },
  {
   "cell_type": "markdown",
   "metadata": {},
   "source": [
    "## Регулярные занятия - залог успеха"
   ]
  },
  {
   "cell_type": "markdown",
   "metadata": {},
   "source": [
    "Добавить регуляризацию с $\\lambda = 10^{-10}, 10^{-5}, 10^{-3}, 10^{-1}, 1 $\n",
    "* повторить предыдущее упражнение\n",
    "* Как и что изменилось?\n",
    "* Какое значение $\\lambda$ лучше всего? Почему?\n",
    "### Выводы:"
   ]
  },
  {
   "cell_type": "markdown",
   "metadata": {},
   "source": [
    "Cool! "
   ]
  },
  {
   "cell_type": "markdown",
   "metadata": {},
   "source": [
    "## Учёный малый, но педант\n",
    "### Уже понятно, когда аппроксимация в точности проходит через точки. Хорошо ли это?\n",
    "\n",
    "* Изменить строчку n_terms так, чтобы аппроксимация всегда проходила через поставленные точки\n",
    "* Попробовать \"на глаз\" поставить много (> 10) точек на параболу. Похожа ли на параболу аппроксимация?\n",
    "* Сделать то же самое при трёх слагаемых\n",
    "\n",
    "### Выводы:"
   ]
  },
  {
   "cell_type": "markdown",
   "metadata": {},
   "source": []
  },
  {
   "cell_type": "markdown",
   "metadata": {},
   "source": [
    "## Fourier's Fury"
   ]
  },
  {
   "cell_type": "markdown",
   "metadata": {},
   "source": [
    "### Заменить полиномиальные признаки на тригонометрические\n",
    "\n",
    "* Внести изменения в one_term\n",
    "* Учесть, что для полноты чувств неплохо ставить на чётные места косинусы, на нечётные - синусы\n",
    "* В одном месте в функцию one_term передаётся скалярное значение, в другом - вектор. Нужно чтобы работало и там и там. numpy рулит"
   ]
  },
  {
   "cell_type": "code",
   "execution_count": null,
   "metadata": {},
   "outputs": [],
   "source": []
  },
  {
   "cell_type": "markdown",
   "metadata": {},
   "source": [
    "## Совсем факультатив"
   ]
  },
  {
   "cell_type": "markdown",
   "metadata": {},
   "source": [
    "### Пофиксить мерзкую ошибку\n",
    "* Ячейка с turtle.mainloop выдаёт ошибку из-за того что не вызывается метод закрытия окна при нажатии на крестик\n",
    "* нагуглить правильное завершение turtle.mainloop(), вставить корректный обработчик"
   ]
  },
  {
   "cell_type": "code",
   "execution_count": null,
   "metadata": {},
   "outputs": [],
   "source": []
  }
 ],
 "metadata": {
  "kernelspec": {
   "display_name": "Python 3",
   "language": "python",
   "name": "python3"
  },
  "language_info": {
   "codemirror_mode": {
    "name": "ipython",
    "version": 3
   },
   "file_extension": ".py",
   "mimetype": "text/x-python",
   "name": "python",
   "nbconvert_exporter": "python",
   "pygments_lexer": "ipython3",
   "version": "3.6.2"
  }
 },
 "nbformat": 4,
 "nbformat_minor": 2
}
