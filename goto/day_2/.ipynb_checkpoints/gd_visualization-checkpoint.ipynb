{
 "cells": [
  {
   "cell_type": "markdown",
   "metadata": {},
   "source": [
    "# Посмотрим, как это выглядит\n",
    "\n",
    "В этой тетрадке задания по визуализации реализованных методов.\n",
    "\n",
    "---\n",
    "Let's try to visualize our methods"
   ]
  },
  {
   "cell_type": "code",
   "execution_count": 8,
   "metadata": {
    "collapsed": true
   },
   "outputs": [],
   "source": [
    "import pandas\n",
    "import numpy as np\n",
    "import matplotlib.pyplot as plt\n",
    "%matplotlib inline"
   ]
  },
  {
   "cell_type": "markdown",
   "metadata": {},
   "source": [
    "## Сходимость градиентного спуска\n",
    "\n",
    "Добавь реализации предсказания и функционала ошибки для линейной регрессии и оптимизацию функционала ошибки методом градиентного спуска:\n",
    "\n",
    "---\n",
    "\n",
    "Add linear regression realization and gradient descent optimization:"
   ]
  },
  {
   "cell_type": "code",
   "execution_count": null,
   "metadata": {
    "collapsed": true
   },
   "outputs": [],
   "source": [
    "#<твой код>"
   ]
  },
  {
   "cell_type": "markdown",
   "metadata": {},
   "source": [
    "Сгенерируем простенькие данные для линейной регрессии:\n",
    "\n",
    "---\n",
    "Let's generate some data:"
   ]
  },
  {
   "cell_type": "code",
   "execution_count": 5,
   "metadata": {
    "collapsed": false
   },
   "outputs": [
    {
     "data": {
      "text/plain": [
       "<matplotlib.collections.PathCollection at 0x7f2523f85198>"
      ]
     },
     "execution_count": 5,
     "metadata": {},
     "output_type": "execute_result"
    },
    {
     "data": {
      "image/png": "[encoded data removed]",
      "text/plain": [
       "<matplotlib.figure.Figure at 0x7f252781ccf8>"
      ]
     },
     "metadata": {},
     "output_type": "display_data"
    }
   ],
   "source": [
    "# 50 чисел от 0 до 10\n",
    "X = pandas.DataFrame(np.arange(0, 10, 0.2), columns=[1])\n",
    "# целевая переменная -- зашумлённые значения X\n",
    "Y = X + 3 * (np.random.RandomState(153).random_sample(X.shape) - 0.5)\n",
    "\n",
    "plt.scatter(X, Y)"
   ]
  },
  {
   "cell_type": "markdown",
   "metadata": {},
   "source": [
    "Как выглядит график зависимости функционала ошибки $J(X, y, w_0, w_1)$ от параметров $w_0$, $w_1$?\n",
    "\n",
    "(можно построить как 2D от каждого $w_0$, $w_1$ по отдельности, так и 3D)\n",
    "\n",
    "---\n",
    "Plot 2D curves of $J(X, y, w_0, w_1)$ - ($w_0, w_1$) dependence for each parameter $w_0$, $w_1$ separately."
   ]
  },
  {
   "cell_type": "code",
   "execution_count": null,
   "metadata": {
    "collapsed": true
   },
   "outputs": [],
   "source": [
    "#<твой код>"
   ]
  },
  {
   "cell_type": "markdown",
   "metadata": {},
   "source": [
    "Обучи модель и построй полученную прямую вида $y = w_0^* + w_1^* x$ на графике:\n",
    "\n",
    "---\n",
    "\n",
    "Train your model and plot the regression line $y = w_0^* + w_1^* x$ with effective parameters $w_0^*$, $w_1^*$:"
   ]
  },
  {
   "cell_type": "code",
   "execution_count": null,
   "metadata": {
    "collapsed": true
   },
   "outputs": [],
   "source": [
    "#<твой код>"
   ]
  },
  {
   "cell_type": "markdown",
   "metadata": {},
   "source": [
    "Построй прямые с другими весами $w_0, w_1$. Насколько увеличивается ошибка предсказания MSE?\n",
    "\n",
    "---\n",
    "\n",
    "Plot lines with the different weights $w_0, w_1$. What happens to the prediction error MSE?"
   ]
  },
  {
   "cell_type": "code",
   "execution_count": null,
   "metadata": {
    "collapsed": true
   },
   "outputs": [],
   "source": [
    "#<твой код>"
   ]
  },
  {
   "cell_type": "markdown",
   "metadata": {},
   "source": [
    "Построй графики сходимости метода градиентного спуска (ось $x$ -- номер итерации, ось $y$ -- величина функционала ошибки). При хорошо выбранном $\\alpha$ с увеличением номера итерации функционал должен уменьшаться!\n",
    "\n",
    "На одном графике должны быть кривые для следующих значений параметра $\\alpha$:\n",
    "- $\\alpha = 0.0001$\n",
    "- $\\alpha = 0.001$\n",
    "- $\\alpha = 0.01$\n",
    "- $\\alpha = 0.1$\n",
    "- $\\alpha = 1$\n",
    "\n",
    "---\n",
    "\n",
    "Plot gradient descent convergence curves ($x$ axis -- iteration number, $y$ axis -- error function $J(X, y, w)$ value). If $\\alpha$ is small enough the error function decreases!\n",
    "\n",
    "Plot convergence curves with the different $\\alpha$ values:\n",
    "- $\\alpha = 0.0001$\n",
    "- $\\alpha = 0.001$\n",
    "- $\\alpha = 0.01$\n",
    "- $\\alpha = 0.1$\n",
    "- $\\alpha = 1$"
   ]
  },
  {
   "cell_type": "code",
   "execution_count": null,
   "metadata": {
    "collapsed": true
   },
   "outputs": [],
   "source": [
    "#<твой код>"
   ]
  },
  {
   "cell_type": "markdown",
   "metadata": {},
   "source": [
    "## Многоклассовая классификация\n",
    "\n",
    "Помимо бинарной классификации часто приходится решать задачу разбиения на несколько классов. Сравним два возможных подхода к её решению: классификации one-vs-rest и one-vs-one. В качестве классификатора возьмём логистическую регрессию (отделяет классы прямыми).\n",
    "\n",
    "Сначала сгенерируем данные ($3$ кластера, признаковое пространство размерности $2$):\n",
    "\n",
    "---\n",
    "\n",
    "Sometimes you need to classify objects not only in 2 classes but in 3, 4, 5, etc. There're two methods to do that: one-vs-rest and one-vs-one classification. Let's compare these methods ([multiclass on wiki](https://en.wikipedia.org/wiki/Multiclass_classification#One-vs.-rest))"
   ]
  },
  {
   "cell_type": "code",
   "execution_count": 32,
   "metadata": {
    "collapsed": false
   },
   "outputs": [],
   "source": [
    "from sklearn.datasets import make_blobs\n",
    "\n",
    "l = 300\n",
    "K = 3\n",
    "n = 2\n",
    "mult_data, mult_target = {}, {}\n",
    "random_states_range = (753, 1053)\n",
    "for i in random_states_range:\n",
    "    mult_data[i], mult_target[i] = make_blobs(n_samples=l, n_features=n, centers=K, random_state=i)"
   ]
  },
  {
   "cell_type": "markdown",
   "metadata": {},
   "source": [
    "Функция для визуализации одного набора данных:"
   ]
  },
  {
   "cell_type": "code",
   "execution_count": 33,
   "metadata": {
    "collapsed": true
   },
   "outputs": [],
   "source": [
    "def plot_data(data, target):\n",
    "    class_colors = ('b', 'g', 'r')\n",
    "    for class_num, t in enumerate(np.unique(target)):\n",
    "        plt.scatter(data[:, 0][target == t], data[:, 1][target == t], c=class_colors[class_num])"
   ]
  },
  {
   "cell_type": "code",
   "execution_count": null,
   "metadata": {
    "collapsed": false
   },
   "outputs": [],
   "source": [
    "for i in random_states_range:\n",
    "    plot_data(mult_data[i], mult_target[i])\n",
    "    plt.show()"
   ]
  },
  {
   "cell_type": "markdown",
   "metadata": {},
   "source": [
    "### One-vs-Rest\n",
    "Напишите функцию `binarize_ovr(data, target, k)`, которая для класса с меткой $k$ возвращает переразмеченные выборки по стратегии <$k$ vs не $k$>.\n",
    "\n",
    "---\n",
    "\n",
    "Write a function `binarize_ovr(data, target, k)` which relabels your data with the <$k$ vs not $k$> strategy."
   ]
  },
  {
   "cell_type": "code",
   "execution_count": null,
   "metadata": {
    "collapsed": true
   },
   "outputs": [],
   "source": [
    "def binarize_ovr(data, target, k):\n",
    "    #<твой код>\n",
    "    return"
   ]
  },
  {
   "cell_type": "markdown",
   "metadata": {},
   "source": [
    "### One-vs-One\n",
    "Напишите функцию `binarize_ovo(data, target, k1, k2)`, которая для классов с метками $k_1$, $k_2$ возвращает переразмеченные выборки по стратегии <$k_1$ vs $k_2$>.\n",
    "\n",
    "---\n",
    "\n",
    "Write a function `binarize_ovo(data, target, k1, k2)` which relabels your data with the <$k_1$ vs $k_2$> strategy."
   ]
  },
  {
   "cell_type": "code",
   "execution_count": 35,
   "metadata": {
    "collapsed": true
   },
   "outputs": [],
   "source": [
    "def binarize_ovo(data, target, k1, k2):\n",
    "    #<твой код>\n",
    "    return"
   ]
  },
  {
   "cell_type": "markdown",
   "metadata": {},
   "source": [
    "### Сравнение двух подходов\n",
    "\n",
    "Проделайте следующие шаги для каждой стратегии и прокомментируйте полученные результаты:\n",
    "\n",
    "- для каждой выборки: изобразите точки выборки, а также разделяющие прямые (их должно быть по 3 для каждой из стратегий)\n",
    "- какие особенности, преимущества и недостатки характерны для каждого метода?\n",
    "На что обратить внимание:\n",
    "  * качество разделения классов\n",
    "  * вычислительная эффективность\n",
    "- приведите примеры ситуаций, когда стоит выбирать данную стратегию для решения задачи многоклассовой классификации\n"
   ]
  },
  {
   "cell_type": "code",
   "execution_count": null,
   "metadata": {
    "collapsed": true
   },
   "outputs": [],
   "source": [
    "from sklearn.linear_model import LogisticRegression"
   ]
  },
  {
   "cell_type": "code",
   "execution_count": null,
   "metadata": {
    "collapsed": true
   },
   "outputs": [],
   "source": [
    "#<твой код>"
   ]
  },
  {
   "cell_type": "markdown",
   "metadata": {},
   "source": [
    "#### Твои выводы:\n",
    "\n",
    "---"
   ]
  }
 ],
 "metadata": {
  "anaconda-cloud": {},
  "kernelspec": {
   "display_name": "Python 3",
   "language": "python",
   "name": "python3"
  },
  "language_info": {
   "codemirror_mode": {
    "name": "ipython",
    "version": 3
   },
   "file_extension": ".py",
   "mimetype": "text/x-python",
   "name": "python",
   "nbconvert_exporter": "python",
   "pygments_lexer": "ipython3",
   "version": "3.5.5"
  }
 },
 "nbformat": 4,
 "nbformat_minor": 2
}
