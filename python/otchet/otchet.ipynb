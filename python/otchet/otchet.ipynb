{
 "cells": [
  {
   "cell_type": "code",
   "execution_count": 10,
   "metadata": {},
   "outputs": [],
   "source": [
    "import matplotlib.pyplot as plt"
   ]
  },
  {
   "cell_type": "code",
   "execution_count": 203,
   "metadata": {},
   "outputs": [],
   "source": [
    "#!/usr/bin/env python3\n",
    "# -*- coding: utf-8 -*-\n",
    "\n",
    "\n",
    "from math import sqrt\n",
    "\n",
    "\n",
    "L = 0.7\n",
    "g = 9.8\n",
    "R = 0.15\n",
    "m = 0.173\n",
    "I = m * R * R / 2\n",
    "h0 = 0.2\n",
    "\n",
    "def count_T(hi, hj):\n",
    "    return 2 * 1/(4 * hi / sqrt ((2 * hi * g) / (1 + I / (m * R * R))))\n",
    "    #return sqrt((2 * ((hi + hj) * (1 + I / (m * R * R))) / g))\n",
    "\n",
    "\n",
    "def main(arr):\n",
    "    hq = []\n",
    "    h_q = []\n",
    "    Tq = []\n",
    "    tq = []\n",
    "    dtq = []\n",
    "    for i in range(1, len(arr) - 1):\n",
    "        h, t = arr[i]\n",
    "        h_ = 0.66 - h\n",
    "        t_ = t - arr[i - 1][1]\n",
    "        T = count_T(h_, 0.66 - arr[i + 1][0])\n",
    "\n",
    "        dh = 0.015\n",
    "        eh = dh / h\n",
    "        dL = dh\n",
    "        eL = dL / L\n",
    "        dh_ = dL + dh\n",
    "        eh_ = dh_ / h_\n",
    "\n",
    "        eT = sqrt(eh_)\n",
    "        dT = T * eT\n",
    "        #print(\"h' = {:.2} +- {:.2} | T = {:.2} +- {:.2}\".format(h_, dh_, T, dT))\n",
    "        \n",
    "        hq.append(h)\n",
    "        h_q.append(h_)\n",
    "        Tq.append(T)\n",
    "        tq.append(t)\n",
    "        dtq.append(t_)\n",
    "\n",
    "    h0s.append(hq)\n",
    "    h_s.append(h_q)\n",
    "    Ts.append(Tq)\n",
    "    ts.append(tq)\n",
    "    dts.append(dtq)"
   ]
  },
  {
   "cell_type": "code",
   "execution_count": 204,
   "metadata": {},
   "outputs": [],
   "source": [
    "expirement1 = [\n",
    "    [0.20, 0.0],\n",
    "    [0.31, 18.0],\n",
    "    [0.38, 34.8],\n",
    "    [0.43, 50.2],\n",
    "    [0.47, 64.0],\n",
    "    [0.51, 77.0],\n",
    "    [0.53, 88.6],\n",
    "    [0.54, 101.6],\n",
    "    [0.57, 111.2],\n",
    "    [0.58, 122.4],\n",
    "    [0.60, 131.4],\n",
    "    [0.61, 140.3],\n",
    "    [0.62, 149.0],\n",
    "    [0.63, 156.9],\n",
    "    [0.63, 166.7],\n",
    "    [0.64, 173.6],\n",
    "    [0.65, 181.1],\n",
    "    [0.65, 187.6],\n",
    "    [0.66, 194.6],\n",
    "]\n",
    "\n",
    "expirement2 = [\n",
    "    [0.20, 0.0],\n",
    "    [0.30, 18.8],\n",
    "    [0.38, 37.7],\n",
    "    [0.44, 51.0],\n",
    "    [0.48, 65.3],\n",
    "    [0.51, 79.2],\n",
    "    [0.52, 90.4],\n",
    "    [0.55, 102.5],\n",
    "    [0.57, 113.2],\n",
    "    [0.58, 124.0],\n",
    "    [0.60, 132.7],\n",
    "    [0.61, 141.9],\n",
    "    [0.62, 151.6],\n",
    "    [0.63, 159.6],\n",
    "    [0.63, 160.3],\n",
    "    [0.64, 167.6],\n",
    "    [0.65, 175.5],\n",
    "    [0.65, 188.2],\n",
    "    [0.66, 190.2],\n",
    "]\n",
    "\n",
    "expirement3 = [\n",
    "    [0.20, 0.0],\n",
    "    [0.30, 21.7],\n",
    "    [0.38, 36.4],\n",
    "    [0.44, 51.5],\n",
    "    [0.48, 65.7],\n",
    "    [0.51, 79.7],\n",
    "    [0.53, 89.9],\n",
    "    [0.55, 103.3],\n",
    "    [0.57, 113.1],\n",
    "    [0.58, 123.4],\n",
    "    [0.60, 133.3],\n",
    "    [0.61, 141.6],\n",
    "    [0.62, 150.8],\n",
    "    [0.63, 159.3],\n",
    "    [0.63, 167.7],\n",
    "    [0.64, 175.7],\n",
    "    [0.64, 183.6],\n",
    "    [0.65, 189.5],\n",
    "    [0.66, 190.1],\n",
    "]"
   ]
  },
  {
   "cell_type": "code",
   "execution_count": 208,
   "metadata": {},
   "outputs": [
    {
     "data": {
      "image/png": "[encoded data removed]",
      "text/plain": [
       "<Figure size 432x288 with 1 Axes>"
      ]
     },
     "metadata": {},
     "output_type": "display_data"
    },
    {
     "data": {
      "image/png": "[encoded data removed]",
      "text/plain": [
       "<Figure size 432x288 with 1 Axes>"
      ]
     },
     "metadata": {},
     "output_type": "display_data"
    }
   ],
   "source": [
    "h0s = []\n",
    "Ts = []\n",
    "ts = []\n",
    "dts = []\n",
    "h_s = []\n",
    "main(expirement1)\n",
    "main(expirement2)\n",
    "main(expirement3)\n",
    "\n",
    "plt.plot(h0s[0], list(reversed(Ts[0])), 'bs', h0s[0], dts[0], 'ro', h0s[0], dts[1], 'ro', h0s[0], dts[2], 'ro')\n",
    "plt.ylabel('период T, с')\n",
    "plt.xlabel(\"высота h', м\")\n",
    "plt.show()\n",
    "\n",
    "plt.plot(ts[0], h_s[0], 'ro', ts[1], h_s[1], 'r--', ts[2], h_s[2], 'bs')\n",
    "plt.ylabel('высота h0, м')\n",
    "plt.xlabel(\"время t, с\")\n",
    "plt.show()"
   ]
  },
  {
   "cell_type": "code",
   "execution_count": null,
   "metadata": {},
   "outputs": [],
   "source": []
  },
  {
   "cell_type": "code",
   "execution_count": null,
   "metadata": {},
   "outputs": [],
   "source": []
  }
 ],
 "metadata": {
  "kernelspec": {
   "display_name": "Python 3",
   "language": "python",
   "name": "python3"
  },
  "language_info": {
   "codemirror_mode": {
    "name": "ipython",
    "version": 3
   },
   "file_extension": ".py",
   "mimetype": "text/x-python",
   "name": "python",
   "nbconvert_exporter": "python",
   "pygments_lexer": "ipython3",
   "version": "3.6.2"
  }
 },
 "nbformat": 4,
 "nbformat_minor": 2
}
